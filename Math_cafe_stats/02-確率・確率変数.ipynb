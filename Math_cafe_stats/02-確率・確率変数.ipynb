{
 "cells": [
  {
   "cell_type": "code",
   "execution_count": 56,
   "metadata": {
    "collapsed": false
   },
   "outputs": [],
   "source": [
    "import cv2, glob, sys, os\n",
    "import numpy as np\n",
    "import pandas as pd\n",
    "import numpy.random as rd\n",
    "import scipy as sp\n",
    "from scipy import stats as st\n",
    "from collections import Counter\n",
    "\n",
    "import matplotlib\n",
    "import matplotlib.pyplot as plt\n",
    "import matplotlib.cm as cm\n",
    "import seaborn as sns\n",
    "sns.set(style=\"darkgrid\", palette=\"muted\", color_codes=True)\n",
    "%matplotlib inline\n",
    "plt.rcParams[\"patch.force_edgecolor\"] = True\n",
    "import sys\n",
    "import os\n",
    "\n",
    "# OS判別 ======================\n",
    "flag_win32 = False\n",
    "try:\n",
    "    os.uname()\n",
    "except AttributeError:\n",
    "    flag_win32 = True\n",
    "\n",
    "# Mac用フォント設定\n",
    "if not flag_win32:\n",
    "    from matplotlib import font_manager\n",
    "    font_path = '/Library/Fonts/Osaka.ttf'\n",
    "    font_prop = font_manager.FontProperties(fname=font_path)\n",
    "    matplotlib.rcParams['font.family'] = font_prop.get_name()\n",
    "    plt.rcParams['font.family'] = 'Osaka'"
   ]
  },
  {
   "cell_type": "markdown",
   "metadata": {},
   "source": [
    "## 01-コイン投げ"
   ]
  },
  {
   "cell_type": "code",
   "execution_count": 80,
   "metadata": {
    "collapsed": false
   },
   "outputs": [
    {
     "data": {
      "text/plain": [
       "['裏', '裏', '表', '表', '表', '表', '表', '表', '裏', '表', '裏', '裏', '表', '裏', '表']"
      ]
     },
     "execution_count": 80,
     "metadata": {},
     "output_type": "execute_result"
    }
   ],
   "source": [
    "label = {0:\"裏\", 1:\"表\"}\n",
    "#rd.seed = 71\n",
    "n_trial = 15\n",
    "p = 0.5\n",
    "coin_toss = st.bernoulli.rvs(p, size=n_trial)\n",
    "result = list(map(lambda x: label[x], coin_toss))\n",
    "result"
   ]
  },
  {
   "cell_type": "code",
   "execution_count": 81,
   "metadata": {
    "collapsed": false
   },
   "outputs": [
    {
     "data": {
      "text/plain": [
       "Counter({'表': 9, '裏': 6})"
      ]
     },
     "execution_count": 81,
     "metadata": {},
     "output_type": "execute_result"
    }
   ],
   "source": [
    "Counter(result)"
   ]
  },
  {
   "cell_type": "code",
   "execution_count": 82,
   "metadata": {
    "collapsed": false
   },
   "outputs": [
    {
     "data": {
      "image/png": "[encoded data removed]",
      "text/plain": [
       "<matplotlib.figure.Figure at 0x11b87cc88>"
      ]
     },
     "metadata": {},
     "output_type": "display_data"
    }
   ],
   "source": [
    "plt.hist(coin_toss, normed=False)\n",
    "plt.title(\"Bernoulli. n_trial={}\".format(n_trial))\n",
    "plt.xticks([0.05, 0.95],[\"裏\",\"表\"])\n",
    "plt.show()"
   ]
  },
  {
   "cell_type": "code",
   "execution_count": 84,
   "metadata": {
    "collapsed": false
   },
   "outputs": [
    {
     "data": {
      "image/png": "[encoded data removed]",
      "text/plain": [
       "<matplotlib.figure.Figure at 0x11b66f240>"
      ]
     },
     "metadata": {},
     "output_type": "display_data"
    }
   ],
   "source": [
    "n_trial = 500\n",
    "coin_toss = st.bernoulli.rvs(0.5, size=n_trial)\n",
    "plt.hist(coin_toss, normed=False)\n",
    "plt.title(\"Bernoulli. n_trial={}\".format(n_trial))\n",
    "plt.xticks([0.05, 0.95],[\"裏\",\"表\"])\n",
    "plt.show()"
   ]
  },
  {
   "cell_type": "code",
   "execution_count": 85,
   "metadata": {
    "collapsed": false,
    "scrolled": true
   },
   "outputs": [
    {
     "data": {
      "image/png": "[encoded data removed]",
      "text/plain": [
       "<matplotlib.figure.Figure at 0x11b6839e8>"
      ]
     },
     "metadata": {},
     "output_type": "display_data"
    }
   ],
   "source": [
    "n_trial = 5000\n",
    "coin_toss = st.bernoulli.rvs(0.5, size=n_trial)\n",
    "plt.hist(coin_toss, normed=False)\n",
    "plt.title(\"Bernoulli. n_trial={}\".format(n_trial))\n",
    "plt.xticks([0.05, 0.95],[\"裏\",\"表\"])\n",
    "plt.show()"
   ]
  },
  {
   "cell_type": "markdown",
   "metadata": {},
   "source": [
    "## 02-サイコロ投げ"
   ]
  },
  {
   "cell_type": "code",
   "execution_count": 120,
   "metadata": {
    "collapsed": false
   },
   "outputs": [
    {
     "data": {
      "text/plain": [
       "array([1, 6, 2, 4, 3, 6, 1, 6, 3, 6, 1, 4, 5, 4, 6, 4, 2, 5, 6, 6, 1, 4, 6,\n",
       "       5, 5, 5, 6, 6, 6, 5])"
      ]
     },
     "execution_count": 120,
     "metadata": {},
     "output_type": "execute_result"
    }
   ],
   "source": [
    "#rd.seed = 71\n",
    "n_trial = 30\n",
    "dice = rd.multinomial(1, [1/6]*6, size=n_trial)\n",
    "result = np.argmax(dice, axis=1)+1\n",
    "result"
   ]
  },
  {
   "cell_type": "code",
   "execution_count": 121,
   "metadata": {
    "collapsed": false
   },
   "outputs": [
    {
     "data": {
      "text/plain": [
       "Counter({1: 4, 2: 2, 3: 2, 4: 5, 5: 6, 6: 11})"
      ]
     },
     "execution_count": 121,
     "metadata": {},
     "output_type": "execute_result"
    }
   ],
   "source": [
    "Counter(result)"
   ]
  },
  {
   "cell_type": "code",
   "execution_count": 124,
   "metadata": {
    "collapsed": false
   },
   "outputs": [
    {
     "data": {
      "image/png": "[encoded data removed]",
      "text/plain": [
       "<matplotlib.figure.Figure at 0x11c135cc0>"
      ]
     },
     "metadata": {},
     "output_type": "display_data"
    }
   ],
   "source": [
    "plt.hist(result, bins=6)\n",
    "plt.title(\"Dice trial. n_trial={}\".format(n_trial))\n",
    "plt.xlim(1, 6)\n",
    "plt.show()\n"
   ]
  },
  {
   "cell_type": "code",
   "execution_count": 125,
   "metadata": {
    "collapsed": false
   },
   "outputs": [
    {
     "data": {
      "image/png": "[encoded data removed]",
      "text/plain": [
       "<matplotlib.figure.Figure at 0x11bd34a20>"
      ]
     },
     "metadata": {},
     "output_type": "display_data"
    }
   ],
   "source": [
    "n_trial = 5000\n",
    "dice = rd.multinomial(1, [1/6]*6, size=n_trial)\n",
    "result = np.argmax(dice, axis=1)+1\n",
    "plt.hist(result, bins=6)\n",
    "plt.title(\"Dice trial. n_trial={}\".format(n_trial))\n",
    "plt.xlim(1, 6)\n",
    "plt.show()\n"
   ]
  },
  {
   "cell_type": "code",
   "execution_count": 126,
   "metadata": {
    "collapsed": false
   },
   "outputs": [
    {
     "data": {
      "image/png": "[encoded data removed]",
      "text/plain": [
       "<matplotlib.figure.Figure at 0x11c243d68>"
      ]
     },
     "metadata": {},
     "output_type": "display_data"
    }
   ],
   "source": [
    "n_trial = 50000\n",
    "dice = rd.multinomial(1, [1/6]*6, size=n_trial)\n",
    "result = np.argmax(dice, axis=1)+1\n",
    "plt.hist(result, bins=6)\n",
    "plt.title(\"Dice trial. n_trial={}\".format(n_trial))\n",
    "plt.xlim(1, 6)\n",
    "plt.show()\n"
   ]
  },
  {
   "cell_type": "code",
   "execution_count": 127,
   "metadata": {
    "collapsed": false
   },
   "outputs": [
    {
     "data": {
      "image/png": "[encoded data removed]",
      "text/plain": [
       "<matplotlib.figure.Figure at 0x11b9479e8>"
      ]
     },
     "metadata": {},
     "output_type": "display_data"
    }
   ],
   "source": [
    "n_trial = 500000\n",
    "dice = rd.multinomial(1, [1/6]*6, size=n_trial)\n",
    "result = np.argmax(dice, axis=1)+1\n",
    "plt.hist(result, bins=6)\n",
    "plt.title(\"Dice trial. n_trial={}\".format(n_trial))\n",
    "plt.xlim(1, 6)\n",
    "plt.show()"
   ]
  },
  {
   "cell_type": "code",
   "execution_count": 128,
   "metadata": {
    "collapsed": false
   },
   "outputs": [
    {
     "data": {
      "image/png": "[encoded data removed]",
      "text/plain": [
       "<matplotlib.figure.Figure at 0x11c2e8b38>"
      ]
     },
     "metadata": {},
     "output_type": "display_data"
    }
   ],
   "source": [
    "n_trial = 5000000\n",
    "dice = rd.multinomial(1, [1/6]*6, size=n_trial)\n",
    "result = np.argmax(dice, axis=1)+1\n",
    "plt.hist(result, bins=6)\n",
    "plt.title(\"Dice trial. n_trial={}\".format(n_trial))\n",
    "plt.xlim(1, 6)\n",
    "plt.show()"
   ]
  },
  {
   "cell_type": "code",
   "execution_count": null,
   "metadata": {
    "collapsed": true
   },
   "outputs": [],
   "source": []
  }
 ],
 "metadata": {
  "kernelspec": {
   "display_name": "Python [Root]",
   "language": "python",
   "name": "Python [Root]"
  },
  "language_info": {
   "codemirror_mode": {
    "name": "ipython",
    "version": 3
   },
   "file_extension": ".py",
   "mimetype": "text/x-python",
   "name": "python",
   "nbconvert_exporter": "python",
   "pygments_lexer": "ipython3",
   "version": "3.5.2"
  }
 },
 "nbformat": 4,
 "nbformat_minor": 0
}
