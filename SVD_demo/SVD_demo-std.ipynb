{
 "cells": [
  {
   "cell_type": "code",
   "execution_count": 1,
   "metadata": {
    "collapsed": true
   },
   "outputs": [],
   "source": [
    "import math, sys, functools, os, codecs\n",
    "import importlib  \n",
    "from glob import glob\n",
    "import sqlite3\n",
    "import numpy as np\n",
    "import numpy.random as rd\n",
    "from numpy import matrix\n",
    "import pandas as pd\n",
    "import scipy as sp\n",
    "from scipy import stats as st\n",
    "from datetime import  datetime as dt\n",
    "from collections import Counter\n",
    "from itertools import chain\n",
    "import multiprocessing as mp\n",
    "from distutils.version import LooseVersion\n",
    "\n",
    "import matplotlib\n",
    "from matplotlib import font_manager\n",
    "import matplotlib.pyplot as plt\n",
    "import matplotlib.cm as cm\n",
    "from matplotlib import rc\n",
    "plt.rcParams[\"patch.force_edgecolor\"] = True\n",
    "#rc('text', usetex=True)\n",
    "from IPython.display import display # Allows the use of display() for DataFrames\n",
    "import seaborn as sns\n",
    "sns.set(style=\"whitegrid\", palette=\"muted\", color_codes=True)\n",
    "sns.set_style(\"whitegrid\", {'grid.linestyle': '--'})\n",
    "red = sns.xkcd_rgb[\"light red\"]\n",
    "green = sns.xkcd_rgb[\"medium green\"]\n",
    "blue = sns.xkcd_rgb[\"denim blue\"]\n",
    "%matplotlib inline\n",
    "\n",
    "%config InlineBackend.figure_format='retina'\n",
    "# OS判別 ======================\n",
    "flag_win32 = False\n",
    "try:\n",
    "    os.uname()\n",
    "except AttributeError:\n",
    "    flag_win32 = True\n",
    "\n",
    "# Mac用フォント設定\n",
    "# if not flag_win32:\n",
    "#     font_path = '/Library/Fonts/Osaka.ttc'\n",
    "#     font_prop = font_manager.FontProperties(fname=font_path)\n",
    "#     matplotlib.rcParams['font.family'] = font_prop.get_name()\n",
    "#     plt.rcParams['font.family'] = 'Osaka'\n",
    "\n",
    "\n",
    "def current_time():\n",
    "    return dt.strftime(dt.now(),'%Y-%m-%d %H:%M:%S')\n",
    "    \n",
    "from sklearn.preprocessing import StandardScaler"
   ]
  },
  {
   "cell_type": "code",
   "execution_count": 2,
   "metadata": {
    "collapsed": true
   },
   "outputs": [],
   "source": [
    "# 身長体重データセット\n",
    "X = [[172.13, 63.94],\n",
    "    [183.87, 85.54],\n",
    "    [179.54, 80.94],\n",
    "    [173.62, 72.99],\n",
    "    [167.83, 62.86],\n",
    "    [174.38, 75.47],\n",
    "    [171.38, 68.83],\n",
    "    [171.1, 68.51],\n",
    "    [169.39, 66.44],\n",
    "    [174.26, 74.05],\n",
    "    [171.87, 70.40],\n",
    "    [163.64, 57.51],\n",
    "    [166.51, 60.41],\n",
    "    [159.39, 51.34],\n",
    "    [167.17, 62.03],\n",
    "    [168.36, 61.11],\n",
    "    [161.17, 55.65],\n",
    "    [169.75, 67.04],\n",
    "    [179.97, 62.40],\n",
    "    [166.95, 60.61]]\n",
    "X = np.array(X)"
   ]
  },
  {
   "cell_type": "code",
   "execution_count": 3,
   "metadata": {},
   "outputs": [],
   "source": [
    "# 標準化\n",
    "sc = StandardScaler()\n",
    "X = sc.fit_transform(X)"
   ]
  },
  {
   "cell_type": "code",
   "execution_count": 4,
   "metadata": {
    "collapsed": true
   },
   "outputs": [],
   "source": [
    "\n",
    "# 特異値分解実行\n",
    "U, d, V = np.linalg.svd(X, full_matrices=False)\n",
    "#D = np.diag([d[i] if i<len(d) else 0 for i in range(X.shape[0])])\n",
    "D = np.diag(d)"
   ]
  },
  {
   "cell_type": "code",
   "execution_count": 5,
   "metadata": {},
   "outputs": [
    {
     "data": {
      "text/plain": [
       "array([ 0.93211384,  0.06788616])"
      ]
     },
     "execution_count": 5,
     "metadata": {},
     "output_type": "execute_result"
    }
   ],
   "source": [
    "#\n",
    "d2 = d**2\n",
    "svd_explained_variance_ratio_ = d2/np.sum(d2)\n",
    "svd_explained_variance_ratio_"
   ]
  },
  {
   "cell_type": "code",
   "execution_count": 6,
   "metadata": {
    "scrolled": false
   },
   "outputs": [
    {
     "name": "stdout",
     "output_type": "stream",
     "text": [
      "(20, 2)\n",
      "2\n"
     ]
    },
    {
     "data": {
      "text/plain": [
       "array([[ 0.00501404,  0.23769237],\n",
       "       [-0.52714703, -0.03739248],\n",
       "       [-0.37813008, -0.11104447],\n",
       "       [-0.15107986, -0.12535459],\n",
       "       [ 0.10403566, -0.01688004],\n",
       "       [-0.20071369, -0.19942593],\n",
       "       [-0.04899986, -0.07085501],\n",
       "       [-0.03904726, -0.07444531],\n",
       "       [ 0.02335897, -0.09035307],\n",
       "       [-0.17844082, -0.13423842],\n",
       "       [-0.08059428, -0.11710587],\n",
       "       [ 0.26084998, -0.04140436],\n",
       "       [ 0.1641699 ,  0.01516148],\n",
       "       [ 0.43034481, -0.0276134 ],\n",
       "       [ 0.12855817, -0.02140471],\n",
       "       [ 0.11826398,  0.11244544],\n",
       "       [ 0.3351305 , -0.12315778],\n",
       "       [ 0.00791579, -0.09554528],\n",
       "       [-0.12627023,  0.8843653 ],\n",
       "       [ 0.1527813 ,  0.03655612]])"
      ]
     },
     "execution_count": 6,
     "metadata": {},
     "output_type": "execute_result"
    }
   ],
   "source": [
    "print(U.shape)\n",
    "print(np.linalg.matrix_rank(U))\n",
    "U"
   ]
  },
  {
   "cell_type": "code",
   "execution_count": 7,
   "metadata": {},
   "outputs": [
    {
     "name": "stdout",
     "output_type": "stream",
     "text": [
      "(2, 2)\n",
      "2\n"
     ]
    },
    {
     "data": {
      "text/plain": [
       "array([[ 6.1061079 ,  0.        ],\n",
       "       [ 0.        ,  1.64786114]])"
      ]
     },
     "execution_count": 7,
     "metadata": {},
     "output_type": "execute_result"
    }
   ],
   "source": [
    "print(D.shape)\n",
    "print(np.linalg.matrix_rank(D))\n",
    "D"
   ]
  },
  {
   "cell_type": "code",
   "execution_count": 8,
   "metadata": {},
   "outputs": [
    {
     "name": "stdout",
     "output_type": "stream",
     "text": [
      "(2, 2)\n",
      "2\n"
     ]
    },
    {
     "data": {
      "text/plain": [
       "array([[-0.70710678, -0.70710678],\n",
       "       [ 0.70710678, -0.70710678]])"
      ]
     },
     "execution_count": 8,
     "metadata": {},
     "output_type": "execute_result"
    }
   ],
   "source": [
    "print(V.shape)\n",
    "print(np.linalg.matrix_rank(V))\n",
    "V"
   ]
  },
  {
   "cell_type": "markdown",
   "metadata": {},
   "source": [
    "# 次元削減による近似を行わないフルバージョン"
   ]
  },
  {
   "cell_type": "code",
   "execution_count": 9,
   "metadata": {},
   "outputs": [
    {
     "name": "stdout",
     "output_type": "stream",
     "text": [
      "(20, 2) (2, 2) (2, 2)\n"
     ]
    }
   ],
   "source": [
    "print(U.shape, D.shape, V.shape)\n",
    "UD = np.dot(U, D)"
   ]
  },
  {
   "cell_type": "code",
   "execution_count": 10,
   "metadata": {},
   "outputs": [
    {
     "data": {
      "text/plain": [
       "array([[ 0.25531343, -0.29861141],\n",
       "       [ 2.23247683,  2.31961729],\n",
       "       [ 1.50325047,  1.76203155],\n",
       "       [ 0.50624814,  0.79837793],\n",
       "       [-0.46886055, -0.42952284],\n",
       "       [ 0.63424168,  1.09898937],\n",
       "       [ 0.12900402,  0.29412648],\n",
       "       [ 0.0818485 ,  0.25533791],\n",
       "       [-0.20613697,  0.00442432],\n",
       "       [ 0.61403218,  0.92686508],\n",
       "       [ 0.21152617,  0.48443292],\n",
       "       [-1.17450916, -1.0780193 ],\n",
       "       [-0.69116513, -0.72649786],\n",
       "       [-1.89026252, -1.82591148],\n",
       "       [-0.58001284, -0.5301307 ],\n",
       "       [-0.3796019 , -0.64164785],\n",
       "       [-1.59048817, -1.30347788],\n",
       "       [-0.14550845,  0.0771529 ],\n",
       "       [ 1.57566786, -0.48528142],\n",
       "       [-0.6170636 , -0.702255  ]])"
      ]
     },
     "execution_count": 10,
     "metadata": {},
     "output_type": "execute_result"
    }
   ],
   "source": [
    "X_hat_full = np.dot(UD,V)\n",
    "X_hat_full"
   ]
  },
  {
   "cell_type": "code",
   "execution_count": null,
   "metadata": {
    "collapsed": true
   },
   "outputs": [],
   "source": []
  },
  {
   "cell_type": "code",
   "execution_count": 11,
   "metadata": {},
   "outputs": [
    {
     "data": {
      "text/html": [
       "<div>\n",
       "<style scoped>\n",
       "    .dataframe tbody tr th:only-of-type {\n",
       "        vertical-align: middle;\n",
       "    }\n",
       "\n",
       "    .dataframe tbody tr th {\n",
       "        vertical-align: top;\n",
       "    }\n",
       "\n",
       "    .dataframe thead th {\n",
       "        text-align: right;\n",
       "    }\n",
       "</style>\n",
       "<table border=\"1\" class=\"dataframe\">\n",
       "  <thead>\n",
       "    <tr style=\"text-align: right;\">\n",
       "      <th></th>\n",
       "      <th>height_original</th>\n",
       "      <th>weight_original</th>\n",
       "      <th>height_reduced</th>\n",
       "      <th>weight_reduced</th>\n",
       "      <th>height_diff</th>\n",
       "      <th>weight_diff</th>\n",
       "    </tr>\n",
       "  </thead>\n",
       "  <tbody>\n",
       "    <tr>\n",
       "      <th>0</th>\n",
       "      <td>172.13</td>\n",
       "      <td>63.94</td>\n",
       "      <td>172.13</td>\n",
       "      <td>63.94</td>\n",
       "      <td>0.0</td>\n",
       "      <td>-1.421085e-14</td>\n",
       "    </tr>\n",
       "    <tr>\n",
       "      <th>1</th>\n",
       "      <td>183.87</td>\n",
       "      <td>85.54</td>\n",
       "      <td>183.87</td>\n",
       "      <td>85.54</td>\n",
       "      <td>0.0</td>\n",
       "      <td>-1.421085e-14</td>\n",
       "    </tr>\n",
       "    <tr>\n",
       "      <th>2</th>\n",
       "      <td>179.54</td>\n",
       "      <td>80.94</td>\n",
       "      <td>179.54</td>\n",
       "      <td>80.94</td>\n",
       "      <td>0.0</td>\n",
       "      <td>0.000000e+00</td>\n",
       "    </tr>\n",
       "    <tr>\n",
       "      <th>3</th>\n",
       "      <td>173.62</td>\n",
       "      <td>72.99</td>\n",
       "      <td>173.62</td>\n",
       "      <td>72.99</td>\n",
       "      <td>0.0</td>\n",
       "      <td>0.000000e+00</td>\n",
       "    </tr>\n",
       "    <tr>\n",
       "      <th>4</th>\n",
       "      <td>167.83</td>\n",
       "      <td>62.86</td>\n",
       "      <td>167.83</td>\n",
       "      <td>62.86</td>\n",
       "      <td>0.0</td>\n",
       "      <td>0.000000e+00</td>\n",
       "    </tr>\n",
       "    <tr>\n",
       "      <th>5</th>\n",
       "      <td>174.38</td>\n",
       "      <td>75.47</td>\n",
       "      <td>174.38</td>\n",
       "      <td>75.47</td>\n",
       "      <td>0.0</td>\n",
       "      <td>0.000000e+00</td>\n",
       "    </tr>\n",
       "    <tr>\n",
       "      <th>6</th>\n",
       "      <td>171.38</td>\n",
       "      <td>68.83</td>\n",
       "      <td>171.38</td>\n",
       "      <td>68.83</td>\n",
       "      <td>0.0</td>\n",
       "      <td>0.000000e+00</td>\n",
       "    </tr>\n",
       "    <tr>\n",
       "      <th>7</th>\n",
       "      <td>171.10</td>\n",
       "      <td>68.51</td>\n",
       "      <td>171.10</td>\n",
       "      <td>68.51</td>\n",
       "      <td>0.0</td>\n",
       "      <td>0.000000e+00</td>\n",
       "    </tr>\n",
       "    <tr>\n",
       "      <th>8</th>\n",
       "      <td>169.39</td>\n",
       "      <td>66.44</td>\n",
       "      <td>169.39</td>\n",
       "      <td>66.44</td>\n",
       "      <td>0.0</td>\n",
       "      <td>0.000000e+00</td>\n",
       "    </tr>\n",
       "    <tr>\n",
       "      <th>9</th>\n",
       "      <td>174.26</td>\n",
       "      <td>74.05</td>\n",
       "      <td>174.26</td>\n",
       "      <td>74.05</td>\n",
       "      <td>0.0</td>\n",
       "      <td>0.000000e+00</td>\n",
       "    </tr>\n",
       "    <tr>\n",
       "      <th>10</th>\n",
       "      <td>171.87</td>\n",
       "      <td>70.40</td>\n",
       "      <td>171.87</td>\n",
       "      <td>70.40</td>\n",
       "      <td>0.0</td>\n",
       "      <td>0.000000e+00</td>\n",
       "    </tr>\n",
       "    <tr>\n",
       "      <th>11</th>\n",
       "      <td>163.64</td>\n",
       "      <td>57.51</td>\n",
       "      <td>163.64</td>\n",
       "      <td>57.51</td>\n",
       "      <td>0.0</td>\n",
       "      <td>0.000000e+00</td>\n",
       "    </tr>\n",
       "    <tr>\n",
       "      <th>12</th>\n",
       "      <td>166.51</td>\n",
       "      <td>60.41</td>\n",
       "      <td>166.51</td>\n",
       "      <td>60.41</td>\n",
       "      <td>0.0</td>\n",
       "      <td>0.000000e+00</td>\n",
       "    </tr>\n",
       "    <tr>\n",
       "      <th>13</th>\n",
       "      <td>159.39</td>\n",
       "      <td>51.34</td>\n",
       "      <td>159.39</td>\n",
       "      <td>51.34</td>\n",
       "      <td>0.0</td>\n",
       "      <td>0.000000e+00</td>\n",
       "    </tr>\n",
       "    <tr>\n",
       "      <th>14</th>\n",
       "      <td>167.17</td>\n",
       "      <td>62.03</td>\n",
       "      <td>167.17</td>\n",
       "      <td>62.03</td>\n",
       "      <td>0.0</td>\n",
       "      <td>0.000000e+00</td>\n",
       "    </tr>\n",
       "    <tr>\n",
       "      <th>15</th>\n",
       "      <td>168.36</td>\n",
       "      <td>61.11</td>\n",
       "      <td>168.36</td>\n",
       "      <td>61.11</td>\n",
       "      <td>0.0</td>\n",
       "      <td>0.000000e+00</td>\n",
       "    </tr>\n",
       "    <tr>\n",
       "      <th>16</th>\n",
       "      <td>161.17</td>\n",
       "      <td>55.65</td>\n",
       "      <td>161.17</td>\n",
       "      <td>55.65</td>\n",
       "      <td>0.0</td>\n",
       "      <td>7.105427e-15</td>\n",
       "    </tr>\n",
       "    <tr>\n",
       "      <th>17</th>\n",
       "      <td>169.75</td>\n",
       "      <td>67.04</td>\n",
       "      <td>169.75</td>\n",
       "      <td>67.04</td>\n",
       "      <td>0.0</td>\n",
       "      <td>0.000000e+00</td>\n",
       "    </tr>\n",
       "    <tr>\n",
       "      <th>18</th>\n",
       "      <td>179.97</td>\n",
       "      <td>62.40</td>\n",
       "      <td>179.97</td>\n",
       "      <td>62.40</td>\n",
       "      <td>0.0</td>\n",
       "      <td>0.000000e+00</td>\n",
       "    </tr>\n",
       "    <tr>\n",
       "      <th>19</th>\n",
       "      <td>166.95</td>\n",
       "      <td>60.61</td>\n",
       "      <td>166.95</td>\n",
       "      <td>60.61</td>\n",
       "      <td>0.0</td>\n",
       "      <td>0.000000e+00</td>\n",
       "    </tr>\n",
       "  </tbody>\n",
       "</table>\n",
       "</div>"
      ],
      "text/plain": [
       "    height_original  weight_original  height_reduced  weight_reduced  \\\n",
       "0            172.13            63.94          172.13           63.94   \n",
       "1            183.87            85.54          183.87           85.54   \n",
       "2            179.54            80.94          179.54           80.94   \n",
       "3            173.62            72.99          173.62           72.99   \n",
       "4            167.83            62.86          167.83           62.86   \n",
       "5            174.38            75.47          174.38           75.47   \n",
       "6            171.38            68.83          171.38           68.83   \n",
       "7            171.10            68.51          171.10           68.51   \n",
       "8            169.39            66.44          169.39           66.44   \n",
       "9            174.26            74.05          174.26           74.05   \n",
       "10           171.87            70.40          171.87           70.40   \n",
       "11           163.64            57.51          163.64           57.51   \n",
       "12           166.51            60.41          166.51           60.41   \n",
       "13           159.39            51.34          159.39           51.34   \n",
       "14           167.17            62.03          167.17           62.03   \n",
       "15           168.36            61.11          168.36           61.11   \n",
       "16           161.17            55.65          161.17           55.65   \n",
       "17           169.75            67.04          169.75           67.04   \n",
       "18           179.97            62.40          179.97           62.40   \n",
       "19           166.95            60.61          166.95           60.61   \n",
       "\n",
       "    height_diff   weight_diff  \n",
       "0           0.0 -1.421085e-14  \n",
       "1           0.0 -1.421085e-14  \n",
       "2           0.0  0.000000e+00  \n",
       "3           0.0  0.000000e+00  \n",
       "4           0.0  0.000000e+00  \n",
       "5           0.0  0.000000e+00  \n",
       "6           0.0  0.000000e+00  \n",
       "7           0.0  0.000000e+00  \n",
       "8           0.0  0.000000e+00  \n",
       "9           0.0  0.000000e+00  \n",
       "10          0.0  0.000000e+00  \n",
       "11          0.0  0.000000e+00  \n",
       "12          0.0  0.000000e+00  \n",
       "13          0.0  0.000000e+00  \n",
       "14          0.0  0.000000e+00  \n",
       "15          0.0  0.000000e+00  \n",
       "16          0.0  7.105427e-15  \n",
       "17          0.0  0.000000e+00  \n",
       "18          0.0  0.000000e+00  \n",
       "19          0.0  0.000000e+00  "
      ]
     },
     "execution_count": 11,
     "metadata": {},
     "output_type": "execute_result"
    }
   ],
   "source": [
    "df_full_compared = pd.DataFrame(np.c_[sc.inverse_transform(X), sc.inverse_transform(X_hat_full)], columns=[\"height_original\", \"weight_original\", \"height_reduced\", \"weight_reduced\"])\n",
    "df_full_compared[\"height_diff\"] = df_full_compared.apply(lambda x: x.height_original - x.height_reduced, axis=1)\n",
    "df_full_compared[\"weight_diff\"] = df_full_compared.apply(lambda x: x.weight_original - x.weight_reduced, axis=1)\n",
    "df_full_compared"
   ]
  },
  {
   "cell_type": "code",
   "execution_count": 12,
   "metadata": {},
   "outputs": [
    {
     "data": {
      "text/plain": [
       "Text(0.5,1,'weight, dim=full')"
      ]
     },
     "execution_count": 12,
     "metadata": {},
     "output_type": "execute_result"
    },
    {
     "data": {
      "image/png": "[encoded data removed]",
      "text/plain": [
       "<matplotlib.figure.Figure at 0x11c077358>"
      ]
     },
     "metadata": {
      "image/png": {
       "height": 317,
       "width": 707
      }
     },
     "output_type": "display_data"
    }
   ],
   "source": [
    "plt.figure(figsize=(12,5))\n",
    "plt.subplot(121)\n",
    "plt.scatter(df_full_compared.height_original, df_full_compared.height_reduced)\n",
    "_min = np.min([df_full_compared.height_original, df_full_compared.height_reduced])\n",
    "_max = np.max([df_full_compared.height_original, df_full_compared.height_reduced])\n",
    "plt.plot([_min,_max],[_min, _max], \"k--\", zorder=-1)\n",
    "plt.title(\"height, dim=full\")\n",
    "\n",
    "plt.subplot(122)\n",
    "plt.scatter(df_full_compared.weight_original, df_full_compared.weight_reduced)\n",
    "_min = np.min([df_full_compared.weight_original, df_full_compared.weight_reduced])\n",
    "_max = np.max([df_full_compared.weight_original, df_full_compared.weight_reduced])\n",
    "plt.plot([_min,_max],[_min, _max], \"k--\", zorder=-1)\n",
    "plt.title(\"weight, dim=full\")\n",
    "\n"
   ]
  },
  {
   "cell_type": "markdown",
   "metadata": {},
   "source": [
    "# 近似を実施。(次元を2から1に落とす)"
   ]
  },
  {
   "cell_type": "code",
   "execution_count": 13,
   "metadata": {
    "collapsed": true
   },
   "outputs": [],
   "source": [
    "dim = 1\n",
    "#UD = np.dot(U, D)[:, :len(d)]"
   ]
  },
  {
   "cell_type": "code",
   "execution_count": 14,
   "metadata": {},
   "outputs": [
    {
     "data": {
      "text/plain": [
       "array([[ 0.00501404],\n",
       "       [-0.52714703],\n",
       "       [-0.37813008],\n",
       "       [-0.15107986],\n",
       "       [ 0.10403566],\n",
       "       [-0.20071369],\n",
       "       [-0.04899986],\n",
       "       [-0.03904726],\n",
       "       [ 0.02335897],\n",
       "       [-0.17844082],\n",
       "       [-0.08059428],\n",
       "       [ 0.26084998],\n",
       "       [ 0.1641699 ],\n",
       "       [ 0.43034481],\n",
       "       [ 0.12855817],\n",
       "       [ 0.11826398],\n",
       "       [ 0.3351305 ],\n",
       "       [ 0.00791579],\n",
       "       [-0.12627023],\n",
       "       [ 0.1527813 ]])"
      ]
     },
     "execution_count": 14,
     "metadata": {},
     "output_type": "execute_result"
    }
   ],
   "source": [
    "U[:,:dim]"
   ]
  },
  {
   "cell_type": "code",
   "execution_count": 15,
   "metadata": {},
   "outputs": [
    {
     "data": {
      "text/plain": [
       "array([ 6.1061079])"
      ]
     },
     "execution_count": 15,
     "metadata": {},
     "output_type": "execute_result"
    }
   ],
   "source": [
    "d[:dim]"
   ]
  },
  {
   "cell_type": "code",
   "execution_count": 16,
   "metadata": {},
   "outputs": [
    {
     "data": {
      "text/plain": [
       "array([ 0.03061629, -3.21881662, -2.30890305, -0.92250994,  0.63525299,\n",
       "       -1.22557943, -0.29919844, -0.23842679,  0.14263238, -1.0895789 ,\n",
       "       -0.49211739,  1.59277815,  1.00243911,  2.62773183,  0.78499003,\n",
       "        0.72213262,  2.04634302,  0.04833467, -0.77101965,  0.93289913])"
      ]
     },
     "execution_count": 16,
     "metadata": {},
     "output_type": "execute_result"
    }
   ],
   "source": [
    "UD_dim1 = np.dot(U[:,:dim],d[:dim])\n",
    "UD_dim1"
   ]
  },
  {
   "cell_type": "code",
   "execution_count": 17,
   "metadata": {},
   "outputs": [
    {
     "data": {
      "text/plain": [
       "array([[-0.70710678, -0.70710678]])"
      ]
     },
     "execution_count": 17,
     "metadata": {},
     "output_type": "execute_result"
    }
   ],
   "source": [
    "V_dim1 = V[:dim]\n",
    "V_dim1"
   ]
  },
  {
   "cell_type": "code",
   "execution_count": 18,
   "metadata": {},
   "outputs": [
    {
     "name": "stdout",
     "output_type": "stream",
     "text": [
      "(20, 1) (1, 2)\n"
     ]
    }
   ],
   "source": [
    "print(UD_dim1[:,np.newaxis].shape, V_dim1.shape)"
   ]
  },
  {
   "cell_type": "code",
   "execution_count": 19,
   "metadata": {},
   "outputs": [
    {
     "name": "stdout",
     "output_type": "stream",
     "text": [
      "(20, 1) (1, 2)\n"
     ]
    },
    {
     "data": {
      "text/plain": [
       "array([[-0.02164899, -0.02164899],\n",
       "       [ 2.27604706,  2.27604706],\n",
       "       [ 1.63264101,  1.63264101],\n",
       "       [ 0.65231304,  0.65231304],\n",
       "       [-0.4491917 , -0.4491917 ],\n",
       "       [ 0.86661553,  0.86661553],\n",
       "       [ 0.21156525,  0.21156525],\n",
       "       [ 0.1685932 ,  0.1685932 ],\n",
       "       [-0.10085632, -0.10085632],\n",
       "       [ 0.77044863,  0.77044863],\n",
       "       [ 0.34797954,  0.34797954],\n",
       "       [-1.12626423, -1.12626423],\n",
       "       [-0.70883149, -0.70883149],\n",
       "       [-1.858087  , -1.858087  ],\n",
       "       [-0.55507177, -0.55507177],\n",
       "       [-0.51062488, -0.51062488],\n",
       "       [-1.44698303, -1.44698303],\n",
       "       [-0.03417778, -0.03417778],\n",
       "       [ 0.54519322,  0.54519322],\n",
       "       [-0.6596593 , -0.6596593 ]])"
      ]
     },
     "execution_count": 19,
     "metadata": {},
     "output_type": "execute_result"
    }
   ],
   "source": [
    "print(UD_dim1[:,np.newaxis].shape, V_dim1.shape)\n",
    "X_hat_reduced = np.dot(UD_dim1[:,np.newaxis], V_dim1)\n",
    "X_hat_reduced"
   ]
  },
  {
   "cell_type": "code",
   "execution_count": 20,
   "metadata": {},
   "outputs": [
    {
     "data": {
      "text/html": [
       "<div>\n",
       "<style scoped>\n",
       "    .dataframe tbody tr th:only-of-type {\n",
       "        vertical-align: middle;\n",
       "    }\n",
       "\n",
       "    .dataframe tbody tr th {\n",
       "        vertical-align: top;\n",
       "    }\n",
       "\n",
       "    .dataframe thead th {\n",
       "        text-align: right;\n",
       "    }\n",
       "</style>\n",
       "<table border=\"1\" class=\"dataframe\">\n",
       "  <thead>\n",
       "    <tr style=\"text-align: right;\">\n",
       "      <th></th>\n",
       "      <th>height_original</th>\n",
       "      <th>weight_original</th>\n",
       "      <th>height_reduced</th>\n",
       "      <th>weight_reduced</th>\n",
       "      <th>height_diff</th>\n",
       "      <th>weight_diff</th>\n",
       "    </tr>\n",
       "  </thead>\n",
       "  <tbody>\n",
       "    <tr>\n",
       "      <th>0</th>\n",
       "      <td>172.13</td>\n",
       "      <td>63.94</td>\n",
       "      <td>170.485453</td>\n",
       "      <td>66.224899</td>\n",
       "      <td>1.644547</td>\n",
       "      <td>-2.284899</td>\n",
       "    </tr>\n",
       "    <tr>\n",
       "      <th>1</th>\n",
       "      <td>183.87</td>\n",
       "      <td>85.54</td>\n",
       "      <td>184.128711</td>\n",
       "      <td>85.180552</td>\n",
       "      <td>-0.258711</td>\n",
       "      <td>0.359448</td>\n",
       "    </tr>\n",
       "    <tr>\n",
       "      <th>2</th>\n",
       "      <td>179.54</td>\n",
       "      <td>80.94</td>\n",
       "      <td>180.308295</td>\n",
       "      <td>79.872547</td>\n",
       "      <td>-0.768295</td>\n",
       "      <td>1.067453</td>\n",
       "    </tr>\n",
       "    <tr>\n",
       "      <th>3</th>\n",
       "      <td>173.62</td>\n",
       "      <td>72.99</td>\n",
       "      <td>174.487304</td>\n",
       "      <td>71.784986</td>\n",
       "      <td>-0.867304</td>\n",
       "      <td>1.205014</td>\n",
       "    </tr>\n",
       "    <tr>\n",
       "      <th>4</th>\n",
       "      <td>167.83</td>\n",
       "      <td>62.86</td>\n",
       "      <td>167.946790</td>\n",
       "      <td>62.697735</td>\n",
       "      <td>-0.116790</td>\n",
       "      <td>0.162265</td>\n",
       "    </tr>\n",
       "    <tr>\n",
       "      <th>5</th>\n",
       "      <td>174.38</td>\n",
       "      <td>75.47</td>\n",
       "      <td>175.759789</td>\n",
       "      <td>73.552950</td>\n",
       "      <td>-1.379789</td>\n",
       "      <td>1.917050</td>\n",
       "    </tr>\n",
       "    <tr>\n",
       "      <th>6</th>\n",
       "      <td>171.38</td>\n",
       "      <td>68.83</td>\n",
       "      <td>171.870232</td>\n",
       "      <td>68.148882</td>\n",
       "      <td>-0.490232</td>\n",
       "      <td>0.681118</td>\n",
       "    </tr>\n",
       "    <tr>\n",
       "      <th>7</th>\n",
       "      <td>171.10</td>\n",
       "      <td>68.51</td>\n",
       "      <td>171.615073</td>\n",
       "      <td>67.794369</td>\n",
       "      <td>-0.515073</td>\n",
       "      <td>0.715631</td>\n",
       "    </tr>\n",
       "    <tr>\n",
       "      <th>8</th>\n",
       "      <td>169.39</td>\n",
       "      <td>66.44</td>\n",
       "      <td>170.015135</td>\n",
       "      <td>65.571450</td>\n",
       "      <td>-0.625135</td>\n",
       "      <td>0.868550</td>\n",
       "    </tr>\n",
       "    <tr>\n",
       "      <th>9</th>\n",
       "      <td>174.26</td>\n",
       "      <td>74.05</td>\n",
       "      <td>175.188770</td>\n",
       "      <td>72.759587</td>\n",
       "      <td>-0.928770</td>\n",
       "      <td>1.290413</td>\n",
       "    </tr>\n",
       "    <tr>\n",
       "      <th>10</th>\n",
       "      <td>171.87</td>\n",
       "      <td>70.40</td>\n",
       "      <td>172.680233</td>\n",
       "      <td>69.274280</td>\n",
       "      <td>-0.810233</td>\n",
       "      <td>1.125720</td>\n",
       "    </tr>\n",
       "    <tr>\n",
       "      <th>11</th>\n",
       "      <td>163.64</td>\n",
       "      <td>57.51</td>\n",
       "      <td>163.926469</td>\n",
       "      <td>57.111986</td>\n",
       "      <td>-0.286469</td>\n",
       "      <td>0.398014</td>\n",
       "    </tr>\n",
       "    <tr>\n",
       "      <th>12</th>\n",
       "      <td>166.51</td>\n",
       "      <td>60.41</td>\n",
       "      <td>166.405101</td>\n",
       "      <td>60.555745</td>\n",
       "      <td>0.104899</td>\n",
       "      <td>-0.145745</td>\n",
       "    </tr>\n",
       "    <tr>\n",
       "      <th>13</th>\n",
       "      <td>159.39</td>\n",
       "      <td>51.34</td>\n",
       "      <td>159.581052</td>\n",
       "      <td>51.074557</td>\n",
       "      <td>-0.191052</td>\n",
       "      <td>0.265443</td>\n",
       "    </tr>\n",
       "    <tr>\n",
       "      <th>14</th>\n",
       "      <td>167.17</td>\n",
       "      <td>62.03</td>\n",
       "      <td>167.318095</td>\n",
       "      <td>61.824240</td>\n",
       "      <td>-0.148095</td>\n",
       "      <td>0.205760</td>\n",
       "    </tr>\n",
       "    <tr>\n",
       "      <th>15</th>\n",
       "      <td>168.36</td>\n",
       "      <td>61.11</td>\n",
       "      <td>167.582012</td>\n",
       "      <td>62.190920</td>\n",
       "      <td>0.777988</td>\n",
       "      <td>-1.080920</td>\n",
       "    </tr>\n",
       "    <tr>\n",
       "      <th>16</th>\n",
       "      <td>161.17</td>\n",
       "      <td>55.65</td>\n",
       "      <td>162.022105</td>\n",
       "      <td>54.466104</td>\n",
       "      <td>-0.852105</td>\n",
       "      <td>1.183896</td>\n",
       "    </tr>\n",
       "    <tr>\n",
       "      <th>17</th>\n",
       "      <td>169.75</td>\n",
       "      <td>67.04</td>\n",
       "      <td>170.411059</td>\n",
       "      <td>66.121538</td>\n",
       "      <td>-0.661059</td>\n",
       "      <td>0.918462</td>\n",
       "    </tr>\n",
       "    <tr>\n",
       "      <th>18</th>\n",
       "      <td>179.97</td>\n",
       "      <td>62.40</td>\n",
       "      <td>173.851248</td>\n",
       "      <td>70.901264</td>\n",
       "      <td>6.118752</td>\n",
       "      <td>-8.501264</td>\n",
       "    </tr>\n",
       "    <tr>\n",
       "      <th>19</th>\n",
       "      <td>166.95</td>\n",
       "      <td>60.61</td>\n",
       "      <td>166.697075</td>\n",
       "      <td>60.961408</td>\n",
       "      <td>0.252925</td>\n",
       "      <td>-0.351408</td>\n",
       "    </tr>\n",
       "  </tbody>\n",
       "</table>\n",
       "</div>"
      ],
      "text/plain": [
       "    height_original  weight_original  height_reduced  weight_reduced  \\\n",
       "0            172.13            63.94      170.485453       66.224899   \n",
       "1            183.87            85.54      184.128711       85.180552   \n",
       "2            179.54            80.94      180.308295       79.872547   \n",
       "3            173.62            72.99      174.487304       71.784986   \n",
       "4            167.83            62.86      167.946790       62.697735   \n",
       "5            174.38            75.47      175.759789       73.552950   \n",
       "6            171.38            68.83      171.870232       68.148882   \n",
       "7            171.10            68.51      171.615073       67.794369   \n",
       "8            169.39            66.44      170.015135       65.571450   \n",
       "9            174.26            74.05      175.188770       72.759587   \n",
       "10           171.87            70.40      172.680233       69.274280   \n",
       "11           163.64            57.51      163.926469       57.111986   \n",
       "12           166.51            60.41      166.405101       60.555745   \n",
       "13           159.39            51.34      159.581052       51.074557   \n",
       "14           167.17            62.03      167.318095       61.824240   \n",
       "15           168.36            61.11      167.582012       62.190920   \n",
       "16           161.17            55.65      162.022105       54.466104   \n",
       "17           169.75            67.04      170.411059       66.121538   \n",
       "18           179.97            62.40      173.851248       70.901264   \n",
       "19           166.95            60.61      166.697075       60.961408   \n",
       "\n",
       "    height_diff  weight_diff  \n",
       "0      1.644547    -2.284899  \n",
       "1     -0.258711     0.359448  \n",
       "2     -0.768295     1.067453  \n",
       "3     -0.867304     1.205014  \n",
       "4     -0.116790     0.162265  \n",
       "5     -1.379789     1.917050  \n",
       "6     -0.490232     0.681118  \n",
       "7     -0.515073     0.715631  \n",
       "8     -0.625135     0.868550  \n",
       "9     -0.928770     1.290413  \n",
       "10    -0.810233     1.125720  \n",
       "11    -0.286469     0.398014  \n",
       "12     0.104899    -0.145745  \n",
       "13    -0.191052     0.265443  \n",
       "14    -0.148095     0.205760  \n",
       "15     0.777988    -1.080920  \n",
       "16    -0.852105     1.183896  \n",
       "17    -0.661059     0.918462  \n",
       "18     6.118752    -8.501264  \n",
       "19     0.252925    -0.351408  "
      ]
     },
     "execution_count": 20,
     "metadata": {},
     "output_type": "execute_result"
    }
   ],
   "source": [
    "df_reduced_compared = pd.DataFrame(np.c_[sc.inverse_transform(X), sc.inverse_transform(X_hat_reduced)], columns=[\"height_original\", \"weight_original\", \"height_reduced\", \"weight_reduced\"])\n",
    "df_reduced_compared[\"height_diff\"] = df_reduced_compared.apply(lambda x: x.height_original - x.height_reduced, axis=1)\n",
    "df_reduced_compared[\"weight_diff\"] = df_reduced_compared.apply(lambda x: x.weight_original - x.weight_reduced, axis=1)\n",
    "df_reduced_compared"
   ]
  },
  {
   "cell_type": "code",
   "execution_count": 21,
   "metadata": {},
   "outputs": [
    {
     "data": {
      "text/plain": [
       "Text(0.5,1,'weight, dim=1')"
      ]
     },
     "execution_count": 21,
     "metadata": {},
     "output_type": "execute_result"
    },
    {
     "data": {
      "image/png": "[encoded data removed]",
      "text/plain": [
       "<matplotlib.figure.Figure at 0x11c077240>"
      ]
     },
     "metadata": {
      "image/png": {
       "height": 317,
       "width": 707
      }
     },
     "output_type": "display_data"
    }
   ],
   "source": [
    "plt.figure(figsize=(12,5))\n",
    "plt.subplot(121)\n",
    "plt.scatter(df_reduced_compared.height_original, df_reduced_compared.height_reduced)\n",
    "_min = np.min([df_reduced_compared.height_original, df_reduced_compared.height_reduced])\n",
    "_max = np.max([df_reduced_compared.height_original, df_reduced_compared.height_reduced])\n",
    "plt.plot([_min,_max],[_min, _max], \"k--\", zorder=-1)\n",
    "plt.title(\"height, dim=1\")\n",
    "\n",
    "plt.subplot(122)\n",
    "plt.scatter(df_reduced_compared.weight_original, df_reduced_compared.weight_reduced)\n",
    "_min = np.min([df_reduced_compared.weight_original, df_reduced_compared.weight_reduced])\n",
    "_max = np.max([df_reduced_compared.weight_original, df_reduced_compared.weight_reduced])\n",
    "plt.plot([_min,_max],[_min, _max], \"k--\", zorder=-1)\n",
    "plt.title(\"weight, dim=1\")\n"
   ]
  },
  {
   "cell_type": "code",
   "execution_count": null,
   "metadata": {
    "collapsed": true
   },
   "outputs": [],
   "source": []
  },
  {
   "cell_type": "code",
   "execution_count": 22,
   "metadata": {
    "collapsed": true
   },
   "outputs": [],
   "source": [
    "from sklearn.decomposition import PCA"
   ]
  },
  {
   "cell_type": "code",
   "execution_count": 23,
   "metadata": {},
   "outputs": [
    {
     "data": {
      "text/plain": [
       "array([[-0.03061629,  0.39168401],\n",
       "       [ 3.21881662, -0.06161761],\n",
       "       [ 2.30890305, -0.18298586],\n",
       "       [ 0.92250994, -0.20656696],\n",
       "       [-0.63525299, -0.02781596],\n",
       "       [ 1.22557943, -0.32862624],\n",
       "       [ 0.29919844, -0.11675921],\n",
       "       [ 0.23842679, -0.12267553],\n",
       "       [-0.14263238, -0.14888932],\n",
       "       [ 1.0895789 , -0.22120627],\n",
       "       [ 0.49211739, -0.19297421],\n",
       "       [-1.59277815, -0.06822863],\n",
       "       [-1.00243911,  0.02498401],\n",
       "       [-2.62773183, -0.04550305],\n",
       "       [-0.78499003, -0.035272  ],\n",
       "       [-0.72213262,  0.18529447],\n",
       "       [-2.04634302, -0.20294692],\n",
       "       [-0.04833467, -0.15744535],\n",
       "       [ 0.77101965,  1.45731121],\n",
       "       [-0.93289913,  0.06023941]])"
      ]
     },
     "execution_count": 23,
     "metadata": {},
     "output_type": "execute_result"
    }
   ],
   "source": [
    "pca = PCA()\n",
    "pca.fit_transform(X)"
   ]
  },
  {
   "cell_type": "markdown",
   "metadata": {},
   "source": [
    "# PCAのcomponents_と、SVDのVの同値性の確認"
   ]
  },
  {
   "cell_type": "markdown",
   "metadata": {},
   "source": [
    "符号が反転しているが、それ以外は同値"
   ]
  },
  {
   "cell_type": "code",
   "execution_count": 24,
   "metadata": {},
   "outputs": [
    {
     "data": {
      "text/plain": [
       "array([[ 0.70710678,  0.70710678],\n",
       "       [ 0.70710678, -0.70710678]])"
      ]
     },
     "execution_count": 24,
     "metadata": {},
     "output_type": "execute_result"
    }
   ],
   "source": [
    "pca.components_"
   ]
  },
  {
   "cell_type": "code",
   "execution_count": 25,
   "metadata": {},
   "outputs": [
    {
     "data": {
      "text/plain": [
       "array([[-0.70710678, -0.70710678],\n",
       "       [ 0.70710678, -0.70710678]])"
      ]
     },
     "execution_count": 25,
     "metadata": {},
     "output_type": "execute_result"
    }
   ],
   "source": [
    "V"
   ]
  },
  {
   "cell_type": "markdown",
   "metadata": {},
   "source": [
    "# PCA寄与度と、SVD特異値の関係の整合性確認"
   ]
  },
  {
   "cell_type": "code",
   "execution_count": 26,
   "metadata": {},
   "outputs": [],
   "source": [
    "d2 = d**2\n",
    "svd_explained_variance_ratio_ = d2/np.sum(d2)\n",
    "svd_explained_variance_ = d2/(X.shape[0]-1)"
   ]
  },
  {
   "cell_type": "code",
   "execution_count": 27,
   "metadata": {},
   "outputs": [
    {
     "data": {
      "text/plain": [
       "(array([ 1.96234493,  0.14291823]), array([ 1.96234493,  0.14291823]))"
      ]
     },
     "execution_count": 27,
     "metadata": {},
     "output_type": "execute_result"
    }
   ],
   "source": [
    "pca.explained_variance_, svd_explained_variance_"
   ]
  },
  {
   "cell_type": "code",
   "execution_count": 28,
   "metadata": {},
   "outputs": [
    {
     "data": {
      "text/plain": [
       "(array([ 0.93211384,  0.06788616]), array([ 0.93211384,  0.06788616]))"
      ]
     },
     "execution_count": 28,
     "metadata": {},
     "output_type": "execute_result"
    }
   ],
   "source": [
    "pca.explained_variance_ratio_, svd_explained_variance_ratio_"
   ]
  },
  {
   "cell_type": "markdown",
   "metadata": {},
   "source": [
    "# V.T \\* D \\* D \\* Vと X.T \\* X の同値性の確認"
   ]
  },
  {
   "cell_type": "code",
   "execution_count": 29,
   "metadata": {},
   "outputs": [
    {
     "data": {
      "text/plain": [
       "array([[ 20.        ,  17.28455368],\n",
       "       [ 17.28455368,  20.        ]])"
      ]
     },
     "execution_count": 29,
     "metadata": {},
     "output_type": "execute_result"
    }
   ],
   "source": [
    "np.dot(np.dot(V.T, np.dot(D[:2,:2], D[:2,:2])),V)"
   ]
  },
  {
   "cell_type": "code",
   "execution_count": 30,
   "metadata": {},
   "outputs": [
    {
     "data": {
      "text/plain": [
       "array([[ 20.        ,  17.28455368],\n",
       "       [ 17.28455368,  20.        ]])"
      ]
     },
     "execution_count": 30,
     "metadata": {},
     "output_type": "execute_result"
    }
   ],
   "source": [
    "np.dot(X.T, X)"
   ]
  },
  {
   "cell_type": "code",
   "execution_count": null,
   "metadata": {
    "collapsed": true
   },
   "outputs": [],
   "source": []
  },
  {
   "cell_type": "code",
   "execution_count": null,
   "metadata": {
    "collapsed": true
   },
   "outputs": [],
   "source": []
  },
  {
   "cell_type": "code",
   "execution_count": null,
   "metadata": {
    "collapsed": true
   },
   "outputs": [],
   "source": []
  }
 ],
 "metadata": {
  "kernelspec": {
   "display_name": "Python 3",
   "language": "python",
   "name": "python3"
  },
  "language_info": {
   "codemirror_mode": {
    "name": "ipython",
    "version": 3
   },
   "file_extension": ".py",
   "mimetype": "text/x-python",
   "name": "python",
   "nbconvert_exporter": "python",
   "pygments_lexer": "ipython3",
   "version": "3.6.1"
  }
 },
 "nbformat": 4,
 "nbformat_minor": 2
}
