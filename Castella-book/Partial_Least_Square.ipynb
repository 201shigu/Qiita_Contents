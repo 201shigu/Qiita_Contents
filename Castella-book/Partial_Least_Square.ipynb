{
 "cells": [
  {
   "cell_type": "markdown",
   "metadata": {},
   "source": [
    "# 統計的学習の基礎 3章　3.5.2 部分最小２乗法\n",
    "書籍の結果と値が少し乖離があるので確認中です。下記の内容は信頼性が低い状態ですのでご注意ください。すみません・・・(>_<)"
   ]
  },
  {
   "cell_type": "code",
   "execution_count": 1,
   "metadata": {
    "collapsed": true
   },
   "outputs": [],
   "source": [
    "from __future__ import division\n",
    "import numpy as np\n",
    "import numpy.random as rd\n",
    "import pandas as pd\n",
    "from scipy import stats as st\n",
    "\n",
    "import matplotlib.pyplot as plt\n",
    "%matplotlib inline\n",
    "import seaborn as sns\n",
    "\n",
    "sns.set(style=\"darkgrid\", palette=\"muted\", color_codes=True)"
   ]
  },
  {
   "cell_type": "code",
   "execution_count": 2,
   "metadata": {
    "collapsed": true
   },
   "outputs": [],
   "source": [
    "debug_flg = False"
   ]
  },
  {
   "cell_type": "code",
   "execution_count": 3,
   "metadata": {
    "collapsed": true
   },
   "outputs": [],
   "source": [
    "def RMSE(y, y_hat):\n",
    "    assert len(y) == len(y_hat)\n",
    "    y = np.asanyarray(y)\n",
    "    y_hat = np.asanyarray(y_hat)\n",
    "    return np.sqrt(np.mean((y-y_hat)**2))"
   ]
  },
  {
   "cell_type": "code",
   "execution_count": 4,
   "metadata": {
    "collapsed": true
   },
   "outputs": [],
   "source": [
    "def print_data(label, data):\n",
    "    global debug_flg\n",
    "    if debug_flg:\n",
    "        print label, data"
   ]
  },
  {
   "cell_type": "markdown",
   "metadata": {},
   "source": [
    "## 前立腺癌データ"
   ]
  },
  {
   "cell_type": "code",
   "execution_count": 5,
   "metadata": {
    "collapsed": false
   },
   "outputs": [
    {
     "data": {
      "text/html": [
       "<div>\n",
       "<table border=\"1\" class=\"dataframe\">\n",
       "  <thead>\n",
       "    <tr style=\"text-align: right;\">\n",
       "      <th></th>\n",
       "      <th>lcavol</th>\n",
       "      <th>lweight</th>\n",
       "      <th>age</th>\n",
       "      <th>lbph</th>\n",
       "      <th>svi</th>\n",
       "      <th>lcp</th>\n",
       "      <th>gleason</th>\n",
       "      <th>pgg45</th>\n",
       "      <th>lpsa</th>\n",
       "      <th>train</th>\n",
       "    </tr>\n",
       "  </thead>\n",
       "  <tbody>\n",
       "    <tr>\n",
       "      <th>1</th>\n",
       "      <td>-0.579818</td>\n",
       "      <td>2.769459</td>\n",
       "      <td>50</td>\n",
       "      <td>-1.386294</td>\n",
       "      <td>0</td>\n",
       "      <td>-1.386294</td>\n",
       "      <td>6</td>\n",
       "      <td>0</td>\n",
       "      <td>-0.430783</td>\n",
       "      <td>T</td>\n",
       "    </tr>\n",
       "    <tr>\n",
       "      <th>2</th>\n",
       "      <td>-0.994252</td>\n",
       "      <td>3.319626</td>\n",
       "      <td>58</td>\n",
       "      <td>-1.386294</td>\n",
       "      <td>0</td>\n",
       "      <td>-1.386294</td>\n",
       "      <td>6</td>\n",
       "      <td>0</td>\n",
       "      <td>-0.162519</td>\n",
       "      <td>T</td>\n",
       "    </tr>\n",
       "    <tr>\n",
       "      <th>3</th>\n",
       "      <td>-0.510826</td>\n",
       "      <td>2.691243</td>\n",
       "      <td>74</td>\n",
       "      <td>-1.386294</td>\n",
       "      <td>0</td>\n",
       "      <td>-1.386294</td>\n",
       "      <td>7</td>\n",
       "      <td>20</td>\n",
       "      <td>-0.162519</td>\n",
       "      <td>T</td>\n",
       "    </tr>\n",
       "    <tr>\n",
       "      <th>4</th>\n",
       "      <td>-1.203973</td>\n",
       "      <td>3.282789</td>\n",
       "      <td>58</td>\n",
       "      <td>-1.386294</td>\n",
       "      <td>0</td>\n",
       "      <td>-1.386294</td>\n",
       "      <td>6</td>\n",
       "      <td>0</td>\n",
       "      <td>-0.162519</td>\n",
       "      <td>T</td>\n",
       "    </tr>\n",
       "    <tr>\n",
       "      <th>5</th>\n",
       "      <td>0.751416</td>\n",
       "      <td>3.432373</td>\n",
       "      <td>62</td>\n",
       "      <td>-1.386294</td>\n",
       "      <td>0</td>\n",
       "      <td>-1.386294</td>\n",
       "      <td>6</td>\n",
       "      <td>0</td>\n",
       "      <td>0.371564</td>\n",
       "      <td>T</td>\n",
       "    </tr>\n",
       "  </tbody>\n",
       "</table>\n",
       "</div>"
      ],
      "text/plain": [
       "     lcavol   lweight  age      lbph  svi       lcp  gleason  pgg45      lpsa  \\\n",
       "1 -0.579818  2.769459   50 -1.386294    0 -1.386294        6      0 -0.430783   \n",
       "2 -0.994252  3.319626   58 -1.386294    0 -1.386294        6      0 -0.162519   \n",
       "3 -0.510826  2.691243   74 -1.386294    0 -1.386294        7     20 -0.162519   \n",
       "4 -1.203973  3.282789   58 -1.386294    0 -1.386294        6      0 -0.162519   \n",
       "5  0.751416  3.432373   62 -1.386294    0 -1.386294        6      0  0.371564   \n",
       "\n",
       "  train  \n",
       "1     T  \n",
       "2     T  \n",
       "3     T  \n",
       "4     T  \n",
       "5     T  "
      ]
     },
     "execution_count": 5,
     "metadata": {},
     "output_type": "execute_result"
    }
   ],
   "source": [
    "# Data from http://statweb.stanford.edu/~tibs/ElemStatLearn/datasets/prostate.data\n",
    "df = pd.read_csv(\"prostate.tsv\", sep=\"\\t\", index_col=0)\n",
    "df.head()"
   ]
  },
  {
   "cell_type": "code",
   "execution_count": 6,
   "metadata": {
    "collapsed": false
   },
   "outputs": [
    {
     "name": "stdout",
     "output_type": "stream",
     "text": [
      "Index([u'lcavol', u'lweight', u'age', u'lbph', u'svi', u'lcp', u'gleason',\n",
      "       u'pgg45', u'lpsa', u'train'],\n",
      "      dtype='object')\n"
     ]
    }
   ],
   "source": [
    "print df.keys()\n",
    "df.drop(\"train\", axis=1, inplace=True)"
   ]
  },
  {
   "cell_type": "code",
   "execution_count": 7,
   "metadata": {
    "collapsed": true
   },
   "outputs": [],
   "source": [
    "y = df.lpsa.values\n",
    "df.drop(\"lpsa\", axis=1, inplace=True)\n",
    "X = df.values"
   ]
  },
  {
   "cell_type": "markdown",
   "metadata": {},
   "source": [
    "### アルゴリズム 3.3 :    部分最小２乗法 (p95)"
   ]
  },
  {
   "cell_type": "code",
   "execution_count": 8,
   "metadata": {
    "collapsed": true
   },
   "outputs": [],
   "source": [
    "# 1.\n",
    "n   = X.shape[0]\n",
    "dim = X.shape[1]\n",
    "X = (X - np.mean(X, axis=0))/np.std(X, axis=0)        # Xの標準化\n",
    "\n",
    "# initialize\n",
    "y_hat = np.zeros((dim+1, n))\n",
    "z     = np.zeros((dim, n))\n",
    "X_hat = np.zeros((dim+1, X.shape[0], X.shape[1]))\n",
    "phi   = np.zeros((dim, dim))\n",
    "theta = np.zeros(dim)\n",
    "\n",
    "y_hat[0] = np.ones(n) * np.mean(y)\n",
    "X_hat[0] = X"
   ]
  },
  {
   "cell_type": "code",
   "execution_count": 9,
   "metadata": {
    "collapsed": false
   },
   "outputs": [],
   "source": [
    "# 2.\n",
    "for m in range(dim):\n",
    "    print_data(\"loop: {}\".format(m),\"\")\n",
    "    # (a)\n",
    "    for p in range(dim):\n",
    "        phi[m,p] = np.dot(X_hat[m][:,p], y)\n",
    "    print_data(\"phi: \", phi[m])\n",
    "    z[m] = np.dot(X_hat[m], phi[m])\n",
    "    print_data(\"z\", z[m])\n",
    "    \n",
    "    # (b)\n",
    "    z2 = np.dot(z[m],z[m])\n",
    "    theta[m] = np.dot(y, z[m])/z2\n",
    "    print_data(\"theta:\", theta[m])\n",
    "    \n",
    "    # (c)\n",
    "    y_hat[m+1] = y_hat[m] + theta[m]*z[m]\n",
    "    print_data(\"y_hat[m+1]:\", y_hat[m+1])\n",
    "    \n",
    "    # (d)\n",
    "    for i in range(dim):\n",
    "        X_hat[m+1][:,i] = X_hat[m][:,i] - np.dot(X_hat[m][:,i], z[m])/z2*z[m]\n",
    "    print_data(\"X_hat[m+1]\", X_hat[m+1])\n",
    "    "
   ]
  },
  {
   "cell_type": "code",
   "execution_count": 10,
   "metadata": {
    "collapsed": false
   },
   "outputs": [
    {
     "name": "stdout",
     "output_type": "stream",
     "text": [
      "RMSE[0]: 1.14836351013\n",
      "RMSE[1]: 0.77360339431\n",
      "RMSE[2]: 0.693330891787\n",
      "RMSE[3]: 0.676361810073\n",
      "RMSE[4]: 0.668431371384\n",
      "RMSE[5]: 0.666443476028\n",
      "RMSE[6]: 0.666287656244\n",
      "RMSE[7]: 0.666259446735\n",
      "RMSE[8]: 0.666259126842\n"
     ]
    },
    {
     "data": {
      "image/png": "[encoded data removed]",
      "text/plain": [
       "<matplotlib.figure.Figure at 0x109001090>"
      ]
     },
     "metadata": {},
     "output_type": "display_data"
    }
   ],
   "source": [
    "# p75 図3.7\n",
    "error = np.zeros(dim+1)\n",
    "for m in range(dim+1):\n",
    "    error[m] = RMSE(y, y_hat[m])\n",
    "    print \"RMSE[{}]:\".format(m), error[m]\n",
    "    \n",
    "plt.plot(error, \"o-\")\n",
    "plt.xlim(-.5,8.5)\n",
    "plt.xticks(range(9))\n",
    "plt.ylabel(\"RMSE\")\n",
    "plt.xlabel(\"# of Principal Component\")\n",
    "plt.title(\"Partial Least Square\")\n",
    "plt.show()"
   ]
  },
  {
   "cell_type": "code",
   "execution_count": null,
   "metadata": {
    "collapsed": true
   },
   "outputs": [],
   "source": []
  },
  {
   "cell_type": "code",
   "execution_count": null,
   "metadata": {
    "collapsed": true
   },
   "outputs": [],
   "source": []
  },
  {
   "cell_type": "code",
   "execution_count": null,
   "metadata": {
    "collapsed": true
   },
   "outputs": [],
   "source": []
  },
  {
   "cell_type": "code",
   "execution_count": null,
   "metadata": {
    "collapsed": true
   },
   "outputs": [],
   "source": []
  }
 ],
 "metadata": {
  "kernelspec": {
   "display_name": "Python 2",
   "language": "python",
   "name": "python2"
  },
  "language_info": {
   "codemirror_mode": {
    "name": "ipython",
    "version": 2
   },
   "file_extension": ".py",
   "mimetype": "text/x-python",
   "name": "python",
   "nbconvert_exporter": "python",
   "pygments_lexer": "ipython2",
   "version": "2.7.11"
  }
 },
 "nbformat": 4,
 "nbformat_minor": 0
}
