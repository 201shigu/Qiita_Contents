{
 "cells": [
  {
   "cell_type": "code",
   "execution_count": 1,
   "metadata": {
    "collapsed": true
   },
   "outputs": [],
   "source": [
    "import cv2, glob, sys, os\n",
    "import numpy as np\n",
    "import pandas as pd\n",
    "import numpy.random as rd\n",
    "import scipy as sp\n",
    "from scipy import stats as st\n",
    "from collections import Counter\n",
    "from multiprocessing import Process, Manager\n",
    "import time,sys\n",
    "import matplotlib\n",
    "import matplotlib.pyplot as plt\n",
    "import matplotlib.cm as cm\n",
    "from matplotlib import animation as ani\n",
    "from datetime import datetime as dt\n",
    "import seaborn as sns\n",
    "#sns.set(style=\"whitegrid\", palette=\"muted\", color_codes=True)\n",
    "%matplotlib inline\n",
    "%config InlineBackend.figure_format='retina'\n",
    "import sys\n",
    "import os\n",
    "import IPython.display as ipyd\n",
    "\n",
    "plt.rcParams[\"patch.force_edgecolor\"] = True\n",
    "\n",
    "import  pickle\n",
    "def unpickle(filename):\n",
    "    with open(filename, 'rb') as fo:\n",
    "        p = pickle.load(fo)\n",
    "    return p\n",
    "\n",
    "def to_pickle(filename, obj):\n",
    "    with open(filename, 'wb') as f:\n",
    "        pickle.dump(obj, f, -1)\n"
   ]
  },
  {
   "cell_type": "code",
   "execution_count": 100,
   "metadata": {
    "collapsed": false,
    "scrolled": true
   },
   "outputs": [
    {
     "name": "stdout",
     "output_type": "stream",
     "text": [
      "[START]\n",
      "[START]\n",
      "[START]\n",
      "[START]\n",
      "[START]\n",
      "[START]\n",
      "[START]\n",
      "[START]\n",
      "[START]\n",
      "[START]\n",
      "[START]\n",
      "[START]\n",
      "[START]\n",
      "[START]\n",
      "[START]\n",
      "[START]\n",
      "[START]\n",
      "[START]\n",
      "[START]\n",
      "[START]\n",
      "[END]\n",
      "[END]\n",
      "[END]\n",
      "[END]\n",
      "[END]\n",
      "[END]\n",
      "[END]\n",
      "[END]\n",
      "[END]\n",
      "[END]\n",
      "[END]\n",
      "[END]\n",
      "[END]\n",
      "[END]\n",
      "[END]\n",
      "[END]\n",
      "[END]\n",
      "[END]\n",
      "[END]\n"
     ]
    },
    {
     "name": "stderr",
     "output_type": "stream",
     "text": [
      "Process Process-133:\n",
      "Traceback (most recent call last):\n",
      "  File \"/Users/matsuken/.pyenv/versions/anaconda3-4.1.0/lib/python3.5/multiprocessing/process.py\", line 249, in _bootstrap\n",
      "    self.run()\n",
      "  File \"/Users/matsuken/.pyenv/versions/anaconda3-4.1.0/lib/python3.5/multiprocessing/process.py\", line 93, in run\n",
      "    self._target(*self._args, **self._kwargs)\n",
      "  File \"<ipython-input-100-799a113a0740>\", line 21, in create_rvs\n",
      "    unif_rvs =  [st.uniform.rvs(m, size=1, random_state=gen_random_state()) for m in m_unif] # 平均5の一様分布\n",
      "  File \"<ipython-input-100-799a113a0740>\", line 21, in <listcomp>\n",
      "    unif_rvs =  [st.uniform.rvs(m, size=1, random_state=gen_random_state()) for m in m_unif] # 平均5の一様分布\n",
      "  File \"/Users/matsuken/.pyenv/versions/anaconda3-4.1.0/lib/python3.5/site-packages/scipy/stats/_distn_infrastructure.py\", line 944, in rvs\n",
      "    self._random_state = check_random_state(rndm)\n",
      "  File \"/Users/matsuken/.pyenv/versions/anaconda3-4.1.0/lib/python3.5/site-packages/scipy/_lib/_util.py\", line 175, in check_random_state\n",
      "    return np.random.RandomState(seed)\n",
      "  File \"mtrand.pyx\", line 644, in mtrand.RandomState.__init__ (numpy/random/mtrand/mtrand.c:13302)\n",
      "  File \"mtrand.pyx\", line 680, in mtrand.RandomState.seed (numpy/random/mtrand/mtrand.c:13729)\n",
      "ValueError: Seed must be between 0 and 2**32 - 1\n"
     ]
    },
    {
     "name": "stdout",
     "output_type": "stream",
     "text": [
      "2541.8237800598145\n",
      "(9573, 5000)\n"
     ]
    }
   ],
   "source": [
    "# パラメーターも１つ１つ異なる場合\n",
    "n = 10000\n",
    "sample_size = 1000\n",
    "rvs_list = []\n",
    "m_list = []\n",
    "\n",
    "m_unif = st.uniform.rvs(4, 2, size=sample_size)\n",
    "m_beta_a = st.uniform.rvs(4, 2, size=sample_size)\n",
    "m_beta_b = st.uniform.rvs(4, 2, size=sample_size)\n",
    "m_gamma = rd.randint(2,5,size=sample_size)\n",
    "m_chi2_df = rd.randint(3,6,size=sample_size)\n",
    "m_exp = st.uniform.rvs(4, 2, size=sample_size)\n",
    "\n",
    "def gen_random_state():\n",
    "    return int(dt.now().timestamp() * 10**6) - 1492914610000000 + rd.randint(0, 1000000)\n",
    "\n",
    "def create_rvs(n):\n",
    "    print(\"[START]\")\n",
    "    for _ in range(n):\n",
    "        unif_rvs =  [st.uniform.rvs(m, size=1, random_state=gen_random_state()) for m in m_unif] # 平均5の一様分布\n",
    "        beta_rvs =  [st.beta.rvs(a=a, b=b, size=1, random_state=gen_random_state()) for a, b in zip(m_beta_a, m_beta_b)]# 平均0.5のβ分布\n",
    "        gamma_rvs = [st.gamma.rvs(a=a, size=1, random_state=gen_random_state()) for a in m_gamma] # 平均3のガンマ分布\n",
    "        chi2_rvs =  [st.chi2.rvs(df=d, size=1, random_state=gen_random_state()) for d in m_chi2_df] # 平均５のカイ二乗分布\n",
    "        exp_rvs =   [st.expon.rvs(loc=l, size=1, random_state=gen_random_state()) for l in m_exp] # 平均1の指数分布\n",
    "\n",
    "        rvs = np.array([unif_rvs, beta_rvs, gamma_rvs, chi2_rvs, exp_rvs]).flatten()\n",
    "        l_mean.append(np.mean(rvs))\n",
    "        l_rvs.append(rvs)\n",
    "    print(\"[END]\")\n",
    "    \n",
    "n_jobs = 20\n",
    "n_each = int(n/n_jobs)\n",
    "    \n",
    "jobs = [Process(target=create_rvs, args=(n_each,)) for _ in range(n_jobs)]\n",
    "    \n",
    "manager = Manager()\n",
    "l_rvs  = manager.list(range(len(jobs)))\n",
    "l_mean = manager.list(range(len(jobs)))\n",
    " \n",
    "start_time = time.time()\n",
    "for j in jobs:\n",
    "    j.start()\n",
    "    time.sleep(0.2)\n",
    "\n",
    "    \n",
    "for j in jobs:\n",
    "    j.join()\n",
    "\n",
    "finish_time = time.time()\n",
    "print(finish_time - start_time)\n",
    "\n",
    "m_list = l_mean[n_jobs:]\n",
    "rvs_list = np.array(l_rvs[n_jobs:])\n",
    "print(rvs_list.shape)"
   ]
  },
  {
   "cell_type": "code",
   "execution_count": 101,
   "metadata": {
    "collapsed": false
   },
   "outputs": [
    {
     "name": "stdout",
     "output_type": "stream",
     "text": [
      "(9573, 5000)\n"
     ]
    }
   ],
   "source": [
    "\n",
    "m_list = l_mean[n_jobs:]\n",
    "rvs_list = np.array(l_rvs[n_jobs:])\n",
    "print(rvs_list.shape)"
   ]
  },
  {
   "cell_type": "code",
   "execution_count": 15,
   "metadata": {
    "collapsed": true
   },
   "outputs": [],
   "source": [
    "m_list = unpickle(\"m_list.pkl\")\n",
    "rvs_list = unpickle(\"rvs_list.pkl\")"
   ]
  },
  {
   "cell_type": "code",
   "execution_count": 16,
   "metadata": {
    "collapsed": false
   },
   "outputs": [
    {
     "name": "stdout",
     "output_type": "stream",
     "text": [
      " i=49"
     ]
    }
   ],
   "source": [
    "# 様々なのグラフ描画 アニメーション\n",
    "rd.seed = 71\n",
    "num_frame = 50.\n",
    "\n",
    "def animate(nframe):\n",
    "    global num_frame, fig\n",
    "    print(\"\\r i={}\".format(int(nframe)), end=\"\")\n",
    "    plt.clf()\n",
    "    m = m_list[int(nframe)]\n",
    "    rvs = rvs_list[int(nframe)]\n",
    "    plt.hist(rvs, bins=30, normed=True)\n",
    "    plt.plot([m, m], [0, .5], \"r\")\n",
    "    plt.xlim(0,30)\n",
    "    plt.title(\"i={}\".format(int(nframe)))\n",
    "\n",
    "fig = plt.figure(figsize=(9,5))\n",
    "anim = ani.FuncAnimation(fig, animate, frames=int(num_frame))\n",
    "anim.save('mixed_dist2.gif', writer='imagemagick', fps=5, dpi=128)\n",
    "\n",
    "plt.close()"
   ]
  },
  {
   "cell_type": "code",
   "execution_count": 17,
   "metadata": {
    "collapsed": false
   },
   "outputs": [
    {
     "data": {
      "text/html": [
       "<img src=\"mixed_dist2.gif?0.9926818643105446\" width=\"800\" height=\"800\"/>"
      ],
      "text/plain": [
       "<IPython.core.display.Image object>"
      ]
     },
     "execution_count": 17,
     "metadata": {},
     "output_type": "execute_result"
    }
   ],
   "source": [
    "ipyd.Image(url='mixed_dist2.gif?{}'.format(rd.uniform()), height=800, width=800)"
   ]
  },
  {
   "cell_type": "code",
   "execution_count": 8,
   "metadata": {
    "collapsed": false,
    "scrolled": true
   },
   "outputs": [
    {
     "data": {
      "image/png": "[encoded data removed]",
      "text/plain": [
       "<matplotlib.figure.Figure at 0x116b8dc50>"
      ]
     },
     "metadata": {
      "image/png": {
       "height": 248,
       "width": 490
      }
     },
     "output_type": "display_data"
    }
   ],
   "source": [
    "plt.figure(figsize=(8,4))\n",
    "plt.hist(m_list, color=\"pink\", bins=40)\n",
    "plt.show()"
   ]
  },
  {
   "cell_type": "code",
   "execution_count": 13,
   "metadata": {
    "collapsed": false
   },
   "outputs": [],
   "source": [
    "rvs_list = np.array(rvs_list)"
   ]
  },
  {
   "cell_type": "code",
   "execution_count": 14,
   "metadata": {
    "collapsed": false
   },
   "outputs": [
    {
     "data": {
      "text/plain": [
       "(9573,)"
      ]
     },
     "execution_count": 14,
     "metadata": {},
     "output_type": "execute_result"
    }
   ],
   "source": [
    "rvs_list.shape"
   ]
  },
  {
   "cell_type": "code",
   "execution_count": null,
   "metadata": {
    "collapsed": true
   },
   "outputs": [],
   "source": []
  },
  {
   "cell_type": "code",
   "execution_count": null,
   "metadata": {
    "collapsed": true
   },
   "outputs": [],
   "source": []
  },
  {
   "cell_type": "code",
   "execution_count": null,
   "metadata": {
    "collapsed": true
   },
   "outputs": [],
   "source": []
  },
  {
   "cell_type": "code",
   "execution_count": null,
   "metadata": {
    "collapsed": true
   },
   "outputs": [],
   "source": []
  },
  {
   "cell_type": "code",
   "execution_count": null,
   "metadata": {
    "collapsed": true
   },
   "outputs": [],
   "source": []
  },
  {
   "cell_type": "code",
   "execution_count": 15,
   "metadata": {
    "collapsed": false
   },
   "outputs": [
    {
     "data": {
      "text/plain": [
       "[<matplotlib.lines.Line2D at 0x11b15cba8>]"
      ]
     },
     "execution_count": 15,
     "metadata": {},
     "output_type": "execute_result"
    },
    {
     "data": {
      "image/png": "[encoded data removed]",
      "text/plain": [
       "<matplotlib.figure.Figure at 0x11aea1278>"
      ]
     },
     "metadata": {
      "image/png": {
       "height": 319,
       "width": 543
      }
     },
     "output_type": "display_data"
    }
   ],
   "source": [
    "# 指数分布をたくさん生成して標本平均、標本分散のヒストグラムを描画\n",
    "lam = 0.1\n",
    "mean = np.array([np.mean(rd.exponential(1./lam, size=sample_size)) for i in range(n)])\n",
    "\n",
    "bins = 40\n",
    "\n",
    "# 標本平均のヒストグラム\n",
    "plt.figure(figsize=(9,5))\n",
    "out = plt.hist(mean, bins=bins, normed=False, color=\"plum\")\n",
    "plt.title(\"mean from %s distribution\"%(\"exponential\"))\n",
    "\n",
    "# 理論正規分布\n",
    "xx = np.linspace(9.5, 10.5, 501)\n",
    "f = st.norm.pdf(xx, theoretical_mean, np.sqrt(theoretical_var/sample_size))\n",
    "plt.plot(xx, f*n*np.diff(out[1])[0])"
   ]
  },
  {
   "cell_type": "code",
   "execution_count": 16,
   "metadata": {
    "collapsed": false
   },
   "outputs": [
    {
     "data": {
      "text/plain": [
       "0.099999999999999992"
      ]
     },
     "execution_count": 16,
     "metadata": {},
     "output_type": "execute_result"
    }
   ],
   "source": [
    "np.sqrt(theoretical_var/sample_size)"
   ]
  },
  {
   "cell_type": "markdown",
   "metadata": {
    "collapsed": true
   },
   "source": [
    "# 同一でない分布からのサンプリングの中心極限定理"
   ]
  },
  {
   "cell_type": "code",
   "execution_count": 2,
   "metadata": {
    "collapsed": false,
    "scrolled": true
   },
   "outputs": [],
   "source": [
    "n = 100000\n",
    "sample_size = 1000\n",
    "rvs_list = []\n",
    "m_list = []\n",
    "for i in range(n):\n",
    "    unif_rvs = st.uniform.rvs(4.5, size=sample_size) # 平均5の一様分布\n",
    "    beta_rvs = st.beta.rvs(a=3, b=3, size=sample_size) # 平均0.5のβ分布\n",
    "    gamma_rvs = st.gamma.rvs(a=3, size=sample_size) # 平均3のガンマ分布\n",
    "    chi2_rvs = st.chi2.rvs(df=5, size=sample_size) # 平均５のカイ二乗分布\n",
    "    exp_rvs = st.expon.rvs(loc=0, size=sample_size) # 平均1の指数分布\n",
    "    rvs = np.array([unif_rvs, beta_rvs, gamma_rvs, chi2_rvs, exp_rvs]).flatten()\n",
    "    m_list.append(np.mean(rvs))\n",
    "    rvs_list.append(rvs)\n",
    "    #plt.hist(rvs)\n",
    "    #plt.show()"
   ]
  },
  {
   "cell_type": "code",
   "execution_count": 3,
   "metadata": {
    "collapsed": false
   },
   "outputs": [
    {
     "data": {
      "image/png": "[encoded data removed]",
      "text/plain": [
       "<matplotlib.figure.Figure at 0x10661f4a8>"
      ]
     },
     "metadata": {
      "image/png": {
       "height": 248,
       "width": 382
      }
     },
     "output_type": "display_data"
    }
   ],
   "source": [
    "plt.hist(m_list, bins=50)\n",
    "plt.show()"
   ]
  },
  {
   "cell_type": "code",
   "execution_count": 5,
   "metadata": {
    "collapsed": false
   },
   "outputs": [],
   "source": [
    "# 様々なのグラフ描画 アニメーション\n",
    "rd.seed = 71\n",
    "num_frame = 50.\n",
    "\n",
    "def animate(nframe):\n",
    "    global num_frame, fig\n",
    "    plt.clf()\n",
    "    m = m_list[int(nframe)]\n",
    "    rvs = rvs_list[int(nframe)]\n",
    "    plt.hist(rvs, bins=30, normed=True)\n",
    "    plt.plot([m, m], [0, .5], \"r\")\n",
    "    plt.xlim(0,20)\n",
    "\n",
    "fig = plt.figure(figsize=(9,5))\n",
    "anim = ani.FuncAnimation(fig, animate, frames=int(num_frame))\n",
    "anim.save('mixed_dist.gif', writer='imagemagick', fps=5, dpi=128)\n",
    "\n",
    "plt.close()"
   ]
  },
  {
   "cell_type": "code",
   "execution_count": 6,
   "metadata": {
    "collapsed": false
   },
   "outputs": [
    {
     "data": {
      "text/html": [
       "<img src=\"mixed_dist.gif?0.466965320135592\" width=\"800\" height=\"800\"/>"
      ],
      "text/plain": [
       "<IPython.core.display.Image object>"
      ]
     },
     "execution_count": 6,
     "metadata": {},
     "output_type": "execute_result"
    }
   ],
   "source": [
    "ipyd.Image(url='mixed_dist.gif?{}'.format(rd.uniform()), height=800, width=800)"
   ]
  },
  {
   "cell_type": "code",
   "execution_count": null,
   "metadata": {
    "collapsed": true
   },
   "outputs": [],
   "source": []
  },
  {
   "cell_type": "code",
   "execution_count": null,
   "metadata": {
    "collapsed": true
   },
   "outputs": [],
   "source": []
  },
  {
   "cell_type": "code",
   "execution_count": null,
   "metadata": {
    "collapsed": true
   },
   "outputs": [],
   "source": []
  },
  {
   "cell_type": "code",
   "execution_count": null,
   "metadata": {
    "collapsed": true
   },
   "outputs": [],
   "source": []
  },
  {
   "cell_type": "code",
   "execution_count": null,
   "metadata": {
    "collapsed": true
   },
   "outputs": [],
   "source": []
  },
  {
   "cell_type": "code",
   "execution_count": null,
   "metadata": {
    "collapsed": true
   },
   "outputs": [],
   "source": []
  },
  {
   "cell_type": "code",
   "execution_count": null,
   "metadata": {
    "collapsed": true
   },
   "outputs": [],
   "source": []
  }
 ],
 "metadata": {
  "kernelspec": {
   "display_name": "Python [Root]",
   "language": "python",
   "name": "Python [Root]"
  },
  "language_info": {
   "codemirror_mode": {
    "name": "ipython",
    "version": 3
   },
   "file_extension": ".py",
   "mimetype": "text/x-python",
   "name": "python",
   "nbconvert_exporter": "python",
   "pygments_lexer": "ipython3",
   "version": "3.5.2"
  }
 },
 "nbformat": 4,
 "nbformat_minor": 1
}
