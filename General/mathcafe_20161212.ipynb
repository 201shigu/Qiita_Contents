{
 "cells": [
  {
   "cell_type": "markdown",
   "metadata": {},
   "source": [
    "元ネタ　　\n",
    "\n",
    "http://colah.github.io/posts/2014-03-NN-Manifolds-Topology/"
   ]
  },
  {
   "cell_type": "code",
   "execution_count": 2,
   "metadata": {
    "collapsed": false
   },
   "outputs": [],
   "source": [
    "import os, codecs, sys\n",
    "from glob import glob\n",
    "import numpy as np\n",
    "import pandas as pd\n",
    "from collections import Counter\n",
    "import matplotlib\n",
    "import matplotlib.pyplot as plt\n",
    "import seaborn as sns\n",
    "from matplotlib import font_manager\n",
    "from matplotlib.colors import LinearSegmentedColormap\n",
    "from datetime import datetime as dt\n",
    "from sklearn.metrics import accuracy_score\n",
    "from sklearn.discriminant_analysis import LinearDiscriminantAnalysis\n",
    "\n",
    "% matplotlib inline\n",
    "\n",
    "def getdirs(path):\n",
    "    dirs=[]\n",
    "    for item in os.listdir(path):\n",
    "        if os.path.isdir(os.path.join(path,item)):\n",
    "            dirs.append(item)\n",
    "    return dirs\n",
    "\n",
    "def cnt_na(df):\n",
    "    return df.apply(lambda x: 1 if x!=x else 0).sum()"
   ]
  },
  {
   "cell_type": "code",
   "execution_count": 3,
   "metadata": {
    "collapsed": true
   },
   "outputs": [],
   "source": [
    "import ipywidgets\n",
    "from ipywidgets import interact"
   ]
  },
  {
   "cell_type": "code",
   "execution_count": 4,
   "metadata": {
    "collapsed": true
   },
   "outputs": [],
   "source": [
    "# settings ----------------------------\n",
    "\n",
    "img_out = True\n",
    "out_path = \"./img/\"\n",
    "if not os.path.exists(out_path):\n",
    "    os.makedirs(out_path)\n"
   ]
  },
  {
   "cell_type": "code",
   "execution_count": 5,
   "metadata": {
    "collapsed": true
   },
   "outputs": [],
   "source": [
    "# うずまきデータのモト\n",
    "theta = np.linspace(0.3, 1.5*np.pi, 201)"
   ]
  },
  {
   "cell_type": "code",
   "execution_count": 6,
   "metadata": {
    "collapsed": false
   },
   "outputs": [],
   "source": [
    "# グループ1のデータ\n",
    "y1 = theta*np.sin(theta)/4\n",
    "y1 = y1 - y1[0]\n",
    "y1 = y1[(y1 > -1)]\n",
    "x1 = theta*np.cos(theta)/4\n",
    "x1 = x1[:len(y1)]\n",
    "data1 = pd.DataFrame(np.column_stack([x1, y1, [0]*len(x1)]), columns=[\"x1\",\"x2\", \"y\"])\n",
    "data1.y = data1.y.astype(np.int)"
   ]
  },
  {
   "cell_type": "code",
   "execution_count": 7,
   "metadata": {
    "collapsed": false
   },
   "outputs": [],
   "source": [
    "# グループ2のデータ\n",
    "y2 = theta*np.sin(theta+np.pi)/4\n",
    "y2 = y2 - y2[0]\n",
    "y2 = y2[(y2 < 1)]\n",
    "x2 = theta*np.cos(theta+np.pi)/4\n",
    "x2 = x2[:len(y2)]\n",
    "data2 = pd.DataFrame(np.column_stack([x2, y2, [1]*len(x2)]), columns=[\"x1\",\"x2\", \"y\"])\n",
    "data2.y = data2.y.astype(np.int)"
   ]
  },
  {
   "cell_type": "code",
   "execution_count": 8,
   "metadata": {
    "collapsed": true
   },
   "outputs": [],
   "source": [
    "# Gridの作成\n",
    "axis_h = []\n",
    "for v in np.linspace(-1,1,11):\n",
    "    tmp_list = []\n",
    "    for h in np.linspace(-1,1,51):\n",
    "        tmp_list.append([v, h])\n",
    "    axis_h.append(tmp_list)\n",
    "axis_h = np.array(axis_h)\n",
    "\n",
    "axis_v = []\n",
    "for h in np.linspace(-1,1,11):\n",
    "    tmp_list = []\n",
    "    for v in np.linspace(-1,1,51):\n",
    "        tmp_list.append([v, h])\n",
    "    axis_v.append(tmp_list)\n",
    "axis_v = np.array(axis_v)\n"
   ]
  },
  {
   "cell_type": "code",
   "execution_count": null,
   "metadata": {
    "collapsed": true
   },
   "outputs": [],
   "source": []
  },
  {
   "cell_type": "code",
   "execution_count": 9,
   "metadata": {
    "collapsed": true
   },
   "outputs": [],
   "source": [
    "def ReLu(x):\n",
    "    return np.fmax(0, x)\n",
    "\n",
    "ReLu = np.vectorize(ReLu)\n",
    "def sigmoid(x):\n",
    "    return 1/(1+np.exp(-x)) "
   ]
  },
  {
   "cell_type": "code",
   "execution_count": 10,
   "metadata": {
    "collapsed": false
   },
   "outputs": [
    {
     "name": "stdout",
     "output_type": "stream",
     "text": [
      "sigmoid\n",
      "tanh\n",
      "ReLu\n"
     ]
    },
    {
     "data": {
      "image/png": "[encoded data removed]",
      "text/plain": [
       "<matplotlib.figure.Figure at 0x10fbaec18>"
      ]
     },
     "metadata": {},
     "output_type": "display_data"
    },
    {
     "data": {
      "image/png": "[encoded data removed]",
      "text/plain": [
       "<matplotlib.figure.Figure at 0x10fc27d68>"
      ]
     },
     "metadata": {},
     "output_type": "display_data"
    },
    {
     "data": {
      "image/png": "[encoded data removed]",
      "text/plain": [
       "<matplotlib.figure.Figure at 0x10fc78518>"
      ]
     },
     "metadata": {},
     "output_type": "display_data"
    }
   ],
   "source": [
    "# tanhの可視化\n",
    "for act_type in ['sigmoid', 'tanh', 'ReLu']:\n",
    "    print(act_type)\n",
    "    if act_type==\"sigmoid\":\n",
    "        activation = sigmoid\n",
    "    elif act_type==\"tanh\":\n",
    "        activation = np.tanh\n",
    "    else:\n",
    "        activation = ReLu    \n",
    "    xx = np.linspace(-5, 5, 201)\n",
    "    plt.figure(figsize=(8,3))\n",
    "    plt.xlim(-5, 5)\n",
    "    plt.ylim(-1.1, 1.1)\n",
    "    plt.plot([-5,5], [0,0], \"k\", lw=0.5)\n",
    "    plt.plot([0,0], [-1,1], \"k\", lw=0.5)\n",
    "    plt.plot(xx, activation(xx))\n",
    "    plt.title(act_type)"
   ]
  },
  {
   "cell_type": "code",
   "execution_count": 15,
   "metadata": {
    "collapsed": false,
    "scrolled": false
   },
   "outputs": [
    {
     "name": "stdout",
     "output_type": "stream",
     "text": [
      "tanh\n"
     ]
    },
    {
     "data": {
      "image/png": "[encoded data removed]",
      "text/plain": [
       "<matplotlib.figure.Figure at 0x106915128>"
      ]
     },
     "metadata": {},
     "output_type": "display_data"
    }
   ],
   "source": [
    "i = 1\n",
    "@interact(w11_1=ipywidgets.FloatSlider(min=-4,max=4,step=0.1,value=1),\n",
    "          w12_1=ipywidgets.FloatSlider(min=-4,max=4,step=0.1,value=0), \n",
    "          w21_1=ipywidgets.FloatSlider(min=-4,max=4,step=0.1,value=0),\n",
    "          w22_1=ipywidgets.FloatSlider(min=-4,max=4,step=0.1,value=1),\n",
    "          b1_1=ipywidgets.FloatSlider(min=-4,max=4,step=0.1,value=0),\n",
    "          b1_2=ipywidgets.FloatSlider(min=-4,max=4,step=0.1,value=0),\n",
    "          w11_2=ipywidgets.FloatSlider(min=-4,max=4,step=0.1,value=1),\n",
    "          w12_2=ipywidgets.FloatSlider(min=-4,max=4,step=0.1,value=0), \n",
    "          w21_2=ipywidgets.FloatSlider(min=-4,max=4,step=0.1,value=0),\n",
    "          w22_2=ipywidgets.FloatSlider(min=-4,max=4,step=0.1,value=1),\n",
    "          b2_1=ipywidgets.FloatSlider(min=-4,max=4,step=0.1,value=0),\n",
    "          b2_2=ipywidgets.FloatSlider(min=-4,max=4,step=0.1,value=0),\n",
    "          activate=False,\n",
    "          clf=False,\n",
    "          act_type=ipywidgets.Dropdown(\n",
    "                options=['sigmoid', 'tanh', 'ReLu'],\n",
    "                value='tanh',\n",
    "                description='Activation function type:',\n",
    "                disabled=False,\n",
    "                button_style='' # 'success', 'info', 'warning', 'danger' or ''\n",
    "            ))\n",
    "def vortex_plot(w11_1, w12_1, w21_1, w22_1, b1_1, b1_2,\n",
    "                w11_2, w12_2, w21_2, w22_2, b2_1, b2_2,\n",
    "                activate, clf, act_type):\n",
    "    global i, X1, X2\n",
    "    print(act_type)\n",
    "    if act_type==\"sigmoid\":\n",
    "        activation = sigmoid\n",
    "    elif act_type==\"tanh\":\n",
    "        activation = np.tanh\n",
    "    else:\n",
    "        activation = ReLu\n",
    "    \n",
    "    n_data1 = len(x1)\n",
    "    n_data2 = len(x2)\n",
    "    \n",
    "    plt.figure(figsize=(10,10))\n",
    "    \n",
    "    W1  = [[b1_1, b1_2],\n",
    "           [w11_1, w12_1],\n",
    "           [w21_1, w22_1]]\n",
    "\n",
    "    W2  = [[b2_1, b2_2],\n",
    "           [w11_2, w12_2],\n",
    "           [w21_2, w22_2]]\n",
    "\n",
    "    X1 = np.dot(np.column_stack([np.ones(n_data1), x1, y1]), W1)\n",
    "    if activate:\n",
    "        X1 = activation(X1)\n",
    "    X1 = np.dot(np.column_stack([np.ones(n_data1), X1]), W2)\n",
    "    if activate:\n",
    "        X1 = activation(X1)\n",
    "        \n",
    "    X2 = np.dot(np.column_stack([np.ones(n_data2), x2, y2]), W1)\n",
    "    if activate:\n",
    "        X2 = activation(X2)\n",
    "    X2 = np.dot(np.column_stack([np.ones(n_data2), X2]), W2)\n",
    "    if activate:\n",
    "        X2 = activation(X2)\n",
    "\n",
    "    for line in axis_h:\n",
    "        l = np.dot(np.column_stack([np.ones(len(line)), line]), W1)\n",
    "        if activate:\n",
    "            l = activation(l)\n",
    "        l = np.dot(np.column_stack([np.ones(len(line)), l]), W2)\n",
    "        if activate:\n",
    "            l = activation(l)\n",
    "        plt.plot(l[:,0], l[:,1], \"k--\", lw=0.5)\n",
    "\n",
    "    for line in axis_v:\n",
    "        l = np.dot(np.column_stack([np.ones(len(line)), line]), W1)\n",
    "        if activate:\n",
    "            l = activation(l)\n",
    "        l = np.dot(np.column_stack([np.ones(len(line)), l]), W2)\n",
    "        if activate:\n",
    "            l = activation(l)\n",
    "        plt.plot(l[:,0], l[:,1], \"k--\", lw=0.5)\n",
    "\n",
    "    x_min, x_max = (-1.1, 1.1)\n",
    "    y_min, y_max = (-1.1, 1.1)\n",
    "    plt.xlim(x_min, x_max)\n",
    "    plt.ylim(y_min, y_max)\n",
    "    plt.plot(X1[:,0], X1[:,1])\n",
    "    plt.plot(X2[:,0], X2[:,1])\n",
    "    \n",
    "    y = [0]*len(X1) + [1] *len(X2)\n",
    "    X = np.r_[X1, X2]\n",
    "    \n",
    "    if clf:\n",
    "        clf = LinearDiscriminantAnalysis()\n",
    "        clf.fit(X, y)\n",
    "        pred = clf.predict(X)\n",
    "        score = accuracy_score(y, pred)\n",
    "    else:\n",
    "        score = \"-\"\n",
    "        plt.title(\"act_type: {0}, accuracy: {1}\".format(act_type if activate else \"None\", score))\n",
    "    \n",
    "    \n",
    "    if clf:\n",
    "        xx, yy = np.meshgrid(np.linspace(x_min, x_max, 101), np.linspace(y_min, y_max, 101))\n",
    "        z = clf.predict(np.c_[xx.flatten(), yy.flatten()]).reshape(101,101)\n",
    "        plt.pcolor(xx, yy, z, alpha=0.2)\n",
    "        plt.spring()\n",
    "        plt.title(\"act_type: {0}, accuracy: {1:0.3f}\".format(act_type if activate else \"None\", score))\n",
    "    \n",
    "    if img_out:\n",
    "        plt.savefig(out_path+\"out_{0:05d}\".format(i))\n",
    "        i += 1\n",
    "    \n",
    "    plt.show()"
   ]
  },
  {
   "cell_type": "code",
   "execution_count": null,
   "metadata": {
    "collapsed": false
   },
   "outputs": [],
   "source": []
  },
  {
   "cell_type": "code",
   "execution_count": null,
   "metadata": {
    "collapsed": false
   },
   "outputs": [],
   "source": [
    "\n"
   ]
  },
  {
   "cell_type": "code",
   "execution_count": null,
   "metadata": {
    "collapsed": true
   },
   "outputs": [],
   "source": []
  },
  {
   "cell_type": "code",
   "execution_count": null,
   "metadata": {
    "collapsed": true
   },
   "outputs": [],
   "source": []
  },
  {
   "cell_type": "code",
   "execution_count": null,
   "metadata": {
    "collapsed": true
   },
   "outputs": [],
   "source": []
  },
  {
   "cell_type": "code",
   "execution_count": null,
   "metadata": {
    "collapsed": true
   },
   "outputs": [],
   "source": []
  },
  {
   "cell_type": "code",
   "execution_count": null,
   "metadata": {
    "collapsed": true
   },
   "outputs": [],
   "source": []
  },
  {
   "cell_type": "code",
   "execution_count": null,
   "metadata": {
    "collapsed": true
   },
   "outputs": [],
   "source": []
  },
  {
   "cell_type": "code",
   "execution_count": null,
   "metadata": {
    "collapsed": true
   },
   "outputs": [],
   "source": []
  },
  {
   "cell_type": "code",
   "execution_count": null,
   "metadata": {
    "collapsed": true
   },
   "outputs": [],
   "source": []
  },
  {
   "cell_type": "code",
   "execution_count": null,
   "metadata": {
    "collapsed": true
   },
   "outputs": [],
   "source": []
  },
  {
   "cell_type": "code",
   "execution_count": null,
   "metadata": {
    "collapsed": true
   },
   "outputs": [],
   "source": []
  },
  {
   "cell_type": "code",
   "execution_count": null,
   "metadata": {
    "collapsed": true
   },
   "outputs": [],
   "source": []
  },
  {
   "cell_type": "code",
   "execution_count": null,
   "metadata": {
    "collapsed": true
   },
   "outputs": [],
   "source": []
  }
 ],
 "metadata": {
  "anaconda-cloud": {},
  "kernelspec": {
   "display_name": "Python 3",
   "language": "python",
   "name": "python3"
  },
  "language_info": {
   "codemirror_mode": {
    "name": "ipython",
    "version": 3
   },
   "file_extension": ".py",
   "mimetype": "text/x-python",
   "name": "python",
   "nbconvert_exporter": "python",
   "pygments_lexer": "ipython3",
   "version": "3.5.2"
  }
 },
 "nbformat": 4,
 "nbformat_minor": 0
}
