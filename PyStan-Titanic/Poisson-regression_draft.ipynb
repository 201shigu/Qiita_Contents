{
 "cells": [
  {
   "cell_type": "code",
   "execution_count": 1,
   "metadata": {
    "collapsed": true
   },
   "outputs": [],
   "source": [
    "import numpy as np\n",
    "import numpy.random as rd\n",
    "import pandas as pd\n",
    "\n",
    "%matplotlib inline\n",
    "import matplotlib.pyplot as plt\n",
    "from matplotlib import animation as ani\n",
    "import matplotlib.cm as cm\n",
    "import seaborn as sns\n",
    "sns.set(style=\"whitegrid\", palette=\"muted\", color_codes=True)\n",
    "\n",
    "from tabulate import tabulate\n",
    "from time import time\n",
    "\n",
    "import pystan\n",
    "from pystan import StanModel\n",
    "\n",
    "from sklearn import cross_validation\n",
    "from scipy.stats import gaussian_kde"
   ]
  },
  {
   "cell_type": "code",
   "execution_count": 2,
   "metadata": {
    "collapsed": false
   },
   "outputs": [
    {
     "data": {
      "text/html": [
       "<div>\n",
       "<table border=\"1\" class=\"dataframe\">\n",
       "  <thead>\n",
       "    <tr style=\"text-align: right;\">\n",
       "      <th></th>\n",
       "      <th>Acres</th>\n",
       "      <th>FamilyIncome</th>\n",
       "      <th>FamilyType</th>\n",
       "      <th>NumBedrooms</th>\n",
       "      <th>NumChildren</th>\n",
       "      <th>NumPeople</th>\n",
       "      <th>NumRooms</th>\n",
       "      <th>NumUnits</th>\n",
       "      <th>NumVehicles</th>\n",
       "      <th>NumWorkers</th>\n",
       "      <th>OwnRent</th>\n",
       "      <th>YearBuilt</th>\n",
       "      <th>HouseCosts</th>\n",
       "      <th>ElectricBill</th>\n",
       "      <th>FoodStamp</th>\n",
       "      <th>HeatingFuel</th>\n",
       "      <th>Insurance</th>\n",
       "      <th>Language</th>\n",
       "    </tr>\n",
       "  </thead>\n",
       "  <tbody>\n",
       "    <tr>\n",
       "      <th>0</th>\n",
       "      <td>1-10</td>\n",
       "      <td>150</td>\n",
       "      <td>Married</td>\n",
       "      <td>4</td>\n",
       "      <td>1</td>\n",
       "      <td>3</td>\n",
       "      <td>9</td>\n",
       "      <td>Single detached</td>\n",
       "      <td>1</td>\n",
       "      <td>0</td>\n",
       "      <td>Mortgage</td>\n",
       "      <td>1950-1959</td>\n",
       "      <td>1800</td>\n",
       "      <td>90</td>\n",
       "      <td>No</td>\n",
       "      <td>Gas</td>\n",
       "      <td>2500</td>\n",
       "      <td>English</td>\n",
       "    </tr>\n",
       "    <tr>\n",
       "      <th>1</th>\n",
       "      <td>1-10</td>\n",
       "      <td>180</td>\n",
       "      <td>Female Head</td>\n",
       "      <td>3</td>\n",
       "      <td>2</td>\n",
       "      <td>4</td>\n",
       "      <td>6</td>\n",
       "      <td>Single detached</td>\n",
       "      <td>2</td>\n",
       "      <td>0</td>\n",
       "      <td>Rented</td>\n",
       "      <td>Before 1939</td>\n",
       "      <td>850</td>\n",
       "      <td>90</td>\n",
       "      <td>No</td>\n",
       "      <td>Oil</td>\n",
       "      <td>0</td>\n",
       "      <td>English</td>\n",
       "    </tr>\n",
       "    <tr>\n",
       "      <th>2</th>\n",
       "      <td>1-10</td>\n",
       "      <td>280</td>\n",
       "      <td>Female Head</td>\n",
       "      <td>4</td>\n",
       "      <td>0</td>\n",
       "      <td>2</td>\n",
       "      <td>8</td>\n",
       "      <td>Single detached</td>\n",
       "      <td>3</td>\n",
       "      <td>1</td>\n",
       "      <td>Mortgage</td>\n",
       "      <td>2000-2004</td>\n",
       "      <td>2600</td>\n",
       "      <td>260</td>\n",
       "      <td>No</td>\n",
       "      <td>Oil</td>\n",
       "      <td>6600</td>\n",
       "      <td>Other European</td>\n",
       "    </tr>\n",
       "    <tr>\n",
       "      <th>3</th>\n",
       "      <td>1-10</td>\n",
       "      <td>330</td>\n",
       "      <td>Female Head</td>\n",
       "      <td>2</td>\n",
       "      <td>1</td>\n",
       "      <td>2</td>\n",
       "      <td>4</td>\n",
       "      <td>Single detached</td>\n",
       "      <td>1</td>\n",
       "      <td>0</td>\n",
       "      <td>Rented</td>\n",
       "      <td>1950-1959</td>\n",
       "      <td>1800</td>\n",
       "      <td>140</td>\n",
       "      <td>No</td>\n",
       "      <td>Oil</td>\n",
       "      <td>0</td>\n",
       "      <td>English</td>\n",
       "    </tr>\n",
       "    <tr>\n",
       "      <th>4</th>\n",
       "      <td>1-10</td>\n",
       "      <td>330</td>\n",
       "      <td>Male Head</td>\n",
       "      <td>3</td>\n",
       "      <td>1</td>\n",
       "      <td>2</td>\n",
       "      <td>5</td>\n",
       "      <td>Single attached</td>\n",
       "      <td>1</td>\n",
       "      <td>0</td>\n",
       "      <td>Mortgage</td>\n",
       "      <td>Before 1939</td>\n",
       "      <td>860</td>\n",
       "      <td>150</td>\n",
       "      <td>No</td>\n",
       "      <td>Gas</td>\n",
       "      <td>660</td>\n",
       "      <td>Spanish</td>\n",
       "    </tr>\n",
       "  </tbody>\n",
       "</table>\n",
       "</div>"
      ],
      "text/plain": [
       "  Acres  FamilyIncome   FamilyType  NumBedrooms  NumChildren  NumPeople  \\\n",
       "0  1-10           150      Married            4            1          3   \n",
       "1  1-10           180  Female Head            3            2          4   \n",
       "2  1-10           280  Female Head            4            0          2   \n",
       "3  1-10           330  Female Head            2            1          2   \n",
       "4  1-10           330    Male Head            3            1          2   \n",
       "\n",
       "   NumRooms         NumUnits  NumVehicles  NumWorkers   OwnRent    YearBuilt  \\\n",
       "0         9  Single detached            1           0  Mortgage    1950-1959   \n",
       "1         6  Single detached            2           0    Rented  Before 1939   \n",
       "2         8  Single detached            3           1  Mortgage    2000-2004   \n",
       "3         4  Single detached            1           0    Rented    1950-1959   \n",
       "4         5  Single attached            1           0  Mortgage  Before 1939   \n",
       "\n",
       "   HouseCosts  ElectricBill FoodStamp HeatingFuel  Insurance        Language  \n",
       "0        1800            90        No         Gas       2500         English  \n",
       "1         850            90        No         Oil          0         English  \n",
       "2        2600           260        No         Oil       6600  Other European  \n",
       "3        1800           140        No         Oil          0         English  \n",
       "4         860           150        No         Gas        660         Spanish  "
      ]
     },
     "execution_count": 2,
     "metadata": {},
     "output_type": "execute_result"
    }
   ],
   "source": [
    "# import acs Data\n",
    "# NY州のThe 2010 American Community Surveyデータ\n",
    "\n",
    "df_acs = pd.read_table(\"http://jaredlander.com/data/acs_ny.csv\", sep=\",\", header=0)\n",
    "df_acs.head(5)"
   ]
  },
  {
   "cell_type": "code",
   "execution_count": 9,
   "metadata": {
    "collapsed": true
   },
   "outputs": [],
   "source": [
    "dum_ftype = pd.get_dummies(df_acs[\"FamilyType\"])\n",
    "dum_own = pd.get_dummies(df_acs[\"OwnRent\"])"
   ]
  },
  {
   "cell_type": "code",
   "execution_count": 10,
   "metadata": {
    "collapsed": false
   },
   "outputs": [
    {
     "data": {
      "text/html": [
       "<div>\n",
       "<table border=\"1\" class=\"dataframe\">\n",
       "  <thead>\n",
       "    <tr style=\"text-align: right;\">\n",
       "      <th></th>\n",
       "      <th>Mortgage</th>\n",
       "      <th>Outright</th>\n",
       "      <th>Rented</th>\n",
       "    </tr>\n",
       "  </thead>\n",
       "  <tbody>\n",
       "    <tr>\n",
       "      <th>0</th>\n",
       "      <td>1</td>\n",
       "      <td>0</td>\n",
       "      <td>0</td>\n",
       "    </tr>\n",
       "    <tr>\n",
       "      <th>1</th>\n",
       "      <td>0</td>\n",
       "      <td>0</td>\n",
       "      <td>1</td>\n",
       "    </tr>\n",
       "    <tr>\n",
       "      <th>2</th>\n",
       "      <td>1</td>\n",
       "      <td>0</td>\n",
       "      <td>0</td>\n",
       "    </tr>\n",
       "    <tr>\n",
       "      <th>3</th>\n",
       "      <td>0</td>\n",
       "      <td>0</td>\n",
       "      <td>1</td>\n",
       "    </tr>\n",
       "    <tr>\n",
       "      <th>4</th>\n",
       "      <td>1</td>\n",
       "      <td>0</td>\n",
       "      <td>0</td>\n",
       "    </tr>\n",
       "  </tbody>\n",
       "</table>\n",
       "</div>"
      ],
      "text/plain": [
       "   Mortgage  Outright  Rented\n",
       "0         1         0       0\n",
       "1         0         0       1\n",
       "2         1         0       0\n",
       "3         0         0       1\n",
       "4         1         0       0"
      ]
     },
     "execution_count": 10,
     "metadata": {},
     "output_type": "execute_result"
    }
   ],
   "source": [
    "dum_own.head()"
   ]
  },
  {
   "cell_type": "code",
   "execution_count": 11,
   "metadata": {
    "collapsed": false
   },
   "outputs": [
    {
     "data": {
      "text/html": [
       "<div>\n",
       "<table border=\"1\" class=\"dataframe\">\n",
       "  <thead>\n",
       "    <tr style=\"text-align: right;\">\n",
       "      <th></th>\n",
       "      <th>Acres</th>\n",
       "      <th>FamilyIncome</th>\n",
       "      <th>FamilyType</th>\n",
       "      <th>NumBedrooms</th>\n",
       "      <th>NumChildren</th>\n",
       "      <th>NumPeople</th>\n",
       "      <th>NumRooms</th>\n",
       "      <th>NumUnits</th>\n",
       "      <th>NumVehicles</th>\n",
       "      <th>NumWorkers</th>\n",
       "      <th>...</th>\n",
       "      <th>FoodStamp</th>\n",
       "      <th>HeatingFuel</th>\n",
       "      <th>Insurance</th>\n",
       "      <th>Language</th>\n",
       "      <th>Female Head</th>\n",
       "      <th>Male Head</th>\n",
       "      <th>Married</th>\n",
       "      <th>Mortgage</th>\n",
       "      <th>Outright</th>\n",
       "      <th>Rented</th>\n",
       "    </tr>\n",
       "  </thead>\n",
       "  <tbody>\n",
       "    <tr>\n",
       "      <th>0</th>\n",
       "      <td>1-10</td>\n",
       "      <td>150</td>\n",
       "      <td>Married</td>\n",
       "      <td>4</td>\n",
       "      <td>1</td>\n",
       "      <td>3</td>\n",
       "      <td>9</td>\n",
       "      <td>Single detached</td>\n",
       "      <td>1</td>\n",
       "      <td>0</td>\n",
       "      <td>...</td>\n",
       "      <td>No</td>\n",
       "      <td>Gas</td>\n",
       "      <td>2500</td>\n",
       "      <td>English</td>\n",
       "      <td>0</td>\n",
       "      <td>0</td>\n",
       "      <td>1</td>\n",
       "      <td>1</td>\n",
       "      <td>0</td>\n",
       "      <td>0</td>\n",
       "    </tr>\n",
       "    <tr>\n",
       "      <th>1</th>\n",
       "      <td>1-10</td>\n",
       "      <td>180</td>\n",
       "      <td>Female Head</td>\n",
       "      <td>3</td>\n",
       "      <td>2</td>\n",
       "      <td>4</td>\n",
       "      <td>6</td>\n",
       "      <td>Single detached</td>\n",
       "      <td>2</td>\n",
       "      <td>0</td>\n",
       "      <td>...</td>\n",
       "      <td>No</td>\n",
       "      <td>Oil</td>\n",
       "      <td>0</td>\n",
       "      <td>English</td>\n",
       "      <td>1</td>\n",
       "      <td>0</td>\n",
       "      <td>0</td>\n",
       "      <td>0</td>\n",
       "      <td>0</td>\n",
       "      <td>1</td>\n",
       "    </tr>\n",
       "    <tr>\n",
       "      <th>2</th>\n",
       "      <td>1-10</td>\n",
       "      <td>280</td>\n",
       "      <td>Female Head</td>\n",
       "      <td>4</td>\n",
       "      <td>0</td>\n",
       "      <td>2</td>\n",
       "      <td>8</td>\n",
       "      <td>Single detached</td>\n",
       "      <td>3</td>\n",
       "      <td>1</td>\n",
       "      <td>...</td>\n",
       "      <td>No</td>\n",
       "      <td>Oil</td>\n",
       "      <td>6600</td>\n",
       "      <td>Other European</td>\n",
       "      <td>1</td>\n",
       "      <td>0</td>\n",
       "      <td>0</td>\n",
       "      <td>1</td>\n",
       "      <td>0</td>\n",
       "      <td>0</td>\n",
       "    </tr>\n",
       "    <tr>\n",
       "      <th>3</th>\n",
       "      <td>1-10</td>\n",
       "      <td>330</td>\n",
       "      <td>Female Head</td>\n",
       "      <td>2</td>\n",
       "      <td>1</td>\n",
       "      <td>2</td>\n",
       "      <td>4</td>\n",
       "      <td>Single detached</td>\n",
       "      <td>1</td>\n",
       "      <td>0</td>\n",
       "      <td>...</td>\n",
       "      <td>No</td>\n",
       "      <td>Oil</td>\n",
       "      <td>0</td>\n",
       "      <td>English</td>\n",
       "      <td>1</td>\n",
       "      <td>0</td>\n",
       "      <td>0</td>\n",
       "      <td>0</td>\n",
       "      <td>0</td>\n",
       "      <td>1</td>\n",
       "    </tr>\n",
       "    <tr>\n",
       "      <th>4</th>\n",
       "      <td>1-10</td>\n",
       "      <td>330</td>\n",
       "      <td>Male Head</td>\n",
       "      <td>3</td>\n",
       "      <td>1</td>\n",
       "      <td>2</td>\n",
       "      <td>5</td>\n",
       "      <td>Single attached</td>\n",
       "      <td>1</td>\n",
       "      <td>0</td>\n",
       "      <td>...</td>\n",
       "      <td>No</td>\n",
       "      <td>Gas</td>\n",
       "      <td>660</td>\n",
       "      <td>Spanish</td>\n",
       "      <td>0</td>\n",
       "      <td>1</td>\n",
       "      <td>0</td>\n",
       "      <td>1</td>\n",
       "      <td>0</td>\n",
       "      <td>0</td>\n",
       "    </tr>\n",
       "  </tbody>\n",
       "</table>\n",
       "<p>5 rows × 24 columns</p>\n",
       "</div>"
      ],
      "text/plain": [
       "  Acres  FamilyIncome   FamilyType  NumBedrooms  NumChildren  NumPeople  \\\n",
       "0  1-10           150      Married            4            1          3   \n",
       "1  1-10           180  Female Head            3            2          4   \n",
       "2  1-10           280  Female Head            4            0          2   \n",
       "3  1-10           330  Female Head            2            1          2   \n",
       "4  1-10           330    Male Head            3            1          2   \n",
       "\n",
       "   NumRooms         NumUnits  NumVehicles  NumWorkers   ...   FoodStamp  \\\n",
       "0         9  Single detached            1           0   ...          No   \n",
       "1         6  Single detached            2           0   ...          No   \n",
       "2         8  Single detached            3           1   ...          No   \n",
       "3         4  Single detached            1           0   ...          No   \n",
       "4         5  Single attached            1           0   ...          No   \n",
       "\n",
       "  HeatingFuel  Insurance        Language Female Head Male Head  Married  \\\n",
       "0         Gas       2500         English           0         0        1   \n",
       "1         Oil          0         English           1         0        0   \n",
       "2         Oil       6600  Other European           1         0        0   \n",
       "3         Oil          0         English           1         0        0   \n",
       "4         Gas        660         Spanish           0         1        0   \n",
       "\n",
       "  Mortgage  Outright  Rented  \n",
       "0        1         0       0  \n",
       "1        0         0       1  \n",
       "2        1         0       0  \n",
       "3        0         0       1  \n",
       "4        1         0       0  \n",
       "\n",
       "[5 rows x 24 columns]"
      ]
     },
     "execution_count": 11,
     "metadata": {},
     "output_type": "execute_result"
    }
   ],
   "source": [
    "df_acs = pd.concat((df_acs, dum_ftype), axis=1)\n",
    "df_acs = pd.concat((df_acs, dum_own), axis=1)\n",
    "df_acs.head()"
   ]
  },
  {
   "cell_type": "raw",
   "metadata": {},
   "source": [
    "ggplot(acs, aes(x=NumChildren)) + geom_histogram(bin=1, color=\"darkgray\", fill=\"gray\")\n",
    "\n",
    "children1 <- glm(NumChildren ~ FamilyIncome + FamilyType + OwnRent,\n",
    "                 data=acs, family=poisson(lin=\"log\"))"
   ]
  },
  {
   "cell_type": "code",
   "execution_count": 3,
   "metadata": {
    "collapsed": false,
    "scrolled": false
   },
   "outputs": [],
   "source": [
    "#df_acs['FamilyType'] = df_acs.FamilyType.map( {'Married': 1, 'Female Head': 2, 'Male Head':3} ).astype(int)\n",
    "#df_acs['OwnRent'] = df_acs.OwnRent.map( {'Mortgage': 1, 'Rented': 2, 'Outright': 3} ).astype(int)"
   ]
  },
  {
   "cell_type": "code",
   "execution_count": 12,
   "metadata": {
    "collapsed": false,
    "scrolled": true
   },
   "outputs": [
    {
     "data": {
      "text/plain": [
       "Index([u'Acres', u'FamilyIncome', u'FamilyType', u'NumBedrooms',\n",
       "       u'NumChildren', u'NumPeople', u'NumRooms', u'NumUnits', u'NumVehicles',\n",
       "       u'NumWorkers', u'OwnRent', u'YearBuilt', u'HouseCosts', u'ElectricBill',\n",
       "       u'FoodStamp', u'HeatingFuel', u'Insurance', u'Language', u'Female Head',\n",
       "       u'Male Head', u'Married', u'Mortgage', u'Outright', u'Rented'],\n",
       "      dtype='object')"
      ]
     },
     "execution_count": 12,
     "metadata": {},
     "output_type": "execute_result"
    }
   ],
   "source": [
    "k = df_acs.keys()\n",
    "k"
   ]
  },
  {
   "cell_type": "code",
   "execution_count": 18,
   "metadata": {
    "collapsed": false
   },
   "outputs": [
    {
     "data": {
      "text/plain": [
       "'Rented'"
      ]
     },
     "execution_count": 18,
     "metadata": {},
     "output_type": "execute_result"
    }
   ],
   "source": [
    "k[23]"
   ]
  },
  {
   "cell_type": "code",
   "execution_count": 20,
   "metadata": {
    "collapsed": true
   },
   "outputs": [],
   "source": [
    "target = df_acs.NumChildren\n",
    "data   = df_acs.ix[:,[1, 18, 19, 20, 21, 22, 23]]"
   ]
  },
  {
   "cell_type": "code",
   "execution_count": 21,
   "metadata": {
    "collapsed": false
   },
   "outputs": [
    {
     "data": {
      "text/html": [
       "<div>\n",
       "<table border=\"1\" class=\"dataframe\">\n",
       "  <thead>\n",
       "    <tr style=\"text-align: right;\">\n",
       "      <th></th>\n",
       "      <th>FamilyIncome</th>\n",
       "      <th>Female Head</th>\n",
       "      <th>Male Head</th>\n",
       "      <th>Married</th>\n",
       "      <th>Mortgage</th>\n",
       "      <th>Outright</th>\n",
       "      <th>Rented</th>\n",
       "    </tr>\n",
       "  </thead>\n",
       "  <tbody>\n",
       "    <tr>\n",
       "      <th>0</th>\n",
       "      <td>150</td>\n",
       "      <td>0</td>\n",
       "      <td>0</td>\n",
       "      <td>1</td>\n",
       "      <td>1</td>\n",
       "      <td>0</td>\n",
       "      <td>0</td>\n",
       "    </tr>\n",
       "    <tr>\n",
       "      <th>1</th>\n",
       "      <td>180</td>\n",
       "      <td>1</td>\n",
       "      <td>0</td>\n",
       "      <td>0</td>\n",
       "      <td>0</td>\n",
       "      <td>0</td>\n",
       "      <td>1</td>\n",
       "    </tr>\n",
       "    <tr>\n",
       "      <th>2</th>\n",
       "      <td>280</td>\n",
       "      <td>1</td>\n",
       "      <td>0</td>\n",
       "      <td>0</td>\n",
       "      <td>1</td>\n",
       "      <td>0</td>\n",
       "      <td>0</td>\n",
       "    </tr>\n",
       "    <tr>\n",
       "      <th>3</th>\n",
       "      <td>330</td>\n",
       "      <td>1</td>\n",
       "      <td>0</td>\n",
       "      <td>0</td>\n",
       "      <td>0</td>\n",
       "      <td>0</td>\n",
       "      <td>1</td>\n",
       "    </tr>\n",
       "    <tr>\n",
       "      <th>4</th>\n",
       "      <td>330</td>\n",
       "      <td>0</td>\n",
       "      <td>1</td>\n",
       "      <td>0</td>\n",
       "      <td>1</td>\n",
       "      <td>0</td>\n",
       "      <td>0</td>\n",
       "    </tr>\n",
       "  </tbody>\n",
       "</table>\n",
       "</div>"
      ],
      "text/plain": [
       "   FamilyIncome  Female Head  Male Head  Married  Mortgage  Outright  Rented\n",
       "0           150            0          0        1         1         0       0\n",
       "1           180            1          0        0         0         0       1\n",
       "2           280            1          0        0         1         0       0\n",
       "3           330            1          0        0         0         0       1\n",
       "4           330            0          1        0         1         0       0"
      ]
     },
     "execution_count": 21,
     "metadata": {},
     "output_type": "execute_result"
    }
   ],
   "source": [
    "data.head()"
   ]
  },
  {
   "cell_type": "code",
   "execution_count": 22,
   "metadata": {
    "collapsed": false
   },
   "outputs": [
    {
     "data": {
      "text/plain": [
       "<matplotlib.axes._subplots.AxesSubplot at 0x103a80450>"
      ]
     },
     "execution_count": 22,
     "metadata": {},
     "output_type": "execute_result"
    },
    {
     "data": {
      "image/png": "[encoded data removed]",
      "text/plain": [
       "<matplotlib.figure.Figure at 0x103a80110>"
      ]
     },
     "metadata": {},
     "output_type": "display_data"
    }
   ],
   "source": [
    "plt.title(\"Histgram of Number of children.\")\n",
    "df_acs.NumChildren.hist(bins=13)"
   ]
  },
  {
   "cell_type": "code",
   "execution_count": 24,
   "metadata": {
    "collapsed": false
   },
   "outputs": [
    {
     "name": "stdout",
     "output_type": "stream",
     "text": [
      "[(18196, 7), (4549, 7), (18196,), (4549,)]\n"
     ]
    }
   ],
   "source": [
    "# 訓練データ(80%), テストデータ(20%)に分割する\n",
    "X_train, X_test, y_train, y_test = cross_validation.train_test_split(data, target, test_size=0.2, random_state=None)\n",
    "\n",
    "print [d.shape for d in [X_train, X_test, y_train, y_test]]"
   ]
  },
  {
   "cell_type": "code",
   "execution_count": 25,
   "metadata": {
    "collapsed": true
   },
   "outputs": [],
   "source": [
    "dat = {'N': X_train.shape[0], 'M': data.shape[1], 'X': X_train, 'y': y_train}"
   ]
  },
  {
   "cell_type": "code",
   "execution_count": 30,
   "metadata": {
    "collapsed": false
   },
   "outputs": [
    {
     "data": {
      "text/html": [
       "<div>\n",
       "<table border=\"1\" class=\"dataframe\">\n",
       "  <thead>\n",
       "    <tr style=\"text-align: right;\">\n",
       "      <th></th>\n",
       "      <th>FamilyIncome</th>\n",
       "      <th>Female Head</th>\n",
       "      <th>Male Head</th>\n",
       "      <th>Married</th>\n",
       "      <th>Mortgage</th>\n",
       "      <th>Outright</th>\n",
       "      <th>Rented</th>\n",
       "    </tr>\n",
       "  </thead>\n",
       "  <tbody>\n",
       "    <tr>\n",
       "      <th>17121</th>\n",
       "      <td>131700</td>\n",
       "      <td>0</td>\n",
       "      <td>0</td>\n",
       "      <td>1</td>\n",
       "      <td>1</td>\n",
       "      <td>0</td>\n",
       "      <td>0</td>\n",
       "    </tr>\n",
       "    <tr>\n",
       "      <th>77</th>\n",
       "      <td>11000</td>\n",
       "      <td>0</td>\n",
       "      <td>1</td>\n",
       "      <td>0</td>\n",
       "      <td>1</td>\n",
       "      <td>0</td>\n",
       "      <td>0</td>\n",
       "    </tr>\n",
       "    <tr>\n",
       "      <th>21742</th>\n",
       "      <td>300</td>\n",
       "      <td>1</td>\n",
       "      <td>0</td>\n",
       "      <td>0</td>\n",
       "      <td>0</td>\n",
       "      <td>0</td>\n",
       "      <td>1</td>\n",
       "    </tr>\n",
       "    <tr>\n",
       "      <th>16669</th>\n",
       "      <td>125400</td>\n",
       "      <td>0</td>\n",
       "      <td>0</td>\n",
       "      <td>1</td>\n",
       "      <td>1</td>\n",
       "      <td>0</td>\n",
       "      <td>0</td>\n",
       "    </tr>\n",
       "    <tr>\n",
       "      <th>11507</th>\n",
       "      <td>75000</td>\n",
       "      <td>0</td>\n",
       "      <td>0</td>\n",
       "      <td>1</td>\n",
       "      <td>0</td>\n",
       "      <td>0</td>\n",
       "      <td>1</td>\n",
       "    </tr>\n",
       "  </tbody>\n",
       "</table>\n",
       "</div>"
      ],
      "text/plain": [
       "       FamilyIncome  Female Head  Male Head  Married  Mortgage  Outright  \\\n",
       "17121        131700            0          0        1         1         0   \n",
       "77            11000            0          1        0         1         0   \n",
       "21742           300            1          0        0         0         0   \n",
       "16669        125400            0          0        1         1         0   \n",
       "11507         75000            0          0        1         0         0   \n",
       "\n",
       "       Rented  \n",
       "17121       0  \n",
       "77          0  \n",
       "21742       1  \n",
       "16669       0  \n",
       "11507       1  "
      ]
     },
     "execution_count": 30,
     "metadata": {},
     "output_type": "execute_result"
    }
   ],
   "source": [
    "X_train.head()"
   ]
  },
  {
   "cell_type": "code",
   "execution_count": 57,
   "metadata": {
    "collapsed": true
   },
   "outputs": [],
   "source": [
    "code = \"\"\"\n",
    "    data {\n",
    "        int<lower=0> N;\n",
    "        int<lower=0> M;\n",
    "        matrix[N, M] X;\n",
    "        int<lower=0,upper=20> y[N];\n",
    "    } parameters {\n",
    "        real beta0;\n",
    "        vector[M] beta; \n",
    "    } transformed parameters  {\n",
    "        real lp[N];\n",
    "        real <lower=0> mu[N]; \n",
    "        for (i in 1:N) {\n",
    "            mu[i] <- exp(beta0 + dot_product(X[i] , beta));\n",
    "        }\n",
    "    } model {\n",
    "        y ~ poisson(mu);\n",
    "    }\"\"\""
   ]
  },
  {
   "cell_type": "code",
   "execution_count": 58,
   "metadata": {
    "collapsed": false
   },
   "outputs": [
    {
     "name": "stdout",
     "output_type": "stream",
     "text": [
      "CPU times: user 1.79 s, sys: 247 ms, total: 2.04 s\n",
      "Wall time: 16.2 s\n"
     ]
    }
   ],
   "source": [
    "%time stm = StanModel(model_code=code)"
   ]
  },
  {
   "cell_type": "code",
   "execution_count": 59,
   "metadata": {
    "collapsed": false,
    "scrolled": false
   },
   "outputs": [
    {
     "ename": "RuntimeError",
     "evalue": "Rejecting initial value:\n  Log probability evaluates to log(0), i.e. negative infinity.\n  Stan can't start sampling from this initial value.\nRejecting initial value:\n  Log probability evaluates to log(0), i.e. negative infinity.\n  Stan can't start sampling from this initial value.\nRejecting initial value:\n  Log probability evaluates to log(0), i.e. negative infinity.\n  Stan can't start sampling from this initial value.\nRejecting initial value:\n  Log probability evaluates to log(0), i.e. negative infinity.\n  Stan can't start sampling from this initial value.\nRejecting initial value:\n  Log probability evaluates to log(0), i.e. negative infinity.\n  Stan can't start sampling from this initial value.\nRejecting initial value:\n  Log probability evaluates to log(0), i.e. negative infinity.\n  Stan can't start sampling from this initial value.\nRejecting initial value:\n  Log probability evaluates to log(0), i.e. negative infinity.\n  Stan can't start sampling from this initial value.\nRejecting initial value:\n  Log probability evaluates to log(0), i.e. negative infinity.\n  Stan can't start sampling from this initial value.\nRejecting initial value:\n  Log probability evaluates to log(0), i.e. negative infinity.\n  Stan can't start sampling from this initial value.\nRejecting initial value:\n  Log probability evaluates to log(0), i.e. negative infinity.\n  Stan can't start sampling from this initial value.\nRejecting initial value:\n  Log probability evaluates to log(0), i.e. negative infinity.\n  Stan can't start sampling from this initial value.\nRejecting initial value:\n  Log probability evaluates to log(0), i.e. negative infinity.\n  Stan can't start sampling from this initial value.\nRejecting initial value:\n  Log probability evaluates to log(0), i.e. negative infinity.\n  Stan can't start sampling from this initial value.\nRejecting initial value:\n  Log probability evaluates to log(0), i.e. negative infinity.\n  Stan can't start sampling from this initial value.\nRejecting initial value:\n  Log probability evaluates to log(0), i.e. negative infinity.\n  Stan can't start sampling from this initial value.\nRejecting initial value:\n  Log probability evaluates to log(0), i.e. negative infinity.\n  Stan can't start sampling from this initial value.\nRejecting initial value:\n  Log probability evaluates to log(0), i.e. negative infinity.\n  Stan can't start sampling from this initial value.\nRejecting initial value:\n  Log probability evaluates to log(0), i.e. negative infinity.\n  Stan can't start sampling from this initial value.\nRejecting initial value:\n  Log probability evaluates to log(0), i.e. negative infinity.\n  Stan can't start sampling from this initial value.\nRejecting initial value:\n  Log probability evaluates to log(0), i.e. negative infinity.\n  Stan can't start sampling from this initial value.\nRejecting initial value:\n  Log probability evaluates to log(0), i.e. negative infinity.\n  Stan can't start sampling from this initial value.\nRejecting initial value:\n  Log probability evaluates to log(0), i.e. negative infinity.\n  Stan can't start sampling from this initial value.\nRejecting initial value:\n  Log probability evaluates to log(0), i.e. negative infinity.\n  Stan can't start sampling from this initial value.\nRejecting initial value:\n  Log probability evaluates to log(0), i.e. negative infinity.\n  Stan can't start sampling from this initial value.\nRejecting initial value:\n  Log probability evaluates to log(0), i.e. negative infinity.\n  Stan can't start sampling from this initial value.\nRejecting initial value:\n  Log probability evaluates to log(0), i.e. negative infinity.\n  Stan can't start sampling from this initial value.\nRejecting initial value:\n  Log probability evaluates to log(0), i.e. negative infinity.\n  Stan can't start sampling from this initial value.\nRejecting initial value:\n  Log probability evaluates to log(0), i.e. negative infinity.\n  Stan can't start sampling from this initial value.\nRejecting initial value:\n  Log probability evaluates to log(0), i.e. negative infinity.\n  Stan can't start sampling from this initial value.\nRejecting initial value:\n  Log probability evaluates to log(0), i.e. negative infinity.\n  Stan can't start sampling from this initial value.\nRejecting initial value:\n  Log probability evaluates to log(0), i.e. negative infinity.\n  Stan can't start sampling from this initial value.\nRejecting initial value:\n  Log probability evaluates to log(0), i.e. negative infinity.\n  Stan can't start sampling from this initial value.\nRejecting initial value:\n  Log probability evaluates to log(0), i.e. negative infinity.\n  Stan can't start sampling from this initial value.\nRejecting initial value:\n  Log probability evaluates to log(0), i.e. negative infinity.\n  Stan can't start sampling from this initial value.\nRejecting initial value:\n  Log probability evaluates to log(0), i.e. negative infinity.\n  Stan can't start sampling from this initial value.\nRejecting initial value:\n  Log probability evaluates to log(0), i.e. negative infinity.\n  Stan can't start sampling from this initial value.\nRejecting initial value:\n  Log probability evaluates to log(0), i.e. negative infinity.\n  Stan can't start sampling from this initial value.\nRejecting initial value:\n  Log probability evaluates to log(0), i.e. negative infinity.\n  Stan can't start sampling from this initial value.\nRejecting initial value:\n  Log probability evaluates to log(0), i.e. negative infinity.\n  Stan can't start sampling from this initial value.\nRejecting initial value:\n  Log probability evaluates to log(0), i.e. negative infinity.\n  Stan can't start sampling from this initial value.\nRejecting initial value:\n  Log probability evaluates to log(0), i.e. negative infinity.\n  Stan can't start sampling from this initial value.\nRejecting initial value:\n  Log probability evaluates to log(0), i.e. negative infinity.\n  Stan can't start sampling from this initial value.\nRejecting initial value:\n  Log probability evaluates to log(0), i.e. negative infinity.\n  Stan can't start sampling from this initial value.\nRejecting initial value:\n  Log probability evaluates to log(0), i.e. negative infinity.\n  Stan can't start sampling from this initial value.\nRejecting initial value:\n  Log probability evaluates to log(0), i.e. negative infinity.\n  Stan can't start sampling from this initial value.\nRejecting initial value:\n  Log probability evaluates to log(0), i.e. negative infinity.\n  Stan can't start sampling from this initial value.\nRejecting initial value:\n  Log probability evaluates to log(0), i.e. negative infinity.\n  Stan can't start sampling from this initial value.\nRejecting initial value:\n  Log probability evaluates to log(0), i.e. negative infinity.\n  Stan can't start sampling from this initial value.\nRejecting initial value:\n  Log probability evaluates to log(0), i.e. negative infinity.\n  Stan can't start sampling from this initial value.\nRejecting initial value:\n  Log probability evaluates to log(0), i.e. negative infinity.\n  Stan can't start sampling from this initial value.\nRejecting initial value:\n  Log probability evaluates to log(0), i.e. negative infinity.\n  Stan can't start sampling from this initial value.\nRejecting initial value:\n  Log probability evaluates to log(0), i.e. negative infinity.\n  Stan can't start sampling from this initial value.\nRejecting initial value:\n  Log probability evaluates to log(0), i.e. negative infinity.\n  Stan can't start sampling from this initial value.\nRejecting initial value:\n  Log probability evaluates to log(0), i.e. negative infinity.\n  Stan can't start sampling from this initial value.\nRejecting initial value:\n  Log probability evaluates to log(0), i.e. negative infinity.\n  Stan can't start sampling from this initial value.\nRejecting initial value:\n  Log probability evaluates to log(0), i.e. negative infinity.\n  Stan can't start sampling from this initial value.\nRejecting initial value:\n  Log probability evaluates to log(0), i.e. negative infinity.\n  Stan can't start sampling from this initial value.\nRejecting initial value:\n  Log probability evaluates to log(0), i.e. negative infinity.\n  Stan can't start sampling from this initial value.\nRejecting initial value:\n  Log probability evaluates to log(0), i.e. negative infinity.\n  Stan can't start sampling from this initial value.\nRejecting initial value:\n  Log probability evaluates to log(0), i.e. negative infinity.\n  Stan can't start sampling from this initial value.\nRejecting initial value:\n  Log probability evaluates to log(0), i.e. negative infinity.\n  Stan can't start sampling from this initial value.\nRejecting initial value:\n  Log probability evaluates to log(0), i.e. negative infinity.\n  Stan can't start sampling from this initial value.\nRejecting initial value:\n  Log probability evaluates to log(0), i.e. negative infinity.\n  Stan can't start sampling from this initial value.\nRejecting initial value:\n  Log probability evaluates to log(0), i.e. negative infinity.\n  Stan can't start sampling from this initial value.\nRejecting initial value:\n  Log probability evaluates to log(0), i.e. negative infinity.\n  Stan can't start sampling from this initial value.\nRejecting initial value:\n  Log probability evaluates to log(0), i.e. negative infinity.\n  Stan can't start sampling from this initial value.\nRejecting initial value:\n  Log probability evaluates to log(0), i.e. negative infinity.\n  Stan can't start sampling from this initial value.\nRejecting initial value:\n  Log probability evaluates to log(0), i.e. negative infinity.\n  Stan can't start sampling from this initial value.\nRejecting initial value:\n  Log probability evaluates to log(0), i.e. negative infinity.\n  Stan can't start sampling from this initial value.\nRejecting initial value:\n  Log probability evaluates to log(0), i.e. negative infinity.\n  Stan can't start sampling from this initial value.\nRejecting initial value:\n  Log probability evaluates to log(0), i.e. negative infinity.\n  Stan can't start sampling from this initial value.\nRejecting initial value:\n  Log probability evaluates to log(0), i.e. negative infinity.\n  Stan can't start sampling from this initial value.\nRejecting initial value:\n  Log probability evaluates to log(0), i.e. negative infinity.\n  Stan can't start sampling from this initial value.\nRejecting initial value:\n  Log probability evaluates to log(0), i.e. negative infinity.\n  Stan can't start sampling from this initial value.\nRejecting initial value:\n  Log probability evaluates to log(0), i.e. negative infinity.\n  Stan can't start sampling from this initial value.\nRejecting initial value:\n  Log probability evaluates to log(0), i.e. negative infinity.\n  Stan can't start sampling from this initial value.\nRejecting initial value:\n  Log probability evaluates to log(0), i.e. negative infinity.\n  Stan can't start sampling from this initial value.\nRejecting initial value:\n  Log probability evaluates to log(0), i.e. negative infinity.\n  Stan can't start sampling from this initial value.\nRejecting initial value:\n  Log probability evaluates to log(0), i.e. negative infinity.\n  Stan can't start sampling from this initial value.\nRejecting initial value:\n  Log probability evaluates to log(0), i.e. negative infinity.\n  Stan can't start sampling from this initial value.\nRejecting initial value:\n  Log probability evaluates to log(0), i.e. negative infinity.\n  Stan can't start sampling from this initial value.\nRejecting initial value:\n  Log probability evaluates to log(0), i.e. negative infinity.\n  Stan can't start sampling from this initial value.\nRejecting initial value:\n  Log probability evaluates to log(0), i.e. negative infinity.\n  Stan can't start sampling from this initial value.\nRejecting initial value:\n  Log probability evaluates to log(0), i.e. negative infinity.\n  Stan can't start sampling from this initial value.\nRejecting initial value:\n  Log probability evaluates to log(0), i.e. negative infinity.\n  Stan can't start sampling from this initial value.\nRejecting initial value:\n  Log probability evaluates to log(0), i.e. negative infinity.\n  Stan can't start sampling from this initial value.\nRejecting initial value:\n  Log probability evaluates to log(0), i.e. negative infinity.\n  Stan can't start sampling from this initial value.\nRejecting initial value:\n  Log probability evaluates to log(0), i.e. negative infinity.\n  Stan can't start sampling from this initial value.\nRejecting initial value:\n  Log probability evaluates to log(0), i.e. negative infinity.\n  Stan can't start sampling from this initial value.\nRejecting initial value:\n  Log probability evaluates to log(0), i.e. negative infinity.\n  Stan can't start sampling from this initial value.\nRejecting initial value:\n  Log probability evaluates to log(0), i.e. negative infinity.\n  Stan can't start sampling from this initial value.\nRejecting initial value:\n  Log probability evaluates to log(0), i.e. negative infinity.\n  Stan can't start sampling from this initial value.\nRejecting initial value:\n  Log probability evaluates to log(0), i.e. negative infinity.\n  Stan can't start sampling from this initial value.\nRejecting initial value:\n  Log probability evaluates to log(0), i.e. negative infinity.\n  Stan can't start sampling from this initial value.\nRejecting initial value:\n  Log probability evaluates to log(0), i.e. negative infinity.\n  Stan can't start sampling from this initial value.\nRejecting initial value:\n  Log probability evaluates to log(0), i.e. negative infinity.\n  Stan can't start sampling from this initial value.\nRejecting initial value:\n  Log probability evaluates to log(0), i.e. negative infinity.\n  Stan can't start sampling from this initial value.\nRejecting initial value:\n  Log probability evaluates to log(0), i.e. negative infinity.\n  Stan can't start sampling from this initial value.\nRejecting initial value:\n  Log probability evaluates to log(0), i.e. negative infinity.\n  Stan can't start sampling from this initial value.\nRejecting initial value:\n  Log probability evaluates to log(0), i.e. negative infinity.\n  Stan can't start sampling from this initial value.\n\n\nInitialization between (-2, 2) failed after 100 attempts. \n Try specifying initial values, reducing ranges of constrained values, or reparameterizing the model.\n",
     "output_type": "error",
     "traceback": [
      "\u001b[0;31m---------------------------------------------------------------------------\u001b[0m",
      "\u001b[0;31mRuntimeError\u001b[0m                              Traceback (most recent call last)",
      "\u001b[0;32m<ipython-input-59-4063eb35aa3f>\u001b[0m in \u001b[0;36m<module>\u001b[0;34m()\u001b[0m\n\u001b[1;32m      3\u001b[0m \u001b[0mchains\u001b[0m \u001b[0;34m=\u001b[0m \u001b[0;36m2\u001b[0m\u001b[0;34m\u001b[0m\u001b[0m\n\u001b[1;32m      4\u001b[0m \u001b[0;34m\u001b[0m\u001b[0m\n\u001b[0;32m----> 5\u001b[0;31m \u001b[0mget_ipython\u001b[0m\u001b[0;34m(\u001b[0m\u001b[0;34m)\u001b[0m\u001b[0;34m.\u001b[0m\u001b[0mmagic\u001b[0m\u001b[0;34m(\u001b[0m\u001b[0;34mu'time fit = stm.sampling(data=dat, iter=n_itr, chains=chains, n_jobs=-1, warmup=n_warmup, algorithm=\"NUTS\", verbose=False)'\u001b[0m\u001b[0;34m)\u001b[0m\u001b[0;34m\u001b[0m\u001b[0m\n\u001b[0m\u001b[1;32m      6\u001b[0m \u001b[0mla\u001b[0m    \u001b[0;34m=\u001b[0m \u001b[0mfit\u001b[0m\u001b[0;34m.\u001b[0m\u001b[0mextract\u001b[0m\u001b[0;34m(\u001b[0m\u001b[0mpermuted\u001b[0m\u001b[0;34m=\u001b[0m\u001b[0mTrue\u001b[0m\u001b[0;34m)\u001b[0m  \u001b[0;31m# return a dictionary of arrays\u001b[0m\u001b[0;34m\u001b[0m\u001b[0m\n\u001b[1;32m      7\u001b[0m \u001b[0mnames\u001b[0m \u001b[0;34m=\u001b[0m \u001b[0mfit\u001b[0m\u001b[0;34m.\u001b[0m\u001b[0mmodel_pars\u001b[0m\u001b[0;34m\u001b[0m\u001b[0m\n",
      "\u001b[0;32m/Users/matsuken/anaconda/lib/python2.7/site-packages/IPython/core/interactiveshell.pyc\u001b[0m in \u001b[0;36mmagic\u001b[0;34m(self, arg_s)\u001b[0m\n\u001b[1;32m   2334\u001b[0m         \u001b[0mmagic_name\u001b[0m\u001b[0;34m,\u001b[0m \u001b[0m_\u001b[0m\u001b[0;34m,\u001b[0m \u001b[0mmagic_arg_s\u001b[0m \u001b[0;34m=\u001b[0m \u001b[0marg_s\u001b[0m\u001b[0;34m.\u001b[0m\u001b[0mpartition\u001b[0m\u001b[0;34m(\u001b[0m\u001b[0;34m' '\u001b[0m\u001b[0;34m)\u001b[0m\u001b[0;34m\u001b[0m\u001b[0m\n\u001b[1;32m   2335\u001b[0m         \u001b[0mmagic_name\u001b[0m \u001b[0;34m=\u001b[0m \u001b[0mmagic_name\u001b[0m\u001b[0;34m.\u001b[0m\u001b[0mlstrip\u001b[0m\u001b[0;34m(\u001b[0m\u001b[0mprefilter\u001b[0m\u001b[0;34m.\u001b[0m\u001b[0mESC_MAGIC\u001b[0m\u001b[0;34m)\u001b[0m\u001b[0;34m\u001b[0m\u001b[0m\n\u001b[0;32m-> 2336\u001b[0;31m         \u001b[0;32mreturn\u001b[0m \u001b[0mself\u001b[0m\u001b[0;34m.\u001b[0m\u001b[0mrun_line_magic\u001b[0m\u001b[0;34m(\u001b[0m\u001b[0mmagic_name\u001b[0m\u001b[0;34m,\u001b[0m \u001b[0mmagic_arg_s\u001b[0m\u001b[0;34m)\u001b[0m\u001b[0;34m\u001b[0m\u001b[0m\n\u001b[0m\u001b[1;32m   2337\u001b[0m \u001b[0;34m\u001b[0m\u001b[0m\n\u001b[1;32m   2338\u001b[0m     \u001b[0;31m#-------------------------------------------------------------------------\u001b[0m\u001b[0;34m\u001b[0m\u001b[0;34m\u001b[0m\u001b[0m\n",
      "\u001b[0;32m/Users/matsuken/anaconda/lib/python2.7/site-packages/IPython/core/interactiveshell.pyc\u001b[0m in \u001b[0;36mrun_line_magic\u001b[0;34m(self, magic_name, line)\u001b[0m\n\u001b[1;32m   2255\u001b[0m                 \u001b[0mkwargs\u001b[0m\u001b[0;34m[\u001b[0m\u001b[0;34m'local_ns'\u001b[0m\u001b[0;34m]\u001b[0m \u001b[0;34m=\u001b[0m \u001b[0msys\u001b[0m\u001b[0;34m.\u001b[0m\u001b[0m_getframe\u001b[0m\u001b[0;34m(\u001b[0m\u001b[0mstack_depth\u001b[0m\u001b[0;34m)\u001b[0m\u001b[0;34m.\u001b[0m\u001b[0mf_locals\u001b[0m\u001b[0;34m\u001b[0m\u001b[0m\n\u001b[1;32m   2256\u001b[0m             \u001b[0;32mwith\u001b[0m \u001b[0mself\u001b[0m\u001b[0;34m.\u001b[0m\u001b[0mbuiltin_trap\u001b[0m\u001b[0;34m:\u001b[0m\u001b[0;34m\u001b[0m\u001b[0m\n\u001b[0;32m-> 2257\u001b[0;31m                 \u001b[0mresult\u001b[0m \u001b[0;34m=\u001b[0m \u001b[0mfn\u001b[0m\u001b[0;34m(\u001b[0m\u001b[0;34m*\u001b[0m\u001b[0margs\u001b[0m\u001b[0;34m,\u001b[0m\u001b[0;34m**\u001b[0m\u001b[0mkwargs\u001b[0m\u001b[0;34m)\u001b[0m\u001b[0;34m\u001b[0m\u001b[0m\n\u001b[0m\u001b[1;32m   2258\u001b[0m             \u001b[0;32mreturn\u001b[0m \u001b[0mresult\u001b[0m\u001b[0;34m\u001b[0m\u001b[0m\n\u001b[1;32m   2259\u001b[0m \u001b[0;34m\u001b[0m\u001b[0m\n",
      "\u001b[0;32m/Users/matsuken/anaconda/lib/python2.7/site-packages/IPython/core/magics/execution.pyc\u001b[0m in \u001b[0;36mtime\u001b[0;34m(self, line, cell, local_ns)\u001b[0m\n",
      "\u001b[0;32m/Users/matsuken/anaconda/lib/python2.7/site-packages/IPython/core/magic.pyc\u001b[0m in \u001b[0;36m<lambda>\u001b[0;34m(f, *a, **k)\u001b[0m\n\u001b[1;32m    191\u001b[0m     \u001b[0;31m# but it's overkill for just that one bit of state.\u001b[0m\u001b[0;34m\u001b[0m\u001b[0;34m\u001b[0m\u001b[0m\n\u001b[1;32m    192\u001b[0m     \u001b[0;32mdef\u001b[0m \u001b[0mmagic_deco\u001b[0m\u001b[0;34m(\u001b[0m\u001b[0marg\u001b[0m\u001b[0;34m)\u001b[0m\u001b[0;34m:\u001b[0m\u001b[0;34m\u001b[0m\u001b[0m\n\u001b[0;32m--> 193\u001b[0;31m         \u001b[0mcall\u001b[0m \u001b[0;34m=\u001b[0m \u001b[0;32mlambda\u001b[0m \u001b[0mf\u001b[0m\u001b[0;34m,\u001b[0m \u001b[0;34m*\u001b[0m\u001b[0ma\u001b[0m\u001b[0;34m,\u001b[0m \u001b[0;34m**\u001b[0m\u001b[0mk\u001b[0m\u001b[0;34m:\u001b[0m \u001b[0mf\u001b[0m\u001b[0;34m(\u001b[0m\u001b[0;34m*\u001b[0m\u001b[0ma\u001b[0m\u001b[0;34m,\u001b[0m \u001b[0;34m**\u001b[0m\u001b[0mk\u001b[0m\u001b[0;34m)\u001b[0m\u001b[0;34m\u001b[0m\u001b[0m\n\u001b[0m\u001b[1;32m    194\u001b[0m \u001b[0;34m\u001b[0m\u001b[0m\n\u001b[1;32m    195\u001b[0m         \u001b[0;32mif\u001b[0m \u001b[0mcallable\u001b[0m\u001b[0;34m(\u001b[0m\u001b[0marg\u001b[0m\u001b[0;34m)\u001b[0m\u001b[0;34m:\u001b[0m\u001b[0;34m\u001b[0m\u001b[0m\n",
      "\u001b[0;32m/Users/matsuken/anaconda/lib/python2.7/site-packages/IPython/core/magics/execution.pyc\u001b[0m in \u001b[0;36mtime\u001b[0;34m(self, line, cell, local_ns)\u001b[0m\n\u001b[1;32m   1165\u001b[0m         \u001b[0;32melse\u001b[0m\u001b[0;34m:\u001b[0m\u001b[0;34m\u001b[0m\u001b[0m\n\u001b[1;32m   1166\u001b[0m             \u001b[0mst\u001b[0m \u001b[0;34m=\u001b[0m \u001b[0mclock2\u001b[0m\u001b[0;34m(\u001b[0m\u001b[0;34m)\u001b[0m\u001b[0;34m\u001b[0m\u001b[0m\n\u001b[0;32m-> 1167\u001b[0;31m             \u001b[0;32mexec\u001b[0m\u001b[0;34m(\u001b[0m\u001b[0mcode\u001b[0m\u001b[0;34m,\u001b[0m \u001b[0mglob\u001b[0m\u001b[0;34m,\u001b[0m \u001b[0mlocal_ns\u001b[0m\u001b[0;34m)\u001b[0m\u001b[0;34m\u001b[0m\u001b[0m\n\u001b[0m\u001b[1;32m   1168\u001b[0m             \u001b[0mend\u001b[0m \u001b[0;34m=\u001b[0m \u001b[0mclock2\u001b[0m\u001b[0;34m(\u001b[0m\u001b[0;34m)\u001b[0m\u001b[0;34m\u001b[0m\u001b[0m\n\u001b[1;32m   1169\u001b[0m             \u001b[0mout\u001b[0m \u001b[0;34m=\u001b[0m \u001b[0mNone\u001b[0m\u001b[0;34m\u001b[0m\u001b[0m\n",
      "\u001b[0;32m<timed exec>\u001b[0m in \u001b[0;36m<module>\u001b[0;34m()\u001b[0m\n",
      "\u001b[0;32m/Users/matsuken/anaconda/lib/python2.7/site-packages/pystan/model.pyc\u001b[0m in \u001b[0;36msampling\u001b[0;34m(self, data, pars, chains, iter, warmup, thin, seed, init, sample_file, diagnostic_file, verbose, algorithm, control, n_jobs, **kwargs)\u001b[0m\n\u001b[1;32m    725\u001b[0m         \u001b[0mcall_sampler_args\u001b[0m \u001b[0;34m=\u001b[0m \u001b[0mizip\u001b[0m\u001b[0;34m(\u001b[0m\u001b[0mitertools\u001b[0m\u001b[0;34m.\u001b[0m\u001b[0mrepeat\u001b[0m\u001b[0;34m(\u001b[0m\u001b[0mdata\u001b[0m\u001b[0;34m)\u001b[0m\u001b[0;34m,\u001b[0m \u001b[0margs_list\u001b[0m\u001b[0;34m)\u001b[0m\u001b[0;34m\u001b[0m\u001b[0m\n\u001b[1;32m    726\u001b[0m         \u001b[0mcall_sampler_star\u001b[0m \u001b[0;34m=\u001b[0m \u001b[0mself\u001b[0m\u001b[0;34m.\u001b[0m\u001b[0mmodule\u001b[0m\u001b[0;34m.\u001b[0m\u001b[0m_call_sampler_star\u001b[0m\u001b[0;34m\u001b[0m\u001b[0m\n\u001b[0;32m--> 727\u001b[0;31m         \u001b[0mret_and_samples\u001b[0m \u001b[0;34m=\u001b[0m \u001b[0m_map_parallel\u001b[0m\u001b[0;34m(\u001b[0m\u001b[0mcall_sampler_star\u001b[0m\u001b[0;34m,\u001b[0m \u001b[0mcall_sampler_args\u001b[0m\u001b[0;34m,\u001b[0m \u001b[0mn_jobs\u001b[0m\u001b[0;34m)\u001b[0m\u001b[0;34m\u001b[0m\u001b[0m\n\u001b[0m\u001b[1;32m    728\u001b[0m         \u001b[0msamples\u001b[0m \u001b[0;34m=\u001b[0m \u001b[0;34m[\u001b[0m\u001b[0msmpl\u001b[0m \u001b[0;32mfor\u001b[0m \u001b[0m_\u001b[0m\u001b[0;34m,\u001b[0m \u001b[0msmpl\u001b[0m \u001b[0;32min\u001b[0m \u001b[0mret_and_samples\u001b[0m\u001b[0;34m]\u001b[0m\u001b[0;34m\u001b[0m\u001b[0m\n\u001b[1;32m    729\u001b[0m \u001b[0;34m\u001b[0m\u001b[0m\n",
      "\u001b[0;32m/Users/matsuken/anaconda/lib/python2.7/site-packages/pystan/model.pyc\u001b[0m in \u001b[0;36m_map_parallel\u001b[0;34m(function, args, n_jobs)\u001b[0m\n\u001b[1;32m     78\u001b[0m             \u001b[0mn_jobs\u001b[0m \u001b[0;34m=\u001b[0m \u001b[0mNone\u001b[0m\u001b[0;34m\u001b[0m\u001b[0m\n\u001b[1;32m     79\u001b[0m         \u001b[0mpool\u001b[0m \u001b[0;34m=\u001b[0m \u001b[0mmultiprocessing\u001b[0m\u001b[0;34m.\u001b[0m\u001b[0mPool\u001b[0m\u001b[0;34m(\u001b[0m\u001b[0mprocesses\u001b[0m\u001b[0;34m=\u001b[0m\u001b[0mn_jobs\u001b[0m\u001b[0;34m)\u001b[0m\u001b[0;34m\u001b[0m\u001b[0m\n\u001b[0;32m---> 80\u001b[0;31m         \u001b[0mmap_result\u001b[0m \u001b[0;34m=\u001b[0m \u001b[0mpool\u001b[0m\u001b[0;34m.\u001b[0m\u001b[0mmap\u001b[0m\u001b[0;34m(\u001b[0m\u001b[0mfunction\u001b[0m\u001b[0;34m,\u001b[0m \u001b[0margs\u001b[0m\u001b[0;34m)\u001b[0m\u001b[0;34m\u001b[0m\u001b[0m\n\u001b[0m\u001b[1;32m     81\u001b[0m         \u001b[0mpool\u001b[0m\u001b[0;34m.\u001b[0m\u001b[0mclose\u001b[0m\u001b[0;34m(\u001b[0m\u001b[0;34m)\u001b[0m\u001b[0;34m\u001b[0m\u001b[0m\n\u001b[1;32m     82\u001b[0m         \u001b[0mpool\u001b[0m\u001b[0;34m.\u001b[0m\u001b[0mjoin\u001b[0m\u001b[0;34m(\u001b[0m\u001b[0;34m)\u001b[0m\u001b[0;34m\u001b[0m\u001b[0m\n",
      "\u001b[0;32m/Users/matsuken/anaconda/lib/python2.7/multiprocessing/pool.pyc\u001b[0m in \u001b[0;36mmap\u001b[0;34m(self, func, iterable, chunksize)\u001b[0m\n\u001b[1;32m    249\u001b[0m         '''\n\u001b[1;32m    250\u001b[0m         \u001b[0;32massert\u001b[0m \u001b[0mself\u001b[0m\u001b[0;34m.\u001b[0m\u001b[0m_state\u001b[0m \u001b[0;34m==\u001b[0m \u001b[0mRUN\u001b[0m\u001b[0;34m\u001b[0m\u001b[0m\n\u001b[0;32m--> 251\u001b[0;31m         \u001b[0;32mreturn\u001b[0m \u001b[0mself\u001b[0m\u001b[0;34m.\u001b[0m\u001b[0mmap_async\u001b[0m\u001b[0;34m(\u001b[0m\u001b[0mfunc\u001b[0m\u001b[0;34m,\u001b[0m \u001b[0miterable\u001b[0m\u001b[0;34m,\u001b[0m \u001b[0mchunksize\u001b[0m\u001b[0;34m)\u001b[0m\u001b[0;34m.\u001b[0m\u001b[0mget\u001b[0m\u001b[0;34m(\u001b[0m\u001b[0;34m)\u001b[0m\u001b[0;34m\u001b[0m\u001b[0m\n\u001b[0m\u001b[1;32m    252\u001b[0m \u001b[0;34m\u001b[0m\u001b[0m\n\u001b[1;32m    253\u001b[0m     \u001b[0;32mdef\u001b[0m \u001b[0mimap\u001b[0m\u001b[0;34m(\u001b[0m\u001b[0mself\u001b[0m\u001b[0;34m,\u001b[0m \u001b[0mfunc\u001b[0m\u001b[0;34m,\u001b[0m \u001b[0miterable\u001b[0m\u001b[0;34m,\u001b[0m \u001b[0mchunksize\u001b[0m\u001b[0;34m=\u001b[0m\u001b[0;36m1\u001b[0m\u001b[0;34m)\u001b[0m\u001b[0;34m:\u001b[0m\u001b[0;34m\u001b[0m\u001b[0m\n",
      "\u001b[0;32m/Users/matsuken/anaconda/lib/python2.7/multiprocessing/pool.pyc\u001b[0m in \u001b[0;36mget\u001b[0;34m(self, timeout)\u001b[0m\n\u001b[1;32m    565\u001b[0m             \u001b[0;32mreturn\u001b[0m \u001b[0mself\u001b[0m\u001b[0;34m.\u001b[0m\u001b[0m_value\u001b[0m\u001b[0;34m\u001b[0m\u001b[0m\n\u001b[1;32m    566\u001b[0m         \u001b[0;32melse\u001b[0m\u001b[0;34m:\u001b[0m\u001b[0;34m\u001b[0m\u001b[0m\n\u001b[0;32m--> 567\u001b[0;31m             \u001b[0;32mraise\u001b[0m \u001b[0mself\u001b[0m\u001b[0;34m.\u001b[0m\u001b[0m_value\u001b[0m\u001b[0;34m\u001b[0m\u001b[0m\n\u001b[0m\u001b[1;32m    568\u001b[0m \u001b[0;34m\u001b[0m\u001b[0m\n\u001b[1;32m    569\u001b[0m     \u001b[0;32mdef\u001b[0m \u001b[0m_set\u001b[0m\u001b[0;34m(\u001b[0m\u001b[0mself\u001b[0m\u001b[0;34m,\u001b[0m \u001b[0mi\u001b[0m\u001b[0;34m,\u001b[0m \u001b[0mobj\u001b[0m\u001b[0;34m)\u001b[0m\u001b[0;34m:\u001b[0m\u001b[0;34m\u001b[0m\u001b[0m\n",
      "\u001b[0;31mRuntimeError\u001b[0m: Rejecting initial value:\n  Log probability evaluates to log(0), i.e. negative infinity.\n  Stan can't start sampling from this initial value.\nRejecting initial value:\n  Log probability evaluates to log(0), i.e. negative infinity.\n  Stan can't start sampling from this initial value.\nRejecting initial value:\n  Log probability evaluates to log(0), i.e. negative infinity.\n  Stan can't start sampling from this initial value.\nRejecting initial value:\n  Log probability evaluates to log(0), i.e. negative infinity.\n  Stan can't start sampling from this initial value.\nRejecting initial value:\n  Log probability evaluates to log(0), i.e. negative infinity.\n  Stan can't start sampling from this initial value.\nRejecting initial value:\n  Log probability evaluates to log(0), i.e. negative infinity.\n  Stan can't start sampling from this initial value.\nRejecting initial value:\n  Log probability evaluates to log(0), i.e. negative infinity.\n  Stan can't start sampling from this initial value.\nRejecting initial value:\n  Log probability evaluates to log(0), i.e. negative infinity.\n  Stan can't start sampling from this initial value.\nRejecting initial value:\n  Log probability evaluates to log(0), i.e. negative infinity.\n  Stan can't start sampling from this initial value.\nRejecting initial value:\n  Log probability evaluates to log(0), i.e. negative infinity.\n  Stan can't start sampling from this initial value.\nRejecting initial value:\n  Log probability evaluates to log(0), i.e. negative infinity.\n  Stan can't start sampling from this initial value.\nRejecting initial value:\n  Log probability evaluates to log(0), i.e. negative infinity.\n  Stan can't start sampling from this initial value.\nRejecting initial value:\n  Log probability evaluates to log(0), i.e. negative infinity.\n  Stan can't start sampling from this initial value.\nRejecting initial value:\n  Log probability evaluates to log(0), i.e. negative infinity.\n  Stan can't start sampling from this initial value.\nRejecting initial value:\n  Log probability evaluates to log(0), i.e. negative infinity.\n  Stan can't start sampling from this initial value.\nRejecting initial value:\n  Log probability evaluates to log(0), i.e. negative infinity.\n  Stan can't start sampling from this initial value.\nRejecting initial value:\n  Log probability evaluates to log(0), i.e. negative infinity.\n  Stan can't start sampling from this initial value.\nRejecting initial value:\n  Log probability evaluates to log(0), i.e. negative infinity.\n  Stan can't start sampling from this initial value.\nRejecting initial value:\n  Log probability evaluates to log(0), i.e. negative infinity.\n  Stan can't start sampling from this initial value.\nRejecting initial value:\n  Log probability evaluates to log(0), i.e. negative infinity.\n  Stan can't start sampling from this initial value.\nRejecting initial value:\n  Log probability evaluates to log(0), i.e. negative infinity.\n  Stan can't start sampling from this initial value.\nRejecting initial value:\n  Log probability evaluates to log(0), i.e. negative infinity.\n  Stan can't start sampling from this initial value.\nRejecting initial value:\n  Log probability evaluates to log(0), i.e. negative infinity.\n  Stan can't start sampling from this initial value.\nRejecting initial value:\n  Log probability evaluates to log(0), i.e. negative infinity.\n  Stan can't start sampling from this initial value.\nRejecting initial value:\n  Log probability evaluates to log(0), i.e. negative infinity.\n  Stan can't start sampling from this initial value.\nRejecting initial value:\n  Log probability evaluates to log(0), i.e. negative infinity.\n  Stan can't start sampling from this initial value.\nRejecting initial value:\n  Log probability evaluates to log(0), i.e. negative infinity.\n  Stan can't start sampling from this initial value.\nRejecting initial value:\n  Log probability evaluates to log(0), i.e. negative infinity.\n  Stan can't start sampling from this initial value.\nRejecting initial value:\n  Log probability evaluates to log(0), i.e. negative infinity.\n  Stan can't start sampling from this initial value.\nRejecting initial value:\n  Log probability evaluates to log(0), i.e. negative infinity.\n  Stan can't start sampling from this initial value.\nRejecting initial value:\n  Log probability evaluates to log(0), i.e. negative infinity.\n  Stan can't start sampling from this initial value.\nRejecting initial value:\n  Log probability evaluates to log(0), i.e. negative infinity.\n  Stan can't start sampling from this initial value.\nRejecting initial value:\n  Log probability evaluates to log(0), i.e. negative infinity.\n  Stan can't start sampling from this initial value.\nRejecting initial value:\n  Log probability evaluates to log(0), i.e. negative infinity.\n  Stan can't start sampling from this initial value.\nRejecting initial value:\n  Log probability evaluates to log(0), i.e. negative infinity.\n  Stan can't start sampling from this initial value.\nRejecting initial value:\n  Log probability evaluates to log(0), i.e. negative infinity.\n  Stan can't start sampling from this initial value.\nRejecting initial value:\n  Log probability evaluates to log(0), i.e. negative infinity.\n  Stan can't start sampling from this initial value.\nRejecting initial value:\n  Log probability evaluates to log(0), i.e. negative infinity.\n  Stan can't start sampling from this initial value.\nRejecting initial value:\n  Log probability evaluates to log(0), i.e. negative infinity.\n  Stan can't start sampling from this initial value.\nRejecting initial value:\n  Log probability evaluates to log(0), i.e. negative infinity.\n  Stan can't start sampling from this initial value.\nRejecting initial value:\n  Log probability evaluates to log(0), i.e. negative infinity.\n  Stan can't start sampling from this initial value.\nRejecting initial value:\n  Log probability evaluates to log(0), i.e. negative infinity.\n  Stan can't start sampling from this initial value.\nRejecting initial value:\n  Log probability evaluates to log(0), i.e. negative infinity.\n  Stan can't start sampling from this initial value.\nRejecting initial value:\n  Log probability evaluates to log(0), i.e. negative infinity.\n  Stan can't start sampling from this initial value.\nRejecting initial value:\n  Log probability evaluates to log(0), i.e. negative infinity.\n  Stan can't start sampling from this initial value.\nRejecting initial value:\n  Log probability evaluates to log(0), i.e. negative infinity.\n  Stan can't start sampling from this initial value.\nRejecting initial value:\n  Log probability evaluates to log(0), i.e. negative infinity.\n  Stan can't start sampling from this initial value.\nRejecting initial value:\n  Log probability evaluates to log(0), i.e. negative infinity.\n  Stan can't start sampling from this initial value.\nRejecting initial value:\n  Log probability evaluates to log(0), i.e. negative infinity.\n  Stan can't start sampling from this initial value.\nRejecting initial value:\n  Log probability evaluates to log(0), i.e. negative infinity.\n  Stan can't start sampling from this initial value.\nRejecting initial value:\n  Log probability evaluates to log(0), i.e. negative infinity.\n  Stan can't start sampling from this initial value.\nRejecting initial value:\n  Log probability evaluates to log(0), i.e. negative infinity.\n  Stan can't start sampling from this initial value.\nRejecting initial value:\n  Log probability evaluates to log(0), i.e. negative infinity.\n  Stan can't start sampling from this initial value.\nRejecting initial value:\n  Log probability evaluates to log(0), i.e. negative infinity.\n  Stan can't start sampling from this initial value.\nRejecting initial value:\n  Log probability evaluates to log(0), i.e. negative infinity.\n  Stan can't start sampling from this initial value.\nRejecting initial value:\n  Log probability evaluates to log(0), i.e. negative infinity.\n  Stan can't start sampling from this initial value.\nRejecting initial value:\n  Log probability evaluates to log(0), i.e. negative infinity.\n  Stan can't start sampling from this initial value.\nRejecting initial value:\n  Log probability evaluates to log(0), i.e. negative infinity.\n  Stan can't start sampling from this initial value.\nRejecting initial value:\n  Log probability evaluates to log(0), i.e. negative infinity.\n  Stan can't start sampling from this initial value.\nRejecting initial value:\n  Log probability evaluates to log(0), i.e. negative infinity.\n  Stan can't start sampling from this initial value.\nRejecting initial value:\n  Log probability evaluates to log(0), i.e. negative infinity.\n  Stan can't start sampling from this initial value.\nRejecting initial value:\n  Log probability evaluates to log(0), i.e. negative infinity.\n  Stan can't start sampling from this initial value.\nRejecting initial value:\n  Log probability evaluates to log(0), i.e. negative infinity.\n  Stan can't start sampling from this initial value.\nRejecting initial value:\n  Log probability evaluates to log(0), i.e. negative infinity.\n  Stan can't start sampling from this initial value.\nRejecting initial value:\n  Log probability evaluates to log(0), i.e. negative infinity.\n  Stan can't start sampling from this initial value.\nRejecting initial value:\n  Log probability evaluates to log(0), i.e. negative infinity.\n  Stan can't start sampling from this initial value.\nRejecting initial value:\n  Log probability evaluates to log(0), i.e. negative infinity.\n  Stan can't start sampling from this initial value.\nRejecting initial value:\n  Log probability evaluates to log(0), i.e. negative infinity.\n  Stan can't start sampling from this initial value.\nRejecting initial value:\n  Log probability evaluates to log(0), i.e. negative infinity.\n  Stan can't start sampling from this initial value.\nRejecting initial value:\n  Log probability evaluates to log(0), i.e. negative infinity.\n  Stan can't start sampling from this initial value.\nRejecting initial value:\n  Log probability evaluates to log(0), i.e. negative infinity.\n  Stan can't start sampling from this initial value.\nRejecting initial value:\n  Log probability evaluates to log(0), i.e. negative infinity.\n  Stan can't start sampling from this initial value.\nRejecting initial value:\n  Log probability evaluates to log(0), i.e. negative infinity.\n  Stan can't start sampling from this initial value.\nRejecting initial value:\n  Log probability evaluates to log(0), i.e. negative infinity.\n  Stan can't start sampling from this initial value.\nRejecting initial value:\n  Log probability evaluates to log(0), i.e. negative infinity.\n  Stan can't start sampling from this initial value.\nRejecting initial value:\n  Log probability evaluates to log(0), i.e. negative infinity.\n  Stan can't start sampling from this initial value.\nRejecting initial value:\n  Log probability evaluates to log(0), i.e. negative infinity.\n  Stan can't start sampling from this initial value.\nRejecting initial value:\n  Log probability evaluates to log(0), i.e. negative infinity.\n  Stan can't start sampling from this initial value.\nRejecting initial value:\n  Log probability evaluates to log(0), i.e. negative infinity.\n  Stan can't start sampling from this initial value.\nRejecting initial value:\n  Log probability evaluates to log(0), i.e. negative infinity.\n  Stan can't start sampling from this initial value.\nRejecting initial value:\n  Log probability evaluates to log(0), i.e. negative infinity.\n  Stan can't start sampling from this initial value.\nRejecting initial value:\n  Log probability evaluates to log(0), i.e. negative infinity.\n  Stan can't start sampling from this initial value.\nRejecting initial value:\n  Log probability evaluates to log(0), i.e. negative infinity.\n  Stan can't start sampling from this initial value.\nRejecting initial value:\n  Log probability evaluates to log(0), i.e. negative infinity.\n  Stan can't start sampling from this initial value.\nRejecting initial value:\n  Log probability evaluates to log(0), i.e. negative infinity.\n  Stan can't start sampling from this initial value.\nRejecting initial value:\n  Log probability evaluates to log(0), i.e. negative infinity.\n  Stan can't start sampling from this initial value.\nRejecting initial value:\n  Log probability evaluates to log(0), i.e. negative infinity.\n  Stan can't start sampling from this initial value.\nRejecting initial value:\n  Log probability evaluates to log(0), i.e. negative infinity.\n  Stan can't start sampling from this initial value.\nRejecting initial value:\n  Log probability evaluates to log(0), i.e. negative infinity.\n  Stan can't start sampling from this initial value.\nRejecting initial value:\n  Log probability evaluates to log(0), i.e. negative infinity.\n  Stan can't start sampling from this initial value.\nRejecting initial value:\n  Log probability evaluates to log(0), i.e. negative infinity.\n  Stan can't start sampling from this initial value.\nRejecting initial value:\n  Log probability evaluates to log(0), i.e. negative infinity.\n  Stan can't start sampling from this initial value.\nRejecting initial value:\n  Log probability evaluates to log(0), i.e. negative infinity.\n  Stan can't start sampling from this initial value.\nRejecting initial value:\n  Log probability evaluates to log(0), i.e. negative infinity.\n  Stan can't start sampling from this initial value.\nRejecting initial value:\n  Log probability evaluates to log(0), i.e. negative infinity.\n  Stan can't start sampling from this initial value.\nRejecting initial value:\n  Log probability evaluates to log(0), i.e. negative infinity.\n  Stan can't start sampling from this initial value.\nRejecting initial value:\n  Log probability evaluates to log(0), i.e. negative infinity.\n  Stan can't start sampling from this initial value.\nRejecting initial value:\n  Log probability evaluates to log(0), i.e. negative infinity.\n  Stan can't start sampling from this initial value.\nRejecting initial value:\n  Log probability evaluates to log(0), i.e. negative infinity.\n  Stan can't start sampling from this initial value.\nRejecting initial value:\n  Log probability evaluates to log(0), i.e. negative infinity.\n  Stan can't start sampling from this initial value.\n\n\nInitialization between (-2, 2) failed after 100 attempts. \n Try specifying initial values, reducing ranges of constrained values, or reparameterizing the model.\n"
     ]
    }
   ],
   "source": [
    "n_itr = 2000\n",
    "n_warmup = 500\n",
    "chains = 2\n",
    "\n",
    "%time fit = stm.sampling(data=dat, iter=n_itr, chains=chains, n_jobs=-1, warmup=n_warmup, algorithm=\"NUTS\", verbose=False)\n",
    "la    = fit.extract(permuted=True)  # return a dictionary of arrays\n",
    "names = fit.model_pars \n",
    "\n",
    "n_param = np.sum([1 if len(x) == 0 else x[0] for x in fit.par_dims])"
   ]
  },
  {
   "cell_type": "code",
   "execution_count": null,
   "metadata": {
    "collapsed": true
   },
   "outputs": [],
   "source": [
    "print fit"
   ]
  },
  {
   "cell_type": "code",
   "execution_count": null,
   "metadata": {
    "collapsed": true
   },
   "outputs": [],
   "source": []
  }
 ],
 "metadata": {
  "kernelspec": {
   "display_name": "Python 2",
   "language": "python",
   "name": "python2"
  },
  "language_info": {
   "codemirror_mode": {
    "name": "ipython",
    "version": 2
   },
   "file_extension": ".py",
   "mimetype": "text/x-python",
   "name": "python",
   "nbconvert_exporter": "python",
   "pygments_lexer": "ipython2",
   "version": "2.7.11"
  }
 },
 "nbformat": 4,
 "nbformat_minor": 0
}
