{
 "cells": [
  {
   "cell_type": "code",
   "execution_count": 1,
   "metadata": {
    "collapsed": false
   },
   "outputs": [],
   "source": [
    "%matplotlib inline\n",
    "import numpy as np\n",
    "import pandas as pd\n",
    "from time import time\n",
    "from operator import itemgetter\n",
    "\n",
    "import matplotlib as mpl\n",
    "import matplotlib.pyplot as plt\n",
    "from tabulate import tabulate\n",
    "import seaborn as sns\n",
    "sns.set(style=\"whitegrid\", color_codes=True)\n",
    "\n",
    "from sklearn import cross_validation\n",
    "from sklearn import datasets\n",
    "from sklearn import svm\n",
    "from sklearn.ensemble import RandomForestClassifier\n",
    "from sklearn.cross_validation import cross_val_score\n",
    "from sklearn import grid_search\n",
    "\n",
    "from sklearn.cross_validation import KFold\n",
    "from sklearn.cross_validation import StratifiedKFold\n",
    "\n",
    "from sklearn.metrics import classification_report, roc_auc_score, precision_recall_curve, auc, roc_curve\n"
   ]
  },
  {
   "cell_type": "code",
   "execution_count": 2,
   "metadata": {
    "collapsed": false
   },
   "outputs": [],
   "source": [
    "titanic = sns.load_dataset(\"titanic\")\n"
   ]
  },
  {
   "cell_type": "code",
   "execution_count": 3,
   "metadata": {
    "collapsed": false,
    "scrolled": false
   },
   "outputs": [
    {
     "name": "stdout",
     "output_type": "stream",
     "text": [
      "|   ID |   survived |   pclass | sex    |   age |   sibsp |   parch |    fare | embarked   | class   | who   |   adult_male | deck   | embark_town   | alive   |   alone |\n",
      "|-----:|-----------:|---------:|:-------|------:|--------:|--------:|--------:|:-----------|:--------|:------|-------------:|:-------|:--------------|:--------|--------:|\n",
      "|    0 |          0 |        3 | male   |    22 |       1 |       0 |  7.25   | S          | Third   | man   |            1 | nan    | Southampton   | no      |       0 |\n",
      "|    1 |          1 |        1 | female |    38 |       1 |       0 | 71.2833 | C          | First   | woman |            0 | C      | Cherbourg     | yes     |       0 |\n",
      "|    2 |          1 |        3 | female |    26 |       0 |       0 |  7.925  | S          | Third   | woman |            0 | nan    | Southampton   | yes     |       1 |\n",
      "|    3 |          1 |        1 | female |    35 |       1 |       0 | 53.1    | S          | First   | woman |            0 | C      | Southampton   | yes     |       0 |\n",
      "|    4 |          0 |        3 | male   |    35 |       0 |       0 |  8.05   | S          | Third   | man   |            1 | nan    | Southampton   | no      |       1 |\n"
     ]
    }
   ],
   "source": [
    "headers = [c for c in titanic.columns]\n",
    "headers.insert(0,\"ID\")\n",
    "print tabulate(titanic[0:5], headers, tablefmt=\"pipe\")"
   ]
  },
  {
   "cell_type": "code",
   "execution_count": 4,
   "metadata": {
    "collapsed": true
   },
   "outputs": [],
   "source": [
    "# 文字になっている列の種別をcategory変数に変更\n",
    "titanic['embark_town'] = titanic.embark_town.map( {np.nan:0, 'Cherbourg':1, 'Queenstown':2, 'Southampton':3} ).astype(int)\n",
    "titanic['deck'] = titanic.deck.map( {np.nan:0, 'A':1, 'B':2, 'C':3, 'D':4, 'E':5, 'F':6, 'G':7} ).astype(int)\n",
    "titanic['who'] = titanic.who.map( {\"child\":0, \"man\":1, \"woman\":2} ).astype(int)\n",
    "titanic['class'] = titanic['class'].map( {\"First\":1, \"Second\":2, \"Third\":3} ).astype(int)\n",
    "titanic['embarked'] = titanic.embarked.map( {np.nan:0, \"S\":1, \"C\":2, \"Q\":3 } ).astype(int)\n",
    "titanic['sex'] = titanic.sex.map( {'female': 0, \"male\": 1} ).astype(int)\n",
    "titanic['age'] = titanic.age.fillna(titanic.age.median())"
   ]
  },
  {
   "cell_type": "markdown",
   "metadata": {},
   "source": [
    "## 訓練データとテストデータの作成"
   ]
  },
  {
   "cell_type": "markdown",
   "metadata": {},
   "source": [
    "### ホールドアウト法"
   ]
  },
  {
   "cell_type": "code",
   "execution_count": 5,
   "metadata": {
    "collapsed": false,
    "scrolled": true
   },
   "outputs": [
    {
     "name": "stdout",
     "output_type": "stream",
     "text": [
      "[(712, 13), (179, 13), (712,), (179,)]\n"
     ]
    }
   ],
   "source": [
    "# 訓練データ(80%), テストデータ(20%)に分割する\n",
    "target = titanic.ix[:, 0]\n",
    "data = titanic.ix[:, [1,2,3,4,5,6,7,8,9,10,11,12,14]]\n",
    "X_train, X_test, y_train, y_test = cross_validation.train_test_split(data, target, test_size=0.2, random_state=None)\n",
    "\n",
    "print [d.shape for d in [X_train, X_test, y_train, y_test]]"
   ]
  },
  {
   "cell_type": "code",
   "execution_count": 6,
   "metadata": {
    "collapsed": false
   },
   "outputs": [
    {
     "name": "stdout",
     "output_type": "stream",
     "text": [
      "再代入誤り率： 0.172752808989\n",
      "ホールドアウト誤り率： 0.195530726257\n"
     ]
    }
   ],
   "source": [
    "# SVM(線形カーネル)で分類し、誤り率を算出\n",
    "clf = svm.SVC(kernel='linear', C=1).fit(X_train, y_train)\n",
    "print u\"再代入誤り率：\", 1 - clf.score(X_train, y_train)   \n",
    "print u\"ホールドアウト誤り率：\", 1 - clf.score(X_test, y_test)   \n"
   ]
  },
  {
   "cell_type": "code",
   "execution_count": 7,
   "metadata": {
    "collapsed": false
   },
   "outputs": [
    {
     "name": "stdout",
     "output_type": "stream",
     "text": [
      "再代入誤り率： 0.0786516853933\n",
      "ホールドアウト誤り率： 0.284916201117\n"
     ]
    }
   ],
   "source": [
    "# SVM(rbfカーネル)で分類し、誤り率を算出\n",
    "clf = svm.SVC(kernel='rbf', C=1).fit(X_train, y_train)\n",
    "print u\"再代入誤り率：\", 1 - clf.score(X_train, y_train)   \n",
    "print u\"ホールドアウト誤り率：\", 1 - clf.score(X_test, y_test)   \n",
    "\n"
   ]
  },
  {
   "cell_type": "code",
   "execution_count": null,
   "metadata": {
    "collapsed": true
   },
   "outputs": [],
   "source": []
  },
  {
   "cell_type": "markdown",
   "metadata": {},
   "source": [
    "### KFold法"
   ]
  },
  {
   "cell_type": "code",
   "execution_count": 8,
   "metadata": {
    "collapsed": false
   },
   "outputs": [
    {
     "name": "stdout",
     "output_type": "stream",
     "text": [
      "[ 6  7  8  9 10 11 12 13 14 15 16 17 18 19 20 21 22 23 24 25 26 27 28 29] [0 1 2 3 4 5]\n",
      "[ 0  1  2  3  4  5 12 13 14 15 16 17 18 19 20 21 22 23 24 25 26 27 28 29] [ 6  7  8  9 10 11]\n",
      "[ 0  1  2  3  4  5  6  7  8  9 10 11 18 19 20 21 22 23 24 25 26 27 28 29] [12 13 14 15 16 17]\n",
      "[ 0  1  2  3  4  5  6  7  8  9 10 11 12 13 14 15 16 17 24 25 26 27 28 29] [18 19 20 21 22 23]\n",
      "[ 0  1  2  3  4  5  6  7  8  9 10 11 12 13 14 15 16 17 18 19 20 21 22 23] [24 25 26 27 28 29]\n"
     ]
    }
   ],
   "source": [
    "# KFold\n",
    "# n_foldsで指定した数値でデータを分割。n_folds=5とした場合、5分割\n",
    "# してそのうちの１つをテストデータとし、5通りパターンを生成する。\n",
    "kf = KFold(30, n_folds=5,shuffle=False)\n",
    "for tr, ts in kf:\n",
    "    print(\"%s %s\" % (tr, ts))"
   ]
  },
  {
   "cell_type": "code",
   "execution_count": 9,
   "metadata": {
    "collapsed": false,
    "scrolled": true
   },
   "outputs": [
    {
     "name": "stdout",
     "output_type": "stream",
     "text": [
      "[ 4  5  6  7  8  9 10 11 12 13 14 15 16 17 18 19 22 23 24 25 26 27 28 29] [ 0  1  2  3 20 21]\n",
      "[ 0  1  2  3  8  9 10 11 12 13 14 15 16 17 18 19 20 21 24 25 26 27 28 29] [ 4  5  6  7 22 23]\n",
      "[ 0  1  2  3  4  5  6  7 12 13 14 15 16 17 18 19 20 21 22 23 26 27 28 29] [ 8  9 10 11 24 25]\n",
      "[ 0  1  2  3  4  5  6  7  8  9 10 11 16 17 18 19 20 21 22 23 24 25 28 29] [12 13 14 15 26 27]\n",
      "[ 0  1  2  3  4  5  6  7  8  9 10 11 12 13 14 15 20 21 22 23 24 25 26 27] [16 17 18 19 28 29]\n"
     ]
    }
   ],
   "source": [
    "# StratifiedKFold\n",
    "# 各クラスごとの抽出率を元データの比率に合わせたKFoldの改良版\n",
    "\n",
    "label = np.r_[np.repeat(0,20), np.repeat(1,10)]\n",
    "skf = StratifiedKFold(label, n_folds=5, shuffle=False)\n",
    "for tr, ts in skf:\n",
    "    print(\"%s %s\" % (tr, ts))"
   ]
  },
  {
   "cell_type": "markdown",
   "metadata": {},
   "source": [
    "### 実行"
   ]
  },
  {
   "cell_type": "code",
   "execution_count": 10,
   "metadata": {
    "collapsed": false
   },
   "outputs": [
    {
     "name": "stdout",
     "output_type": "stream",
     "text": [
      "scores:  [ 0.66480447  0.70391061  0.74157303  0.7247191   0.77966102]\n",
      "Accuracy: 0.72 (+/- 0.08)\n"
     ]
    }
   ],
   "source": [
    "# SVM(線形カーネル)で分類し、誤り率を算出\n",
    "# 5分割のStratifiedKFoldでそれぞれスコアを算出\n",
    "\n",
    "clf = svm.SVC(kernel='rbf', C=1)\n",
    "scores = cross_validation.cross_val_score(clf, data, target, cv=5,)\n",
    "print \"scores: \", scores\n",
    "print(\"Accuracy: %0.2f (+/- %0.2f)\" % (scores.mean(), scores.std() * 2))"
   ]
  },
  {
   "cell_type": "markdown",
   "metadata": {},
   "source": [
    "## ハイパーパラメーターを探す"
   ]
  },
  {
   "cell_type": "markdown",
   "metadata": {},
   "source": [
    "### Exhausted Grid Search"
   ]
  },
  {
   "cell_type": "code",
   "execution_count": 11,
   "metadata": {
    "collapsed": false
   },
   "outputs": [
    {
     "name": "stdout",
     "output_type": "stream",
     "text": [
      " 0.804469273743\n",
      " {'kernel': 'linear', 'C': 0.40000000000000002}\n",
      " SVC(C=0.40000000000000002, cache_size=200, class_weight=None, coef0=0.0,\n",
      "  degree=3, gamma=0.0, kernel='linear', max_iter=-1, probability=False,\n",
      "  random_state=None, shrinking=True, tol=0.001, verbose=False)\n"
     ]
    }
   ],
   "source": [
    "param_grid = [\n",
    "  {'kernel': ['rbf','linear'], 'C': np.linspace(0.1,2.0,20),}\n",
    " ]\n",
    "svc = svm.SVC(random_state=None)\n",
    "clf = grid_search.GridSearchCV(svc, param_grid)\n",
    "res = clf.fit(X_train, y_train)\n",
    "print \"\", clf.score(X_test, y_test)\n",
    "print \"\", res.best_params_\n",
    "print \"\", res.best_estimator_"
   ]
  },
  {
   "cell_type": "code",
   "execution_count": 12,
   "metadata": {
    "collapsed": false
   },
   "outputs": [
    {
     "name": "stdout",
     "output_type": "stream",
     "text": [
      " 0.804469273743\n",
      " {'kernel': 'linear', 'C': 1}\n",
      " SVC(C=1, cache_size=200, class_weight=None, coef0=0.0, degree=3, gamma=0.0,\n",
      "  kernel='linear', max_iter=-1, probability=False, random_state=None,\n",
      "  shrinking=True, tol=0.001, verbose=False)\n"
     ]
    }
   ],
   "source": [
    "param_grid = [{'kernel': ['rbf'], 'gamma': [1e-3, 1e-4],\n",
    "               'C': [0.1, 1, 20]},\n",
    "              {'kernel': ['linear'], 'C': [0.1, 1, 20]}]\n",
    "svc = svm.SVC(random_state=None)\n",
    "clf = grid_search.GridSearchCV(svc, param_grid)\n",
    "res = clf.fit(X_train, y_train)\n",
    "print \"\", clf.score(X_test, y_test)\n",
    "print \"\", res.best_params_\n",
    "print \"\", res.best_estimator_"
   ]
  },
  {
   "cell_type": "markdown",
   "metadata": {},
   "source": [
    "### RandomizedSearchCV"
   ]
  },
  {
   "cell_type": "code",
   "execution_count": 13,
   "metadata": {
    "collapsed": false
   },
   "outputs": [],
   "source": [
    "param_dist = {'n_estimators': range(4,20,2), 'min_samples_split': range(1,30,2), 'criterion':['gini','entropy']}"
   ]
  },
  {
   "cell_type": "code",
   "execution_count": 14,
   "metadata": {
    "collapsed": false
   },
   "outputs": [
    {
     "name": "stdout",
     "output_type": "stream",
     "text": [
      "パラメーター数: 20, 経過時間: 1.420秒\n"
     ]
    }
   ],
   "source": [
    "n_iter_search = 20\n",
    "rfc = RandomForestClassifier(max_depth=None, min_samples_split=1, random_state=None)\n",
    "random_search = grid_search.RandomizedSearchCV(rfc, \n",
    "                                   param_distributions=param_dist,\n",
    "                                   n_iter=n_iter_search)\n",
    "start = time()\n",
    "random_search.fit(X_train, y_train)\n",
    "end   = time()\n",
    "print\"パラメーター数: {0}, 経過時間: {1:0.3f}秒\".format(n_iter_search, end - start)"
   ]
  },
  {
   "cell_type": "code",
   "execution_count": 15,
   "metadata": {
    "collapsed": false
   },
   "outputs": [
    {
     "name": "stdout",
     "output_type": "stream",
     "text": [
      "Model with rank: 1\n",
      "Mean validation score: 0.834 (std: 0.005)\n",
      "Parameters: {'min_samples_split': 17, 'n_estimators': 12, 'criterion': 'entropy'}\n",
      "\n",
      "Model with rank: 2\n",
      "Mean validation score: 0.824 (std: 0.017)\n",
      "Parameters: {'min_samples_split': 23, 'n_estimators': 18, 'criterion': 'gini'}\n",
      "\n",
      "Model with rank: 3\n",
      "Mean validation score: 0.824 (std: 0.016)\n",
      "Parameters: {'min_samples_split': 9, 'n_estimators': 14, 'criterion': 'entropy'}\n",
      "\n"
     ]
    }
   ],
   "source": [
    "# トップ3パラメータ\n",
    "top_scores = sorted(random_search.grid_scores_, key=itemgetter(1), reverse=True)[:3]\n",
    "for i, score in enumerate(top_scores):\n",
    "    print(\"Model with rank: {0}\".format(i + 1))\n",
    "    print(\"Mean validation score: {0:.3f} (std: {1:.3f})\".format(\n",
    "          score.mean_validation_score,\n",
    "          np.std(score.cv_validation_scores)))\n",
    "    print(\"Parameters: {0}\".format(score.parameters))\n",
    "    print(\"\")"
   ]
  },
  {
   "cell_type": "code",
   "execution_count": null,
   "metadata": {
    "collapsed": true
   },
   "outputs": [],
   "source": []
  },
  {
   "cell_type": "markdown",
   "metadata": {},
   "source": [
    "## 評価指標"
   ]
  },
  {
   "cell_type": "code",
   "execution_count": 16,
   "metadata": {
    "collapsed": false,
    "scrolled": false
   },
   "outputs": [
    {
     "name": "stdout",
     "output_type": "stream",
     "text": [
      "Accuracy: 0.804469273743\n",
      "              precision    recall  f1-score   support\n",
      "\n",
      "not Survived       0.85      0.86      0.86       121\n",
      "    Survived       0.70      0.69      0.70        58\n",
      "\n",
      " avg / total       0.80      0.80      0.80       179\n",
      "\n"
     ]
    }
   ],
   "source": [
    "# SVM(線形カーネル)で分類し、評価指標を算出\n",
    "clf = svm.SVC(kernel='linear', C=1, probability=True).fit(X_train, y_train)\n",
    "print u\"Accuracy:\", clf.score(X_test, y_test)   \n",
    "y_pred = clf.predict(X_test)\n",
    "print classification_report(y_test, y_pred, target_names=[\"not Survived\", \"Survived\"])"
   ]
  },
  {
   "cell_type": "markdown",
   "metadata": {},
   "source": [
    "### ROC曲線とAUC"
   ]
  },
  {
   "cell_type": "code",
   "execution_count": 17,
   "metadata": {
    "collapsed": false
   },
   "outputs": [
    {
     "data": {
      "image/png": "[encoded data removed]",
      "text/plain": [
       "<matplotlib.figure.Figure at 0x109ea7d10>"
      ]
     },
     "metadata": {},
     "output_type": "display_data"
    }
   ],
   "source": [
    "prob = clf.predict_proba(X_test)[:,1]\n",
    "fpr, tpr, thresholds= roc_curve(y_test, prob)\n",
    "\n",
    "plt.figure(figsize=(8,6))\n",
    "plt.plot(fpr, tpr)\n",
    "plt.title(\"ROC curve\")\n",
    "plt.xlabel(\"False Positive Rate\")\n",
    "plt.ylabel(\"True Positive Rate\")\n",
    "plt.show()"
   ]
  },
  {
   "cell_type": "code",
   "execution_count": 18,
   "metadata": {
    "collapsed": false
   },
   "outputs": [
    {
     "name": "stdout",
     "output_type": "stream",
     "text": [
      "Area Under Curve: 0.737\n"
     ]
    }
   ],
   "source": [
    "precision, recall, thresholds = precision_recall_curve(y_test, prob)\n",
    "area = auc(recall, precision)\n",
    "print \"Area Under Curve: {0:.3f}\".format(area)"
   ]
  },
  {
   "cell_type": "code",
   "execution_count": null,
   "metadata": {
    "collapsed": false
   },
   "outputs": [],
   "source": []
  },
  {
   "cell_type": "code",
   "execution_count": null,
   "metadata": {
    "collapsed": true
   },
   "outputs": [],
   "source": []
  }
 ],
 "metadata": {
  "kernelspec": {
   "display_name": "Python 2",
   "language": "python",
   "name": "python2"
  },
  "language_info": {
   "codemirror_mode": {
    "name": "ipython",
    "version": 2
   },
   "file_extension": ".py",
   "mimetype": "text/x-python",
   "name": "python",
   "nbconvert_exporter": "python",
   "pygments_lexer": "ipython2",
   "version": "2.7.10"
  }
 },
 "nbformat": 4,
 "nbformat_minor": 0
}
