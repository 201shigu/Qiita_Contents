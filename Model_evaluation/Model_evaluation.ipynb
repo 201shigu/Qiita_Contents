{
 "cells": [
  {
   "cell_type": "code",
   "execution_count": 1,
   "metadata": {
    "collapsed": false
   },
   "outputs": [],
   "source": [
    "%matplotlib inline\n",
    "import numpy as np\n",
    "import pandas as pd\n",
    "from time import time\n",
    "from operator import itemgetter\n",
    "\n",
    "import matplotlib as mpl\n",
    "import matplotlib.pyplot as plt\n",
    "from tabulate import tabulate\n",
    "import seaborn as sns\n",
    "sns.set(style=\"whitegrid\", color_codes=True)\n",
    "\n",
    "from sklearn import cross_validation\n",
    "from sklearn import datasets\n",
    "from sklearn import svm\n",
    "from sklearn.ensemble import RandomForestClassifier\n",
    "from sklearn.cross_validation import cross_val_score\n",
    "from sklearn import grid_search\n",
    "\n",
    "from sklearn.cross_validation import KFold\n",
    "from sklearn.cross_validation import StratifiedKFold\n",
    "\n",
    "from sklearn.metrics import classification_report, roc_auc_score, precision_recall_curve, auc, roc_curve\n"
   ]
  },
  {
   "cell_type": "code",
   "execution_count": 2,
   "metadata": {
    "collapsed": false,
    "scrolled": true
   },
   "outputs": [
    {
     "name": "stdout",
     "output_type": "stream",
     "text": [
      "|   ID |   survived |   pclass | sex    |   age |   sibsp |   parch |    fare | embarked   | class   | who   |   adult_male | deck   | embark_town   | alive   |   alone |\n",
      "|-----:|-----------:|---------:|:-------|------:|--------:|--------:|--------:|:-----------|:--------|:------|-------------:|:-------|:--------------|:--------|--------:|\n",
      "|    0 |          0 |        3 | male   |    22 |       1 |       0 |  7.25   | S          | Third   | man   |            1 | nan    | Southampton   | no      |       0 |\n",
      "|    1 |          1 |        1 | female |    38 |       1 |       0 | 71.2833 | C          | First   | woman |            0 | C      | Cherbourg     | yes     |       0 |\n",
      "|    2 |          1 |        3 | female |    26 |       0 |       0 |  7.925  | S          | Third   | woman |            0 | nan    | Southampton   | yes     |       1 |\n",
      "|    3 |          1 |        1 | female |    35 |       1 |       0 | 53.1    | S          | First   | woman |            0 | C      | Southampton   | yes     |       0 |\n",
      "|    4 |          0 |        3 | male   |    35 |       0 |       0 |  8.05   | S          | Third   | man   |            1 | nan    | Southampton   | no      |       1 |\n"
     ]
    }
   ],
   "source": [
    "titanic = sns.load_dataset(\"titanic\")\n",
    "\n",
    "headers = [c for c in titanic.columns]\n",
    "headers.insert(0,\"ID\")\n",
    "print tabulate(titanic[0:5], headers, tablefmt=\"pipe\")"
   ]
  },
  {
   "cell_type": "code",
   "execution_count": 3,
   "metadata": {
    "collapsed": false,
    "scrolled": false
   },
   "outputs": [
    {
     "data": {
      "text/html": [
       "<div>\n",
       "<table border=\"1\" class=\"dataframe\">\n",
       "  <thead>\n",
       "    <tr style=\"text-align: right;\">\n",
       "      <th></th>\n",
       "      <th>survived</th>\n",
       "      <th>pclass</th>\n",
       "      <th>sex</th>\n",
       "      <th>age</th>\n",
       "      <th>sibsp</th>\n",
       "      <th>parch</th>\n",
       "      <th>fare</th>\n",
       "      <th>embarked</th>\n",
       "      <th>class</th>\n",
       "      <th>who</th>\n",
       "      <th>adult_male</th>\n",
       "      <th>deck</th>\n",
       "      <th>embark_town</th>\n",
       "      <th>alive</th>\n",
       "      <th>alone</th>\n",
       "    </tr>\n",
       "  </thead>\n",
       "  <tbody>\n",
       "    <tr>\n",
       "      <th>0</th>\n",
       "      <td>0</td>\n",
       "      <td>3</td>\n",
       "      <td>male</td>\n",
       "      <td>22</td>\n",
       "      <td>1</td>\n",
       "      <td>0</td>\n",
       "      <td>7.2500</td>\n",
       "      <td>S</td>\n",
       "      <td>Third</td>\n",
       "      <td>man</td>\n",
       "      <td>True</td>\n",
       "      <td>NaN</td>\n",
       "      <td>Southampton</td>\n",
       "      <td>no</td>\n",
       "      <td>False</td>\n",
       "    </tr>\n",
       "    <tr>\n",
       "      <th>1</th>\n",
       "      <td>1</td>\n",
       "      <td>1</td>\n",
       "      <td>female</td>\n",
       "      <td>38</td>\n",
       "      <td>1</td>\n",
       "      <td>0</td>\n",
       "      <td>71.2833</td>\n",
       "      <td>C</td>\n",
       "      <td>First</td>\n",
       "      <td>woman</td>\n",
       "      <td>False</td>\n",
       "      <td>C</td>\n",
       "      <td>Cherbourg</td>\n",
       "      <td>yes</td>\n",
       "      <td>False</td>\n",
       "    </tr>\n",
       "    <tr>\n",
       "      <th>2</th>\n",
       "      <td>1</td>\n",
       "      <td>3</td>\n",
       "      <td>female</td>\n",
       "      <td>26</td>\n",
       "      <td>0</td>\n",
       "      <td>0</td>\n",
       "      <td>7.9250</td>\n",
       "      <td>S</td>\n",
       "      <td>Third</td>\n",
       "      <td>woman</td>\n",
       "      <td>False</td>\n",
       "      <td>NaN</td>\n",
       "      <td>Southampton</td>\n",
       "      <td>yes</td>\n",
       "      <td>True</td>\n",
       "    </tr>\n",
       "    <tr>\n",
       "      <th>3</th>\n",
       "      <td>1</td>\n",
       "      <td>1</td>\n",
       "      <td>female</td>\n",
       "      <td>35</td>\n",
       "      <td>1</td>\n",
       "      <td>0</td>\n",
       "      <td>53.1000</td>\n",
       "      <td>S</td>\n",
       "      <td>First</td>\n",
       "      <td>woman</td>\n",
       "      <td>False</td>\n",
       "      <td>C</td>\n",
       "      <td>Southampton</td>\n",
       "      <td>yes</td>\n",
       "      <td>False</td>\n",
       "    </tr>\n",
       "    <tr>\n",
       "      <th>4</th>\n",
       "      <td>0</td>\n",
       "      <td>3</td>\n",
       "      <td>male</td>\n",
       "      <td>35</td>\n",
       "      <td>0</td>\n",
       "      <td>0</td>\n",
       "      <td>8.0500</td>\n",
       "      <td>S</td>\n",
       "      <td>Third</td>\n",
       "      <td>man</td>\n",
       "      <td>True</td>\n",
       "      <td>NaN</td>\n",
       "      <td>Southampton</td>\n",
       "      <td>no</td>\n",
       "      <td>True</td>\n",
       "    </tr>\n",
       "  </tbody>\n",
       "</table>\n",
       "</div>"
      ],
      "text/plain": [
       "   survived  pclass     sex  age  sibsp  parch     fare embarked  class  \\\n",
       "0         0       3    male   22      1      0   7.2500        S  Third   \n",
       "1         1       1  female   38      1      0  71.2833        C  First   \n",
       "2         1       3  female   26      0      0   7.9250        S  Third   \n",
       "3         1       1  female   35      1      0  53.1000        S  First   \n",
       "4         0       3    male   35      0      0   8.0500        S  Third   \n",
       "\n",
       "     who adult_male deck  embark_town alive  alone  \n",
       "0    man       True  NaN  Southampton    no  False  \n",
       "1  woman      False    C    Cherbourg   yes  False  \n",
       "2  woman      False  NaN  Southampton   yes   True  \n",
       "3  woman      False    C  Southampton   yes  False  \n",
       "4    man       True  NaN  Southampton    no   True  "
      ]
     },
     "execution_count": 3,
     "metadata": {},
     "output_type": "execute_result"
    }
   ],
   "source": [
    "titanic.head()"
   ]
  },
  {
   "cell_type": "code",
   "execution_count": 50,
   "metadata": {
    "collapsed": true
   },
   "outputs": [],
   "source": [
    "# カテゴリ変数をダミー変数化\n",
    "def convert_dummies(df, key):\n",
    "    dum = pd.get_dummies(df[key])\n",
    "    ks = dum.keys()\n",
    "    print \"Removing {} from {}...\".format(ks[0], key)\n",
    "    dum.columns = [key + \"_\" + str(k) for k in ks]  \n",
    "    df = pd.concat((df, dum.ix[:,1:]), axis=1)\n",
    "    df = df.drop(key, axis=1)\n",
    "    return df"
   ]
  },
  {
   "cell_type": "code",
   "execution_count": 52,
   "metadata": {
    "collapsed": false,
    "scrolled": false
   },
   "outputs": [
    {
     "name": "stdout",
     "output_type": "stream",
     "text": [
      "Removing child from who...\n",
      "Removing First from class...\n",
      "Removing female from sex...\n",
      "Removing False from alone...\n",
      "Removing Cherbourg from embark_town...\n",
      "Removing A from deck...\n",
      "Removing C from embarked...\n"
     ]
    }
   ],
   "source": [
    "titanic = convert_dummies(titanic, \"who\")\n",
    "titanic = convert_dummies(titanic, \"class\")\n",
    "titanic = convert_dummies(titanic, \"sex\")\n",
    "titanic = convert_dummies(titanic, \"alone\")\n",
    "titanic = convert_dummies(titanic, \"embark_town\")\n",
    "titanic = convert_dummies(titanic, \"deck\")\n",
    "titanic = convert_dummies(titanic, \"embarked\")\n",
    "\n",
    "titanic['age'] = titanic.age.fillna(titanic.age.median())\n",
    "titanic['adult_male'] = titanic.adult_male.map( {True: 1, False: 0} ).astype(int)\n",
    "titanic['alone'] = titanic.adult_male.map( {True: 1, False: 0} ).astype(int)"
   ]
  },
  {
   "cell_type": "code",
   "execution_count": 53,
   "metadata": {
    "collapsed": false
   },
   "outputs": [
    {
     "name": "stdout",
     "output_type": "stream",
     "text": [
      "survived pclass age sibsp parch fare adult_male alive who_man who_woman class_Second class_Third sex_male alone_True embark_town_Queenstown embark_town_Southampton deck_B deck_C deck_D deck_E deck_F deck_G embarked_Q embarked_S alone\n"
     ]
    }
   ],
   "source": [
    "# keyの一覧\n",
    "for k in titanic.keys():\n",
    "    print k,"
   ]
  },
  {
   "cell_type": "code",
   "execution_count": 54,
   "metadata": {
    "collapsed": false
   },
   "outputs": [],
   "source": [
    "# 使用しない変数をドロップ\n",
    "titanic = titanic.drop(\"alive\", axis=1)\n",
    "titanic = titanic.drop(\"pclass\", axis=1)"
   ]
  },
  {
   "cell_type": "code",
   "execution_count": 55,
   "metadata": {
    "collapsed": false,
    "scrolled": true
   },
   "outputs": [
    {
     "data": {
      "text/html": [
       "<div>\n",
       "<table border=\"1\" class=\"dataframe\">\n",
       "  <thead>\n",
       "    <tr style=\"text-align: right;\">\n",
       "      <th></th>\n",
       "      <th>survived</th>\n",
       "      <th>age</th>\n",
       "      <th>sibsp</th>\n",
       "      <th>parch</th>\n",
       "      <th>fare</th>\n",
       "      <th>adult_male</th>\n",
       "      <th>who_man</th>\n",
       "      <th>who_woman</th>\n",
       "      <th>class_Second</th>\n",
       "      <th>class_Third</th>\n",
       "      <th>...</th>\n",
       "      <th>embark_town_Southampton</th>\n",
       "      <th>deck_B</th>\n",
       "      <th>deck_C</th>\n",
       "      <th>deck_D</th>\n",
       "      <th>deck_E</th>\n",
       "      <th>deck_F</th>\n",
       "      <th>deck_G</th>\n",
       "      <th>embarked_Q</th>\n",
       "      <th>embarked_S</th>\n",
       "      <th>alone</th>\n",
       "    </tr>\n",
       "  </thead>\n",
       "  <tbody>\n",
       "    <tr>\n",
       "      <th>0</th>\n",
       "      <td>0</td>\n",
       "      <td>22</td>\n",
       "      <td>1</td>\n",
       "      <td>0</td>\n",
       "      <td>7.2500</td>\n",
       "      <td>1</td>\n",
       "      <td>1</td>\n",
       "      <td>0</td>\n",
       "      <td>0</td>\n",
       "      <td>1</td>\n",
       "      <td>...</td>\n",
       "      <td>1</td>\n",
       "      <td>0</td>\n",
       "      <td>0</td>\n",
       "      <td>0</td>\n",
       "      <td>0</td>\n",
       "      <td>0</td>\n",
       "      <td>0</td>\n",
       "      <td>0</td>\n",
       "      <td>1</td>\n",
       "      <td>1</td>\n",
       "    </tr>\n",
       "    <tr>\n",
       "      <th>1</th>\n",
       "      <td>1</td>\n",
       "      <td>38</td>\n",
       "      <td>1</td>\n",
       "      <td>0</td>\n",
       "      <td>71.2833</td>\n",
       "      <td>0</td>\n",
       "      <td>0</td>\n",
       "      <td>1</td>\n",
       "      <td>0</td>\n",
       "      <td>0</td>\n",
       "      <td>...</td>\n",
       "      <td>0</td>\n",
       "      <td>0</td>\n",
       "      <td>1</td>\n",
       "      <td>0</td>\n",
       "      <td>0</td>\n",
       "      <td>0</td>\n",
       "      <td>0</td>\n",
       "      <td>0</td>\n",
       "      <td>0</td>\n",
       "      <td>0</td>\n",
       "    </tr>\n",
       "    <tr>\n",
       "      <th>2</th>\n",
       "      <td>1</td>\n",
       "      <td>26</td>\n",
       "      <td>0</td>\n",
       "      <td>0</td>\n",
       "      <td>7.9250</td>\n",
       "      <td>0</td>\n",
       "      <td>0</td>\n",
       "      <td>1</td>\n",
       "      <td>0</td>\n",
       "      <td>1</td>\n",
       "      <td>...</td>\n",
       "      <td>1</td>\n",
       "      <td>0</td>\n",
       "      <td>0</td>\n",
       "      <td>0</td>\n",
       "      <td>0</td>\n",
       "      <td>0</td>\n",
       "      <td>0</td>\n",
       "      <td>0</td>\n",
       "      <td>1</td>\n",
       "      <td>0</td>\n",
       "    </tr>\n",
       "    <tr>\n",
       "      <th>3</th>\n",
       "      <td>1</td>\n",
       "      <td>35</td>\n",
       "      <td>1</td>\n",
       "      <td>0</td>\n",
       "      <td>53.1000</td>\n",
       "      <td>0</td>\n",
       "      <td>0</td>\n",
       "      <td>1</td>\n",
       "      <td>0</td>\n",
       "      <td>0</td>\n",
       "      <td>...</td>\n",
       "      <td>1</td>\n",
       "      <td>0</td>\n",
       "      <td>1</td>\n",
       "      <td>0</td>\n",
       "      <td>0</td>\n",
       "      <td>0</td>\n",
       "      <td>0</td>\n",
       "      <td>0</td>\n",
       "      <td>1</td>\n",
       "      <td>0</td>\n",
       "    </tr>\n",
       "    <tr>\n",
       "      <th>4</th>\n",
       "      <td>0</td>\n",
       "      <td>35</td>\n",
       "      <td>0</td>\n",
       "      <td>0</td>\n",
       "      <td>8.0500</td>\n",
       "      <td>1</td>\n",
       "      <td>1</td>\n",
       "      <td>0</td>\n",
       "      <td>0</td>\n",
       "      <td>1</td>\n",
       "      <td>...</td>\n",
       "      <td>1</td>\n",
       "      <td>0</td>\n",
       "      <td>0</td>\n",
       "      <td>0</td>\n",
       "      <td>0</td>\n",
       "      <td>0</td>\n",
       "      <td>0</td>\n",
       "      <td>0</td>\n",
       "      <td>1</td>\n",
       "      <td>1</td>\n",
       "    </tr>\n",
       "  </tbody>\n",
       "</table>\n",
       "<p>5 rows × 23 columns</p>\n",
       "</div>"
      ],
      "text/plain": [
       "   survived  age  sibsp  parch     fare  adult_male  who_man  who_woman  \\\n",
       "0         0   22      1      0   7.2500           1        1          0   \n",
       "1         1   38      1      0  71.2833           0        0          1   \n",
       "2         1   26      0      0   7.9250           0        0          1   \n",
       "3         1   35      1      0  53.1000           0        0          1   \n",
       "4         0   35      0      0   8.0500           1        1          0   \n",
       "\n",
       "   class_Second  class_Third  ...    embark_town_Southampton  deck_B  deck_C  \\\n",
       "0             0            1  ...                          1       0       0   \n",
       "1             0            0  ...                          0       0       1   \n",
       "2             0            1  ...                          1       0       0   \n",
       "3             0            0  ...                          1       0       1   \n",
       "4             0            1  ...                          1       0       0   \n",
       "\n",
       "   deck_D  deck_E  deck_F  deck_G  embarked_Q  embarked_S  alone  \n",
       "0       0       0       0       0           0           1      1  \n",
       "1       0       0       0       0           0           0      0  \n",
       "2       0       0       0       0           0           1      0  \n",
       "3       0       0       0       0           0           1      0  \n",
       "4       0       0       0       0           0           1      1  \n",
       "\n",
       "[5 rows x 23 columns]"
      ]
     },
     "execution_count": 55,
     "metadata": {},
     "output_type": "execute_result"
    }
   ],
   "source": [
    "# 再確認\n",
    "titanic.head()"
   ]
  },
  {
   "cell_type": "code",
   "execution_count": 56,
   "metadata": {
    "collapsed": true
   },
   "outputs": [],
   "source": [
    "# ファイルに書き出し\n",
    "titanic.to_csv(\"./titanic_converted2.csv\", index=False)"
   ]
  },
  {
   "cell_type": "markdown",
   "metadata": {},
   "source": [
    "## 訓練データとテストデータの作成"
   ]
  },
  {
   "cell_type": "markdown",
   "metadata": {},
   "source": [
    "### ホールドアウト法"
   ]
  },
  {
   "cell_type": "code",
   "execution_count": 77,
   "metadata": {
    "collapsed": false,
    "scrolled": true
   },
   "outputs": [
    {
     "name": "stdout",
     "output_type": "stream",
     "text": [
      "[(712, 23), (179, 23), (712,), (179,)]\n"
     ]
    }
   ],
   "source": [
    "# 訓練データ(80%), テストデータ(20%)に分割する\n",
    "target = titanic.ix[:, 0]\n",
    "data = titanic.ix[:, :]#[1,2,3,4,5,6,7,8,9,10,11,12,13]]\n",
    "X_train, X_test, y_train, y_test = cross_validation.train_test_split(data, target, test_size=0.2, random_state=2)\n",
    "\n",
    "print [d.shape for d in [X_train, X_test, y_train, y_test]]"
   ]
  },
  {
   "cell_type": "code",
   "execution_count": 78,
   "metadata": {
    "collapsed": false
   },
   "outputs": [
    {
     "name": "stdout",
     "output_type": "stream",
     "text": [
      "再代入誤り率： 0.0\n",
      "ホールドアウト誤り率： 0.0\n"
     ]
    }
   ],
   "source": [
    "# SVM(線形カーネル)で分類し、誤り率を算出\n",
    "clf = svm.SVC(kernel='linear', C=1).fit(X_train, y_train)\n",
    "print u\"再代入誤り率：\", 1 - clf.score(X_train, y_train)   \n",
    "print u\"ホールドアウト誤り率：\", 1 - clf.score(X_test, y_test)   \n"
   ]
  },
  {
   "cell_type": "code",
   "execution_count": 79,
   "metadata": {
    "collapsed": false
   },
   "outputs": [
    {
     "name": "stdout",
     "output_type": "stream",
     "text": [
      "再代入誤り率： 0.0365168539326\n",
      "ホールドアウト誤り率： 0.178770949721\n"
     ]
    }
   ],
   "source": [
    "# SVM(rbfカーネル)で分類し、誤り率を算出\n",
    "clf = svm.SVC(kernel='rbf', C=1).fit(X_train, y_train)\n",
    "print u\"再代入誤り率：\", 1 - clf.score(X_train, y_train)   \n",
    "print u\"ホールドアウト誤り率：\", 1 - clf.score(X_test, y_test)   \n",
    "\n"
   ]
  },
  {
   "cell_type": "code",
   "execution_count": null,
   "metadata": {
    "collapsed": true
   },
   "outputs": [],
   "source": []
  },
  {
   "cell_type": "markdown",
   "metadata": {},
   "source": [
    "### KFold法"
   ]
  },
  {
   "cell_type": "code",
   "execution_count": 60,
   "metadata": {
    "collapsed": false
   },
   "outputs": [
    {
     "name": "stdout",
     "output_type": "stream",
     "text": [
      "[ 6  7  8  9 10 11 12 13 14 15 16 17 18 19 20 21 22 23 24 25 26 27 28 29] [0 1 2 3 4 5]\n",
      "[ 0  1  2  3  4  5 12 13 14 15 16 17 18 19 20 21 22 23 24 25 26 27 28 29] [ 6  7  8  9 10 11]\n",
      "[ 0  1  2  3  4  5  6  7  8  9 10 11 18 19 20 21 22 23 24 25 26 27 28 29] [12 13 14 15 16 17]\n",
      "[ 0  1  2  3  4  5  6  7  8  9 10 11 12 13 14 15 16 17 24 25 26 27 28 29] [18 19 20 21 22 23]\n",
      "[ 0  1  2  3  4  5  6  7  8  9 10 11 12 13 14 15 16 17 18 19 20 21 22 23] [24 25 26 27 28 29]\n"
     ]
    }
   ],
   "source": [
    "# KFold\n",
    "# n_foldsで指定した数値でデータを分割。n_folds=5とした場合、5分割\n",
    "# してそのうちの１つをテストデータとし、5通りパターンを生成する。\n",
    "kf = KFold(30, n_folds=5,shuffle=False)\n",
    "for tr, ts in kf:\n",
    "    print(\"%s %s\" % (tr, ts))"
   ]
  },
  {
   "cell_type": "code",
   "execution_count": 61,
   "metadata": {
    "collapsed": false,
    "scrolled": true
   },
   "outputs": [
    {
     "name": "stdout",
     "output_type": "stream",
     "text": [
      "[ 4  5  6  7  8  9 10 11 12 13 14 15 16 17 18 19 22 23 24 25 26 27 28 29] [ 0  1  2  3 20 21]\n",
      "[ 0  1  2  3  8  9 10 11 12 13 14 15 16 17 18 19 20 21 24 25 26 27 28 29] [ 4  5  6  7 22 23]\n",
      "[ 0  1  2  3  4  5  6  7 12 13 14 15 16 17 18 19 20 21 22 23 26 27 28 29] [ 8  9 10 11 24 25]\n",
      "[ 0  1  2  3  4  5  6  7  8  9 10 11 16 17 18 19 20 21 22 23 24 25 28 29] [12 13 14 15 26 27]\n",
      "[ 0  1  2  3  4  5  6  7  8  9 10 11 12 13 14 15 20 21 22 23 24 25 26 27] [16 17 18 19 28 29]\n"
     ]
    }
   ],
   "source": [
    "# StratifiedKFold\n",
    "# 各クラスごとの抽出率を元データの比率に合わせたKFoldの改良版\n",
    "\n",
    "label = np.r_[np.repeat(0,20), np.repeat(1,10)]\n",
    "skf = StratifiedKFold(label, n_folds=5, shuffle=False)\n",
    "for tr, ts in skf:\n",
    "    print(\"%s %s\" % (tr, ts))"
   ]
  },
  {
   "cell_type": "markdown",
   "metadata": {},
   "source": [
    "### 実行"
   ]
  },
  {
   "cell_type": "code",
   "execution_count": 62,
   "metadata": {
    "collapsed": false
   },
   "outputs": [
    {
     "name": "stdout",
     "output_type": "stream",
     "text": [
      "scores:  [ 0.79329609  0.83240223  0.85955056  0.83146067  0.87570621]\n",
      "Accuracy: 0.84 (+/- 0.06)\n"
     ]
    }
   ],
   "source": [
    "# SVM(線形カーネル)で分類し、誤り率を算出\n",
    "# 5分割のStratifiedKFoldでそれぞれスコアを算出\n",
    "\n",
    "clf = svm.SVC(kernel='rbf', C=1)\n",
    "scores = cross_validation.cross_val_score(clf, data, target, cv=5,)\n",
    "print \"scores: \", scores\n",
    "print(\"Accuracy: %0.2f (+/- %0.2f)\" % (scores.mean(), scores.std() * 2))"
   ]
  },
  {
   "cell_type": "markdown",
   "metadata": {},
   "source": [
    "## ハイパーパラメーターを探す"
   ]
  },
  {
   "cell_type": "markdown",
   "metadata": {},
   "source": [
    "### Exhausted Grid Search"
   ]
  },
  {
   "cell_type": "code",
   "execution_count": 63,
   "metadata": {
    "collapsed": false
   },
   "outputs": [
    {
     "name": "stdout",
     "output_type": "stream",
     "text": [
      " 1.0\n",
      " {'kernel': 'linear', 'C': 0.10000000000000001}\n",
      " SVC(C=0.10000000000000001, cache_size=200, class_weight=None, coef0=0.0,\n",
      "  degree=3, gamma=0.0, kernel='linear', max_iter=-1, probability=False,\n",
      "  random_state=None, shrinking=True, tol=0.001, verbose=False)\n"
     ]
    }
   ],
   "source": [
    "param_grid = [\n",
    "  {'kernel': ['rbf','linear'], 'C': np.linspace(0.1,2.0,20),}\n",
    " ]\n",
    "svc = svm.SVC(random_state=None)\n",
    "clf = grid_search.GridSearchCV(svc, param_grid)\n",
    "res = clf.fit(X_train, y_train)\n",
    "print \"\", clf.score(X_test, y_test)\n",
    "print \"\", res.best_params_\n",
    "print \"\", res.best_estimator_"
   ]
  },
  {
   "cell_type": "code",
   "execution_count": 64,
   "metadata": {
    "collapsed": false
   },
   "outputs": [
    {
     "name": "stdout",
     "output_type": "stream",
     "text": [
      " 1.0\n",
      " {'kernel': 'linear', 'C': 0.1}\n",
      " SVC(C=0.1, cache_size=200, class_weight=None, coef0=0.0, degree=3, gamma=0.0,\n",
      "  kernel='linear', max_iter=-1, probability=False, random_state=None,\n",
      "  shrinking=True, tol=0.001, verbose=False)\n"
     ]
    }
   ],
   "source": [
    "param_grid = [{'kernel': ['rbf'], 'gamma': [1e-3, 1e-4],\n",
    "               'C': [0.1, 1, 20]},\n",
    "              {'kernel': ['linear'], 'C': [0.1, 1, 20]}]\n",
    "svc = svm.SVC(random_state=None)\n",
    "clf = grid_search.GridSearchCV(svc, param_grid)\n",
    "res = clf.fit(X_train, y_train)\n",
    "print \"\", clf.score(X_test, y_test)\n",
    "print \"\", res.best_params_\n",
    "print \"\", res.best_estimator_"
   ]
  },
  {
   "cell_type": "markdown",
   "metadata": {},
   "source": [
    "### RandomizedSearchCV"
   ]
  },
  {
   "cell_type": "code",
   "execution_count": 65,
   "metadata": {
    "collapsed": false
   },
   "outputs": [],
   "source": [
    "param_dist = {'n_estimators': range(4,20,2), 'min_samples_split': range(1,30,2), 'criterion':['gini','entropy']}"
   ]
  },
  {
   "cell_type": "code",
   "execution_count": 66,
   "metadata": {
    "collapsed": false
   },
   "outputs": [
    {
     "name": "stdout",
     "output_type": "stream",
     "text": [
      "パラメーター数: 20, 経過時間: 0.767秒\n"
     ]
    }
   ],
   "source": [
    "n_iter_search = 20\n",
    "rfc = RandomForestClassifier(max_depth=None, min_samples_split=1, random_state=None)\n",
    "random_search = grid_search.RandomizedSearchCV(rfc, \n",
    "                                   param_distributions=param_dist,\n",
    "                                   n_iter=n_iter_search)\n",
    "start = time()\n",
    "random_search.fit(X_train, y_train)\n",
    "end   = time()\n",
    "print\"パラメーター数: {0}, 経過時間: {1:0.3f}秒\".format(n_iter_search, end - start)"
   ]
  },
  {
   "cell_type": "code",
   "execution_count": 67,
   "metadata": {
    "collapsed": false
   },
   "outputs": [
    {
     "name": "stdout",
     "output_type": "stream",
     "text": [
      "Model with rank: 1\n",
      "Mean validation score: 1.000 (std: 0.000)\n",
      "Parameters: {'min_samples_split': 13, 'n_estimators': 18, 'criterion': 'gini'}\n",
      "\n",
      "Model with rank: 2\n",
      "Mean validation score: 1.000 (std: 0.000)\n",
      "Parameters: {'min_samples_split': 9, 'n_estimators': 14, 'criterion': 'gini'}\n",
      "\n",
      "Model with rank: 3\n",
      "Mean validation score: 1.000 (std: 0.000)\n",
      "Parameters: {'min_samples_split': 25, 'n_estimators': 16, 'criterion': 'gini'}\n",
      "\n"
     ]
    }
   ],
   "source": [
    "# トップ3パラメータ\n",
    "top_scores = sorted(random_search.grid_scores_, key=itemgetter(1), reverse=True)[:3]\n",
    "for i, score in enumerate(top_scores):\n",
    "    print(\"Model with rank: {0}\".format(i + 1))\n",
    "    print(\"Mean validation score: {0:.3f} (std: {1:.3f})\".format(\n",
    "          score.mean_validation_score,\n",
    "          np.std(score.cv_validation_scores)))\n",
    "    print(\"Parameters: {0}\".format(score.parameters))\n",
    "    print(\"\")"
   ]
  },
  {
   "cell_type": "code",
   "execution_count": null,
   "metadata": {
    "collapsed": true
   },
   "outputs": [],
   "source": []
  },
  {
   "cell_type": "markdown",
   "metadata": {},
   "source": [
    "## 評価指標"
   ]
  },
  {
   "cell_type": "code",
   "execution_count": 81,
   "metadata": {
    "collapsed": false,
    "scrolled": false
   },
   "outputs": [
    {
     "name": "stdout",
     "output_type": "stream",
     "text": [
      "Accuracy: 1.0\n",
      "              precision    recall  f1-score   support\n",
      "\n",
      "not Survived       1.00      1.00      1.00       100\n",
      "    Survived       1.00      1.00      1.00        79\n",
      "\n",
      " avg / total       1.00      1.00      1.00       179\n",
      "\n"
     ]
    }
   ],
   "source": [
    "# SVM(線形カーネル)で分類し、評価指標を算出\n",
    "clf = svm.SVC(kernel='linear', C=1, probability=True).fit(X_train, y_train)\n",
    "print u\"Accuracy:\", clf.score(X_test, y_test)   \n",
    "y_pred = clf.predict(X_test)\n",
    "print classification_report(y_test, y_pred, target_names=[\"not Survived\", \"Survived\"])"
   ]
  },
  {
   "cell_type": "markdown",
   "metadata": {},
   "source": [
    "### ROC曲線とAUC"
   ]
  },
  {
   "cell_type": "code",
   "execution_count": 83,
   "metadata": {
    "collapsed": false
   },
   "outputs": [
    {
     "data": {
      "image/png": "[encoded data removed]",
      "text/plain": [
       "<matplotlib.figure.Figure at 0x10a58cdd0>"
      ]
     },
     "metadata": {},
     "output_type": "display_data"
    }
   ],
   "source": [
    "prob = clf.predict_proba(X_test)[:,1]\n",
    "fpr, tpr, thresholds= roc_curve(y_test, prob)\n",
    "\n",
    "plt.figure(figsize=(8,6))\n",
    "plt.xlim(-0.1, 1)\n",
    "plt.ylim(0, 1.1)\n",
    "plt.plot(fpr, tpr)\n",
    "plt.title(\"ROC curve\")\n",
    "plt.xlabel(\"False Positive Rate\")\n",
    "plt.ylabel(\"True Positive Rate\")\n",
    "plt.show()"
   ]
  },
  {
   "cell_type": "code",
   "execution_count": 70,
   "metadata": {
    "collapsed": false
   },
   "outputs": [
    {
     "name": "stdout",
     "output_type": "stream",
     "text": [
      "Area Under Curve: 1.000\n"
     ]
    }
   ],
   "source": [
    "precision, recall, thresholds = precision_recall_curve(y_test, prob)\n",
    "area = auc(recall, precision)\n",
    "print \"Area Under Curve: {0:.3f}\".format(area)"
   ]
  },
  {
   "cell_type": "code",
   "execution_count": null,
   "metadata": {
    "collapsed": false
   },
   "outputs": [],
   "source": []
  },
  {
   "cell_type": "code",
   "execution_count": null,
   "metadata": {
    "collapsed": true
   },
   "outputs": [],
   "source": []
  }
 ],
 "metadata": {
  "kernelspec": {
   "display_name": "Python 2",
   "language": "python",
   "name": "python2"
  },
  "language_info": {
   "codemirror_mode": {
    "name": "ipython",
    "version": 2
   },
   "file_extension": ".py",
   "mimetype": "text/x-python",
   "name": "python",
   "nbconvert_exporter": "python",
   "pygments_lexer": "ipython2",
   "version": "2.7.11"
  }
 },
 "nbformat": 4,
 "nbformat_minor": 0
}
